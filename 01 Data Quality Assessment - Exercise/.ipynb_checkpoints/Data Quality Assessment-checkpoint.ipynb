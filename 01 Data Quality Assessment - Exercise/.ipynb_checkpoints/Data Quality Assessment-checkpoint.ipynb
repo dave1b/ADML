{
 "cells": [
  {
   "cell_type": "markdown",
   "metadata": {},
   "source": [
    "# Assignment on explorative data analysis"
   ]
  },
  {
   "cell_type": "markdown",
   "metadata": {},
   "source": [
    "Dear students,\n",
    "\n",
    "this introductory course to machine learning has not started yet. However, an industry partner just provided us with a real data set and is now quite eager to hear whether machine learning applied to this data can open up new opportunities or improve their current business. We therefore ask you to conduct an explorative data analysis and to elaborate on how machine learning could bring our partner to a next level. We award points for non-trivial insights that emerge from your data analysis as well as for reasonable advises to our industry partner. Try your best even when you feel like being thrown in at the deep end."
   ]
  },
  {
   "cell_type": "markdown",
   "metadata": {},
   "source": [
    "## Schifffahrtsgesellschaft Vierwaldstättersee "
   ]
  },
  {
   "cell_type": "markdown",
   "metadata": {},
   "source": []
  },
  {
   "cell_type": "markdown",
   "metadata": {},
   "source": [
    "We are given a data set containing the number of passengers per day along with a lot more information. Conduct an explorative analysis, uncover interesting and non-trivial insights and speculate on how your insights would boost our partner’s business."
   ]
  },
  {
   "cell_type": "markdown",
   "metadata": {},
   "source": [
    "### Imports"
   ]
  },
  {
   "cell_type": "code",
   "execution_count": 3,
   "metadata": {},
   "outputs": [],
   "source": [
    "import pandas as pd\n",
    "import seaborn as sns\n",
    "import matplotlib.pyplot as plt\n",
    "sns.set()"
   ]
  },
  {
   "cell_type": "markdown",
   "metadata": {},
   "source": [
    "### Load the data\n",
    "> Load the dataset `sgv.csv` as a pandas dataframe. *Hint: You have to use the argument `sep`*"
   ]
  },
  {
   "cell_type": "code",
   "execution_count": 4,
   "metadata": {
    "lines_to_next_cell": 2,
    "solution2": "shown",
    "solution2_first": true
   },
   "outputs": [],
   "source": [
    "# Load the dataset"
   ]
  },
  {
   "cell_type": "code",
   "execution_count": 5,
   "metadata": {
    "solution2": "shown"
   },
   "outputs": [],
   "source": [
    "df = pd.read_csv(\"sgv.csv\", sep=\";\")"
   ]
  },
  {
   "cell_type": "markdown",
   "metadata": {},
   "source": [
    "> Verify that the data has 18 columns."
   ]
  },
  {
   "cell_type": "code",
   "execution_count": 6,
   "metadata": {
    "solution2": "shown",
    "solution2_first": true
   },
   "outputs": [],
   "source": [
    "# Verify the shape"
   ]
  },
  {
   "cell_type": "code",
   "execution_count": 7,
   "metadata": {
    "solution2": "shown"
   },
   "outputs": [
    {
     "data": {
      "text/plain": [
       "(3652, 18)"
      ]
     },
     "execution_count": 7,
     "metadata": {},
     "output_type": "execute_result"
    }
   ],
   "source": [
    "df.shape"
   ]
  },
  {
   "cell_type": "markdown",
   "metadata": {},
   "source": [
    "> Display the first 5 rows."
   ]
  },
  {
   "cell_type": "code",
   "execution_count": 8,
   "metadata": {
    "lines_to_next_cell": 2,
    "solution2": "shown",
    "solution2_first": true
   },
   "outputs": [],
   "source": [
    "# Display the first 5 rows"
   ]
  },
  {
   "cell_type": "code",
   "execution_count": 9,
   "metadata": {
    "solution2": "shown"
   },
   "outputs": [
    {
     "data": {
      "text/html": [
       "<div>\n",
       "<style scoped>\n",
       "    .dataframe tbody tr th:only-of-type {\n",
       "        vertical-align: middle;\n",
       "    }\n",
       "\n",
       "    .dataframe tbody tr th {\n",
       "        vertical-align: top;\n",
       "    }\n",
       "\n",
       "    .dataframe thead th {\n",
       "        text-align: right;\n",
       "    }\n",
       "</style>\n",
       "<table border=\"1\" class=\"dataframe\">\n",
       "  <thead>\n",
       "    <tr style=\"text-align: right;\">\n",
       "      <th></th>\n",
       "      <th>Passengers</th>\n",
       "      <th>Revision</th>\n",
       "      <th>Temperature_Midday</th>\n",
       "      <th>Sunshine_Percentage</th>\n",
       "      <th>Snow_5Days</th>\n",
       "      <th>Temperature_Deviation</th>\n",
       "      <th>Temperature_Max</th>\n",
       "      <th>Temperature_Min</th>\n",
       "      <th>Temperature_Evening</th>\n",
       "      <th>Precipiation_5Days</th>\n",
       "      <th>Precipiation</th>\n",
       "      <th>Wind</th>\n",
       "      <th>Holiday</th>\n",
       "      <th>Special_Event</th>\n",
       "      <th>Year</th>\n",
       "      <th>Day_in_Month</th>\n",
       "      <th>Day</th>\n",
       "      <th>Month</th>\n",
       "    </tr>\n",
       "  </thead>\n",
       "  <tbody>\n",
       "    <tr>\n",
       "      <th>0</th>\n",
       "      <td>2580</td>\n",
       "      <td>0</td>\n",
       "      <td>4.9</td>\n",
       "      <td>52.0</td>\n",
       "      <td>5.0</td>\n",
       "      <td>2.3</td>\n",
       "      <td>5.1</td>\n",
       "      <td>-0.8</td>\n",
       "      <td>0.9</td>\n",
       "      <td>12.1</td>\n",
       "      <td>4.6</td>\n",
       "      <td>9.9</td>\n",
       "      <td>1</td>\n",
       "      <td>1</td>\n",
       "      <td>2006</td>\n",
       "      <td>1</td>\n",
       "      <td>Sunday</td>\n",
       "      <td>January</td>\n",
       "    </tr>\n",
       "    <tr>\n",
       "      <th>1</th>\n",
       "      <td>1973</td>\n",
       "      <td>0</td>\n",
       "      <td>2.4</td>\n",
       "      <td>0.0</td>\n",
       "      <td>5.0</td>\n",
       "      <td>2.3</td>\n",
       "      <td>3.4</td>\n",
       "      <td>0.6</td>\n",
       "      <td>2.7</td>\n",
       "      <td>12.4</td>\n",
       "      <td>0.3</td>\n",
       "      <td>6.1</td>\n",
       "      <td>1</td>\n",
       "      <td>1</td>\n",
       "      <td>2006</td>\n",
       "      <td>2</td>\n",
       "      <td>Monday</td>\n",
       "      <td>January</td>\n",
       "    </tr>\n",
       "    <tr>\n",
       "      <th>2</th>\n",
       "      <td>1044</td>\n",
       "      <td>0</td>\n",
       "      <td>2.2</td>\n",
       "      <td>11.0</td>\n",
       "      <td>5.0</td>\n",
       "      <td>1.6</td>\n",
       "      <td>2.9</td>\n",
       "      <td>-1.6</td>\n",
       "      <td>1.8</td>\n",
       "      <td>12.4</td>\n",
       "      <td>0.0</td>\n",
       "      <td>5.3</td>\n",
       "      <td>0</td>\n",
       "      <td>0</td>\n",
       "      <td>2006</td>\n",
       "      <td>3</td>\n",
       "      <td>Tuesday</td>\n",
       "      <td>January</td>\n",
       "    </tr>\n",
       "    <tr>\n",
       "      <th>3</th>\n",
       "      <td>980</td>\n",
       "      <td>0</td>\n",
       "      <td>0.8</td>\n",
       "      <td>0.0</td>\n",
       "      <td>0.0</td>\n",
       "      <td>0.2</td>\n",
       "      <td>1.1</td>\n",
       "      <td>-1.0</td>\n",
       "      <td>0.6</td>\n",
       "      <td>10.3</td>\n",
       "      <td>0.0</td>\n",
       "      <td>6.4</td>\n",
       "      <td>0</td>\n",
       "      <td>0</td>\n",
       "      <td>2006</td>\n",
       "      <td>4</td>\n",
       "      <td>Wednesday</td>\n",
       "      <td>January</td>\n",
       "    </tr>\n",
       "    <tr>\n",
       "      <th>4</th>\n",
       "      <td>1139</td>\n",
       "      <td>0</td>\n",
       "      <td>-0.3</td>\n",
       "      <td>88.0</td>\n",
       "      <td>0.0</td>\n",
       "      <td>-1.8</td>\n",
       "      <td>0.9</td>\n",
       "      <td>-5.4</td>\n",
       "      <td>-3.2</td>\n",
       "      <td>0.3</td>\n",
       "      <td>0.0</td>\n",
       "      <td>4.5</td>\n",
       "      <td>0</td>\n",
       "      <td>0</td>\n",
       "      <td>2006</td>\n",
       "      <td>5</td>\n",
       "      <td>Thursday</td>\n",
       "      <td>January</td>\n",
       "    </tr>\n",
       "  </tbody>\n",
       "</table>\n",
       "</div>"
      ],
      "text/plain": [
       "   Passengers  Revision  Temperature_Midday  Sunshine_Percentage  Snow_5Days  \\\n",
       "0        2580         0                 4.9                 52.0         5.0   \n",
       "1        1973         0                 2.4                  0.0         5.0   \n",
       "2        1044         0                 2.2                 11.0         5.0   \n",
       "3         980         0                 0.8                  0.0         0.0   \n",
       "4        1139         0                -0.3                 88.0         0.0   \n",
       "\n",
       "   Temperature_Deviation  Temperature_Max  Temperature_Min  \\\n",
       "0                    2.3              5.1             -0.8   \n",
       "1                    2.3              3.4              0.6   \n",
       "2                    1.6              2.9             -1.6   \n",
       "3                    0.2              1.1             -1.0   \n",
       "4                   -1.8              0.9             -5.4   \n",
       "\n",
       "   Temperature_Evening  Precipiation_5Days  Precipiation  Wind  Holiday  \\\n",
       "0                  0.9                12.1           4.6   9.9        1   \n",
       "1                  2.7                12.4           0.3   6.1        1   \n",
       "2                  1.8                12.4           0.0   5.3        0   \n",
       "3                  0.6                10.3           0.0   6.4        0   \n",
       "4                 -3.2                 0.3           0.0   4.5        0   \n",
       "\n",
       "   Special_Event  Year  Day_in_Month        Day    Month  \n",
       "0              1  2006             1     Sunday  January  \n",
       "1              1  2006             2     Monday  January  \n",
       "2              0  2006             3    Tuesday  January  \n",
       "3              0  2006             4  Wednesday  January  \n",
       "4              0  2006             5   Thursday  January  "
      ]
     },
     "execution_count": 9,
     "metadata": {},
     "output_type": "execute_result"
    }
   ],
   "source": [
    "df.head(n=5)"
   ]
  },
  {
   "cell_type": "markdown",
   "metadata": {},
   "source": [
    "It looks like the date is defined in 3 separate columns. Let's merge them together"
   ]
  },
  {
   "cell_type": "code",
   "execution_count": 10,
   "metadata": {},
   "outputs": [
    {
     "data": {
      "text/html": [
       "<div>\n",
       "<style scoped>\n",
       "    .dataframe tbody tr th:only-of-type {\n",
       "        vertical-align: middle;\n",
       "    }\n",
       "\n",
       "    .dataframe tbody tr th {\n",
       "        vertical-align: top;\n",
       "    }\n",
       "\n",
       "    .dataframe thead th {\n",
       "        text-align: right;\n",
       "    }\n",
       "</style>\n",
       "<table border=\"1\" class=\"dataframe\">\n",
       "  <thead>\n",
       "    <tr style=\"text-align: right;\">\n",
       "      <th></th>\n",
       "      <th>Passengers</th>\n",
       "      <th>Revision</th>\n",
       "      <th>Temperature_Midday</th>\n",
       "      <th>Sunshine_Percentage</th>\n",
       "      <th>Snow_5Days</th>\n",
       "      <th>Temperature_Deviation</th>\n",
       "      <th>Temperature_Max</th>\n",
       "      <th>Temperature_Min</th>\n",
       "      <th>Temperature_Evening</th>\n",
       "      <th>Precipiation_5Days</th>\n",
       "      <th>Precipiation</th>\n",
       "      <th>Wind</th>\n",
       "      <th>Holiday</th>\n",
       "      <th>Special_Event</th>\n",
       "      <th>Year</th>\n",
       "      <th>Day_in_Month</th>\n",
       "      <th>Day</th>\n",
       "      <th>Month</th>\n",
       "      <th>Date</th>\n",
       "    </tr>\n",
       "  </thead>\n",
       "  <tbody>\n",
       "    <tr>\n",
       "      <th>0</th>\n",
       "      <td>2580</td>\n",
       "      <td>0</td>\n",
       "      <td>4.9</td>\n",
       "      <td>52.0</td>\n",
       "      <td>5.0</td>\n",
       "      <td>2.3</td>\n",
       "      <td>5.1</td>\n",
       "      <td>-0.8</td>\n",
       "      <td>0.9</td>\n",
       "      <td>12.1</td>\n",
       "      <td>4.6</td>\n",
       "      <td>9.9</td>\n",
       "      <td>1</td>\n",
       "      <td>1</td>\n",
       "      <td>2006</td>\n",
       "      <td>1</td>\n",
       "      <td>Sunday</td>\n",
       "      <td>January</td>\n",
       "      <td>2006-01-01</td>\n",
       "    </tr>\n",
       "    <tr>\n",
       "      <th>1</th>\n",
       "      <td>1973</td>\n",
       "      <td>0</td>\n",
       "      <td>2.4</td>\n",
       "      <td>0.0</td>\n",
       "      <td>5.0</td>\n",
       "      <td>2.3</td>\n",
       "      <td>3.4</td>\n",
       "      <td>0.6</td>\n",
       "      <td>2.7</td>\n",
       "      <td>12.4</td>\n",
       "      <td>0.3</td>\n",
       "      <td>6.1</td>\n",
       "      <td>1</td>\n",
       "      <td>1</td>\n",
       "      <td>2006</td>\n",
       "      <td>2</td>\n",
       "      <td>Monday</td>\n",
       "      <td>January</td>\n",
       "      <td>2006-01-02</td>\n",
       "    </tr>\n",
       "    <tr>\n",
       "      <th>2</th>\n",
       "      <td>1044</td>\n",
       "      <td>0</td>\n",
       "      <td>2.2</td>\n",
       "      <td>11.0</td>\n",
       "      <td>5.0</td>\n",
       "      <td>1.6</td>\n",
       "      <td>2.9</td>\n",
       "      <td>-1.6</td>\n",
       "      <td>1.8</td>\n",
       "      <td>12.4</td>\n",
       "      <td>0.0</td>\n",
       "      <td>5.3</td>\n",
       "      <td>0</td>\n",
       "      <td>0</td>\n",
       "      <td>2006</td>\n",
       "      <td>3</td>\n",
       "      <td>Tuesday</td>\n",
       "      <td>January</td>\n",
       "      <td>2006-01-03</td>\n",
       "    </tr>\n",
       "    <tr>\n",
       "      <th>3</th>\n",
       "      <td>980</td>\n",
       "      <td>0</td>\n",
       "      <td>0.8</td>\n",
       "      <td>0.0</td>\n",
       "      <td>0.0</td>\n",
       "      <td>0.2</td>\n",
       "      <td>1.1</td>\n",
       "      <td>-1.0</td>\n",
       "      <td>0.6</td>\n",
       "      <td>10.3</td>\n",
       "      <td>0.0</td>\n",
       "      <td>6.4</td>\n",
       "      <td>0</td>\n",
       "      <td>0</td>\n",
       "      <td>2006</td>\n",
       "      <td>4</td>\n",
       "      <td>Wednesday</td>\n",
       "      <td>January</td>\n",
       "      <td>2006-01-04</td>\n",
       "    </tr>\n",
       "    <tr>\n",
       "      <th>4</th>\n",
       "      <td>1139</td>\n",
       "      <td>0</td>\n",
       "      <td>-0.3</td>\n",
       "      <td>88.0</td>\n",
       "      <td>0.0</td>\n",
       "      <td>-1.8</td>\n",
       "      <td>0.9</td>\n",
       "      <td>-5.4</td>\n",
       "      <td>-3.2</td>\n",
       "      <td>0.3</td>\n",
       "      <td>0.0</td>\n",
       "      <td>4.5</td>\n",
       "      <td>0</td>\n",
       "      <td>0</td>\n",
       "      <td>2006</td>\n",
       "      <td>5</td>\n",
       "      <td>Thursday</td>\n",
       "      <td>January</td>\n",
       "      <td>2006-01-05</td>\n",
       "    </tr>\n",
       "  </tbody>\n",
       "</table>\n",
       "</div>"
      ],
      "text/plain": [
       "   Passengers  Revision  Temperature_Midday  Sunshine_Percentage  Snow_5Days  \\\n",
       "0        2580         0                 4.9                 52.0         5.0   \n",
       "1        1973         0                 2.4                  0.0         5.0   \n",
       "2        1044         0                 2.2                 11.0         5.0   \n",
       "3         980         0                 0.8                  0.0         0.0   \n",
       "4        1139         0                -0.3                 88.0         0.0   \n",
       "\n",
       "   Temperature_Deviation  Temperature_Max  Temperature_Min  \\\n",
       "0                    2.3              5.1             -0.8   \n",
       "1                    2.3              3.4              0.6   \n",
       "2                    1.6              2.9             -1.6   \n",
       "3                    0.2              1.1             -1.0   \n",
       "4                   -1.8              0.9             -5.4   \n",
       "\n",
       "   Temperature_Evening  Precipiation_5Days  Precipiation  Wind  Holiday  \\\n",
       "0                  0.9                12.1           4.6   9.9        1   \n",
       "1                  2.7                12.4           0.3   6.1        1   \n",
       "2                  1.8                12.4           0.0   5.3        0   \n",
       "3                  0.6                10.3           0.0   6.4        0   \n",
       "4                 -3.2                 0.3           0.0   4.5        0   \n",
       "\n",
       "   Special_Event  Year  Day_in_Month        Day    Month       Date  \n",
       "0              1  2006             1     Sunday  January 2006-01-01  \n",
       "1              1  2006             2     Monday  January 2006-01-02  \n",
       "2              0  2006             3    Tuesday  January 2006-01-03  \n",
       "3              0  2006             4  Wednesday  January 2006-01-04  \n",
       "4              0  2006             5   Thursday  January 2006-01-05  "
      ]
     },
     "execution_count": 10,
     "metadata": {},
     "output_type": "execute_result"
    }
   ],
   "source": [
    "df['Date'] = df['Month'].astype(str) + '-' + df['Day_in_Month'].astype(str) + '-' + df['Year'].astype(str)\n",
    "df['Date'] = pd.to_datetime(df['Date'], errors='coerce')\n",
    "df.head()"
   ]
  },
  {
   "cell_type": "markdown",
   "metadata": {},
   "source": [
    "### Handle datatypes"
   ]
  },
  {
   "cell_type": "markdown",
   "metadata": {},
   "source": [
    "It's always a good idea to take a look at the data types. \n",
    "\n",
    ">Print the datatype of each column."
   ]
  },
  {
   "cell_type": "code",
   "execution_count": 11,
   "metadata": {
    "solution2": "shown",
    "solution2_first": true
   },
   "outputs": [],
   "source": [
    "# Print the datatype of each column."
   ]
  },
  {
   "cell_type": "code",
   "execution_count": 12,
   "metadata": {
    "solution2": "shown"
   },
   "outputs": [
    {
     "data": {
      "text/plain": [
       "Passengers                        int64\n",
       "Revision                          int64\n",
       "Temperature_Midday              float64\n",
       "Sunshine_Percentage             float64\n",
       "Snow_5Days                      float64\n",
       "Temperature_Deviation           float64\n",
       "Temperature_Max                 float64\n",
       "Temperature_Min                 float64\n",
       "Temperature_Evening             float64\n",
       "Precipiation_5Days              float64\n",
       "Precipiation                    float64\n",
       "Wind                            float64\n",
       "Holiday                           int64\n",
       "Special_Event                     int64\n",
       "Year                              int64\n",
       "Day_in_Month                      int64\n",
       "Day                              object\n",
       "Month                            object\n",
       "Date                     datetime64[ns]\n",
       "dtype: object"
      ]
     },
     "execution_count": 12,
     "metadata": {},
     "output_type": "execute_result"
    }
   ],
   "source": [
    "df.dtypes"
   ]
  },
  {
   "cell_type": "markdown",
   "metadata": {},
   "source": [
    "The columns *Month* and *Day* are categorical and nominal. \n",
    "\n",
    "> Encode them as pandas datatype `categorical` (you can use [pd.DataFrame.astype()](https://pandas.pydata.org/pandas-docs/stable/generated/pandas.DataFrame.astype.html)) and print the dtypes afterwards."
   ]
  },
  {
   "cell_type": "code",
   "execution_count": 13,
   "metadata": {
    "solution2": "shown",
    "solution2_first": true
   },
   "outputs": [],
   "source": [
    "# Encode them as pandas datatype categorical"
   ]
  },
  {
   "cell_type": "code",
   "execution_count": 14,
   "metadata": {
    "solution2": "shown"
   },
   "outputs": [
    {
     "data": {
      "text/plain": [
       "Passengers                        int64\n",
       "Revision                          int64\n",
       "Temperature_Midday              float64\n",
       "Sunshine_Percentage             float64\n",
       "Snow_5Days                      float64\n",
       "Temperature_Deviation           float64\n",
       "Temperature_Max                 float64\n",
       "Temperature_Min                 float64\n",
       "Temperature_Evening             float64\n",
       "Precipiation_5Days              float64\n",
       "Precipiation                    float64\n",
       "Wind                            float64\n",
       "Holiday                           int64\n",
       "Special_Event                     int64\n",
       "Year                              int64\n",
       "Day_in_Month                      int64\n",
       "Day                            category\n",
       "Month                          category\n",
       "Date                     datetime64[ns]\n",
       "dtype: object"
      ]
     },
     "execution_count": 14,
     "metadata": {},
     "output_type": "execute_result"
    }
   ],
   "source": [
    "df.Month = df.Month.astype('category')\n",
    "df.Day = df.Day.astype('category')\n",
    "df.dtypes"
   ]
  },
  {
   "cell_type": "markdown",
   "metadata": {},
   "source": [
    "### Check for duplicates\n",
    "Let's begin by checking for duplicate rows. With the data at hand, exact duplicates should not occur. Exact duplicates thus hint at an anomaly from entering, processing or extracting the data (which is in fact very common)."
   ]
  },
  {
   "cell_type": "markdown",
   "metadata": {},
   "source": [
    "> Find out if there are rows that are exact duplicates. If there are, examine and possibly drop them. You can use [pd.DataFrame.duplicated()](https://pandas.pydata.org/pandas-docs/stable/generated/pandas.DataFrame.duplicated.html) and [pd.DataFrame.drop_duplicates()](https://pandas.pydata.org/pandas-docs/stable/generated/pandas.DataFrame.drop_duplicates.html)."
   ]
  },
  {
   "cell_type": "code",
   "execution_count": 15,
   "metadata": {},
   "outputs": [
    {
     "data": {
      "text/html": [
       "<div>\n",
       "<style scoped>\n",
       "    .dataframe tbody tr th:only-of-type {\n",
       "        vertical-align: middle;\n",
       "    }\n",
       "\n",
       "    .dataframe tbody tr th {\n",
       "        vertical-align: top;\n",
       "    }\n",
       "\n",
       "    .dataframe thead th {\n",
       "        text-align: right;\n",
       "    }\n",
       "</style>\n",
       "<table border=\"1\" class=\"dataframe\">\n",
       "  <thead>\n",
       "    <tr style=\"text-align: right;\">\n",
       "      <th></th>\n",
       "      <th>Passengers</th>\n",
       "      <th>Revision</th>\n",
       "      <th>Temperature_Midday</th>\n",
       "      <th>Sunshine_Percentage</th>\n",
       "      <th>Snow_5Days</th>\n",
       "      <th>Temperature_Deviation</th>\n",
       "      <th>Temperature_Max</th>\n",
       "      <th>Temperature_Min</th>\n",
       "      <th>Temperature_Evening</th>\n",
       "      <th>Precipiation_5Days</th>\n",
       "      <th>Precipiation</th>\n",
       "      <th>Wind</th>\n",
       "      <th>Holiday</th>\n",
       "      <th>Special_Event</th>\n",
       "      <th>Year</th>\n",
       "      <th>Day_in_Month</th>\n",
       "      <th>Day</th>\n",
       "      <th>Month</th>\n",
       "      <th>Date</th>\n",
       "    </tr>\n",
       "  </thead>\n",
       "  <tbody>\n",
       "    <tr>\n",
       "      <th>0</th>\n",
       "      <td>2580</td>\n",
       "      <td>0</td>\n",
       "      <td>4.9</td>\n",
       "      <td>52.0</td>\n",
       "      <td>5.0</td>\n",
       "      <td>2.3</td>\n",
       "      <td>5.1</td>\n",
       "      <td>-0.8</td>\n",
       "      <td>0.9</td>\n",
       "      <td>12.1</td>\n",
       "      <td>4.6</td>\n",
       "      <td>9.9</td>\n",
       "      <td>1</td>\n",
       "      <td>1</td>\n",
       "      <td>2006</td>\n",
       "      <td>1</td>\n",
       "      <td>Sunday</td>\n",
       "      <td>January</td>\n",
       "      <td>2006-01-01</td>\n",
       "    </tr>\n",
       "    <tr>\n",
       "      <th>1</th>\n",
       "      <td>1973</td>\n",
       "      <td>0</td>\n",
       "      <td>2.4</td>\n",
       "      <td>0.0</td>\n",
       "      <td>5.0</td>\n",
       "      <td>2.3</td>\n",
       "      <td>3.4</td>\n",
       "      <td>0.6</td>\n",
       "      <td>2.7</td>\n",
       "      <td>12.4</td>\n",
       "      <td>0.3</td>\n",
       "      <td>6.1</td>\n",
       "      <td>1</td>\n",
       "      <td>1</td>\n",
       "      <td>2006</td>\n",
       "      <td>2</td>\n",
       "      <td>Monday</td>\n",
       "      <td>January</td>\n",
       "      <td>2006-01-02</td>\n",
       "    </tr>\n",
       "    <tr>\n",
       "      <th>2</th>\n",
       "      <td>1044</td>\n",
       "      <td>0</td>\n",
       "      <td>2.2</td>\n",
       "      <td>11.0</td>\n",
       "      <td>5.0</td>\n",
       "      <td>1.6</td>\n",
       "      <td>2.9</td>\n",
       "      <td>-1.6</td>\n",
       "      <td>1.8</td>\n",
       "      <td>12.4</td>\n",
       "      <td>0.0</td>\n",
       "      <td>5.3</td>\n",
       "      <td>0</td>\n",
       "      <td>0</td>\n",
       "      <td>2006</td>\n",
       "      <td>3</td>\n",
       "      <td>Tuesday</td>\n",
       "      <td>January</td>\n",
       "      <td>2006-01-03</td>\n",
       "    </tr>\n",
       "    <tr>\n",
       "      <th>3</th>\n",
       "      <td>980</td>\n",
       "      <td>0</td>\n",
       "      <td>0.8</td>\n",
       "      <td>0.0</td>\n",
       "      <td>0.0</td>\n",
       "      <td>0.2</td>\n",
       "      <td>1.1</td>\n",
       "      <td>-1.0</td>\n",
       "      <td>0.6</td>\n",
       "      <td>10.3</td>\n",
       "      <td>0.0</td>\n",
       "      <td>6.4</td>\n",
       "      <td>0</td>\n",
       "      <td>0</td>\n",
       "      <td>2006</td>\n",
       "      <td>4</td>\n",
       "      <td>Wednesday</td>\n",
       "      <td>January</td>\n",
       "      <td>2006-01-04</td>\n",
       "    </tr>\n",
       "    <tr>\n",
       "      <th>4</th>\n",
       "      <td>1139</td>\n",
       "      <td>0</td>\n",
       "      <td>-0.3</td>\n",
       "      <td>88.0</td>\n",
       "      <td>0.0</td>\n",
       "      <td>-1.8</td>\n",
       "      <td>0.9</td>\n",
       "      <td>-5.4</td>\n",
       "      <td>-3.2</td>\n",
       "      <td>0.3</td>\n",
       "      <td>0.0</td>\n",
       "      <td>4.5</td>\n",
       "      <td>0</td>\n",
       "      <td>0</td>\n",
       "      <td>2006</td>\n",
       "      <td>5</td>\n",
       "      <td>Thursday</td>\n",
       "      <td>January</td>\n",
       "      <td>2006-01-05</td>\n",
       "    </tr>\n",
       "  </tbody>\n",
       "</table>\n",
       "</div>"
      ],
      "text/plain": [
       "   Passengers  Revision  Temperature_Midday  Sunshine_Percentage  Snow_5Days  \\\n",
       "0        2580         0                 4.9                 52.0         5.0   \n",
       "1        1973         0                 2.4                  0.0         5.0   \n",
       "2        1044         0                 2.2                 11.0         5.0   \n",
       "3         980         0                 0.8                  0.0         0.0   \n",
       "4        1139         0                -0.3                 88.0         0.0   \n",
       "\n",
       "   Temperature_Deviation  Temperature_Max  Temperature_Min  \\\n",
       "0                    2.3              5.1             -0.8   \n",
       "1                    2.3              3.4              0.6   \n",
       "2                    1.6              2.9             -1.6   \n",
       "3                    0.2              1.1             -1.0   \n",
       "4                   -1.8              0.9             -5.4   \n",
       "\n",
       "   Temperature_Evening  Precipiation_5Days  Precipiation  Wind  Holiday  \\\n",
       "0                  0.9                12.1           4.6   9.9        1   \n",
       "1                  2.7                12.4           0.3   6.1        1   \n",
       "2                  1.8                12.4           0.0   5.3        0   \n",
       "3                  0.6                10.3           0.0   6.4        0   \n",
       "4                 -3.2                 0.3           0.0   4.5        0   \n",
       "\n",
       "   Special_Event  Year  Day_in_Month        Day    Month       Date  \n",
       "0              1  2006             1     Sunday  January 2006-01-01  \n",
       "1              1  2006             2     Monday  January 2006-01-02  \n",
       "2              0  2006             3    Tuesday  January 2006-01-03  \n",
       "3              0  2006             4  Wednesday  January 2006-01-04  \n",
       "4              0  2006             5   Thursday  January 2006-01-05  "
      ]
     },
     "execution_count": 15,
     "metadata": {},
     "output_type": "execute_result"
    }
   ],
   "source": [
    "# check if they are any\n",
    "df.duplicated()"
   ]
  },
  {
   "cell_type": "code",
   "execution_count": 16,
   "metadata": {},
   "outputs": [
    {
     "data": {
      "text/plain": [
       "0       False\n",
       "1       False\n",
       "2       False\n",
       "3       False\n",
       "4       False\n",
       "        ...  \n",
       "3647    False\n",
       "3648    False\n",
       "3649    False\n",
       "3650    False\n",
       "3651    False\n",
       "Length: 3652, dtype: bool"
      ]
     },
     "execution_count": 16,
     "metadata": {},
     "output_type": "execute_result"
    }
   ],
   "source": [
    "# if there are, print them...\n",
    "df.duplicated(keep=False)\n"
   ]
  },
  {
   "cell_type": "code",
   "execution_count": 17,
   "metadata": {
    "solution2": "shown",
    "solution2_first": true
   },
   "outputs": [],
   "source": [
    "# ... and drop them"
   ]
  },
  {
   "cell_type": "code",
   "execution_count": 18,
   "metadata": {
    "code_folding": [],
    "scrolled": true,
    "solution2": "shown"
   },
   "outputs": [
    {
     "data": {
      "text/plain": [
       "False"
      ]
     },
     "execution_count": 18,
     "metadata": {},
     "output_type": "execute_result"
    }
   ],
   "source": [
    "# check if they are any\n",
    "df.duplicated().any()"
   ]
  },
  {
   "cell_type": "markdown",
   "metadata": {
    "solution2": "shown"
   },
   "source": [
    "There are no duplicates in our dataset. If there would be any, we could display and drop them with the following commands:"
   ]
  },
  {
   "cell_type": "code",
   "execution_count": 19,
   "metadata": {
    "scrolled": true,
    "solution2": "shown"
   },
   "outputs": [
    {
     "data": {
      "text/html": [
       "<div>\n",
       "<style scoped>\n",
       "    .dataframe tbody tr th:only-of-type {\n",
       "        vertical-align: middle;\n",
       "    }\n",
       "\n",
       "    .dataframe tbody tr th {\n",
       "        vertical-align: top;\n",
       "    }\n",
       "\n",
       "    .dataframe thead th {\n",
       "        text-align: right;\n",
       "    }\n",
       "</style>\n",
       "<table border=\"1\" class=\"dataframe\">\n",
       "  <thead>\n",
       "    <tr style=\"text-align: right;\">\n",
       "      <th></th>\n",
       "      <th>Passengers</th>\n",
       "      <th>Revision</th>\n",
       "      <th>Temperature_Midday</th>\n",
       "      <th>Sunshine_Percentage</th>\n",
       "      <th>Snow_5Days</th>\n",
       "      <th>Temperature_Deviation</th>\n",
       "      <th>Temperature_Max</th>\n",
       "      <th>Temperature_Min</th>\n",
       "      <th>Temperature_Evening</th>\n",
       "      <th>Precipiation_5Days</th>\n",
       "      <th>Precipiation</th>\n",
       "      <th>Wind</th>\n",
       "      <th>Holiday</th>\n",
       "      <th>Special_Event</th>\n",
       "      <th>Year</th>\n",
       "      <th>Day_in_Month</th>\n",
       "      <th>Day</th>\n",
       "      <th>Month</th>\n",
       "      <th>Date</th>\n",
       "    </tr>\n",
       "  </thead>\n",
       "  <tbody>\n",
       "  </tbody>\n",
       "</table>\n",
       "</div>"
      ],
      "text/plain": [
       "Empty DataFrame\n",
       "Columns: [Passengers, Revision, Temperature_Midday, Sunshine_Percentage, Snow_5Days, Temperature_Deviation, Temperature_Max, Temperature_Min, Temperature_Evening, Precipiation_5Days, Precipiation, Wind, Holiday, Special_Event, Year, Day_in_Month, Day, Month, Date]\n",
       "Index: []"
      ]
     },
     "execution_count": 19,
     "metadata": {},
     "output_type": "execute_result"
    }
   ],
   "source": [
    "# if there would be duplicates, we could display them with the following command:\n",
    "df[df.duplicated(keep=False)].head(n=10)"
   ]
  },
  {
   "cell_type": "code",
   "execution_count": 20,
   "metadata": {
    "solution2": "shown"
   },
   "outputs": [],
   "source": [
    "# The duplicates could be dropped by using the following command:\n",
    "df.drop_duplicates(inplace=True)"
   ]
  },
  {
   "cell_type": "markdown",
   "metadata": {},
   "source": [
    "### Null Values\n",
    "> Check if there are any null values in this dataset and replace them with the mean."
   ]
  },
  {
   "cell_type": "code",
   "execution_count": 21,
   "metadata": {
    "lines_to_next_cell": 2
   },
   "outputs": [],
   "source": [
    "# Check if there are any null values"
   ]
  },
  {
   "cell_type": "code",
   "execution_count": 22,
   "metadata": {
    "solution2": "shown",
    "solution2_first": true
   },
   "outputs": [],
   "source": [
    "# ... and replace them with the mean."
   ]
  },
  {
   "cell_type": "code",
   "execution_count": 23,
   "metadata": {
    "scrolled": true,
    "solution2": "shown"
   },
   "outputs": [
    {
     "data": {
      "text/plain": [
       "True"
      ]
     },
     "execution_count": 23,
     "metadata": {},
     "output_type": "execute_result"
    }
   ],
   "source": [
    "df.isna().any().any() # add another .any() to aggregate to a single Boolean"
   ]
  },
  {
   "cell_type": "markdown",
   "metadata": {
    "solution2": "shown"
   },
   "source": [
    "* It appears that the columns 'wind' and 'snow' have some null values. We replace them with the mean."
   ]
  },
  {
   "cell_type": "code",
   "execution_count": 24,
   "metadata": {
    "solution2": "shown"
   },
   "outputs": [
    {
     "name": "stderr",
     "output_type": "stream",
     "text": [
      "C:\\Users\\Dave\\AppData\\Local\\Temp\\ipykernel_31452\\114435927.py:1: FutureWarning: DataFrame.mean and DataFrame.median with numeric_only=None will include datetime64 and datetime64tz columns in a future version.\n",
      "  df = df.fillna(df.mean())\n"
     ]
    }
   ],
   "source": [
    "df = df.fillna(df.mean())"
   ]
  },
  {
   "cell_type": "markdown",
   "metadata": {},
   "source": [
    "### Data ranges"
   ]
  },
  {
   "cell_type": "markdown",
   "metadata": {},
   "source": [
    "> Check the data ranges by examing the minimum and maximum value of each column. Comment your findings and fix the errors.\n",
    "You can use the [pd.DataFrame.describe()](https://pandas.pydata.org/pandas-docs/stable/reference/api/pandas.DataFrame.describe.html#pandas.DataFrame.describe) method."
   ]
  },
  {
   "cell_type": "code",
   "execution_count": 25,
   "metadata": {},
   "outputs": [
    {
     "data": {
      "text/html": [
       "<div>\n",
       "<style scoped>\n",
       "    .dataframe tbody tr th:only-of-type {\n",
       "        vertical-align: middle;\n",
       "    }\n",
       "\n",
       "    .dataframe tbody tr th {\n",
       "        vertical-align: top;\n",
       "    }\n",
       "\n",
       "    .dataframe thead th {\n",
       "        text-align: right;\n",
       "    }\n",
       "</style>\n",
       "<table border=\"1\" class=\"dataframe\">\n",
       "  <thead>\n",
       "    <tr style=\"text-align: right;\">\n",
       "      <th></th>\n",
       "      <th>Passengers</th>\n",
       "      <th>Revision</th>\n",
       "      <th>Temperature_Midday</th>\n",
       "      <th>Sunshine_Percentage</th>\n",
       "      <th>Snow_5Days</th>\n",
       "      <th>Temperature_Deviation</th>\n",
       "      <th>Temperature_Max</th>\n",
       "      <th>Temperature_Min</th>\n",
       "      <th>Temperature_Evening</th>\n",
       "      <th>Precipiation_5Days</th>\n",
       "      <th>Precipiation</th>\n",
       "      <th>Wind</th>\n",
       "      <th>Holiday</th>\n",
       "      <th>Special_Event</th>\n",
       "      <th>Year</th>\n",
       "      <th>Day_in_Month</th>\n",
       "    </tr>\n",
       "  </thead>\n",
       "  <tbody>\n",
       "    <tr>\n",
       "      <th>count</th>\n",
       "      <td>3652.000000</td>\n",
       "      <td>3652.000000</td>\n",
       "      <td>3652.000000</td>\n",
       "      <td>3652.000000</td>\n",
       "      <td>3652.000000</td>\n",
       "      <td>3652.000000</td>\n",
       "      <td>3652.000000</td>\n",
       "      <td>3652.000000</td>\n",
       "      <td>3652.000000</td>\n",
       "      <td>3652.000000</td>\n",
       "      <td>3652.000000</td>\n",
       "      <td>3652.000000</td>\n",
       "      <td>3652.000000</td>\n",
       "      <td>3652.000000</td>\n",
       "      <td>3652.000000</td>\n",
       "      <td>3652.000000</td>\n",
       "    </tr>\n",
       "    <tr>\n",
       "      <th>mean</th>\n",
       "      <td>6387.802300</td>\n",
       "      <td>0.009584</td>\n",
       "      <td>12.849425</td>\n",
       "      <td>37.032161</td>\n",
       "      <td>0.788468</td>\n",
       "      <td>1.153313</td>\n",
       "      <td>14.617716</td>\n",
       "      <td>6.212568</td>\n",
       "      <td>11.556039</td>\n",
       "      <td>16.773439</td>\n",
       "      <td>3.347513</td>\n",
       "      <td>8.016350</td>\n",
       "      <td>0.042442</td>\n",
       "      <td>0.041073</td>\n",
       "      <td>2010.499726</td>\n",
       "      <td>15.727820</td>\n",
       "    </tr>\n",
       "    <tr>\n",
       "      <th>std</th>\n",
       "      <td>6033.488385</td>\n",
       "      <td>0.097440</td>\n",
       "      <td>8.509759</td>\n",
       "      <td>34.982702</td>\n",
       "      <td>3.107446</td>\n",
       "      <td>3.352714</td>\n",
       "      <td>8.801185</td>\n",
       "      <td>6.729164</td>\n",
       "      <td>8.341950</td>\n",
       "      <td>19.071723</td>\n",
       "      <td>7.159809</td>\n",
       "      <td>4.647082</td>\n",
       "      <td>0.221064</td>\n",
       "      <td>0.198487</td>\n",
       "      <td>2.872293</td>\n",
       "      <td>8.800529</td>\n",
       "    </tr>\n",
       "    <tr>\n",
       "      <th>min</th>\n",
       "      <td>0.000000</td>\n",
       "      <td>0.000000</td>\n",
       "      <td>-11.200000</td>\n",
       "      <td>0.000000</td>\n",
       "      <td>0.000000</td>\n",
       "      <td>-12.000000</td>\n",
       "      <td>-9.300000</td>\n",
       "      <td>-16.100000</td>\n",
       "      <td>-10.700000</td>\n",
       "      <td>0.000000</td>\n",
       "      <td>0.000000</td>\n",
       "      <td>2.200000</td>\n",
       "      <td>0.000000</td>\n",
       "      <td>0.000000</td>\n",
       "      <td>2006.000000</td>\n",
       "      <td>1.000000</td>\n",
       "    </tr>\n",
       "    <tr>\n",
       "      <th>25%</th>\n",
       "      <td>1547.000000</td>\n",
       "      <td>0.000000</td>\n",
       "      <td>6.000000</td>\n",
       "      <td>1.750000</td>\n",
       "      <td>0.000000</td>\n",
       "      <td>-1.100000</td>\n",
       "      <td>7.500000</td>\n",
       "      <td>0.600000</td>\n",
       "      <td>4.600000</td>\n",
       "      <td>1.700000</td>\n",
       "      <td>0.000000</td>\n",
       "      <td>4.900000</td>\n",
       "      <td>0.000000</td>\n",
       "      <td>0.000000</td>\n",
       "      <td>2008.000000</td>\n",
       "      <td>8.000000</td>\n",
       "    </tr>\n",
       "    <tr>\n",
       "      <th>50%</th>\n",
       "      <td>4029.000000</td>\n",
       "      <td>0.000000</td>\n",
       "      <td>13.300000</td>\n",
       "      <td>28.000000</td>\n",
       "      <td>0.000000</td>\n",
       "      <td>1.300000</td>\n",
       "      <td>15.100000</td>\n",
       "      <td>6.400000</td>\n",
       "      <td>11.900000</td>\n",
       "      <td>10.500000</td>\n",
       "      <td>0.000000</td>\n",
       "      <td>6.400000</td>\n",
       "      <td>0.000000</td>\n",
       "      <td>0.000000</td>\n",
       "      <td>2010.500000</td>\n",
       "      <td>16.000000</td>\n",
       "    </tr>\n",
       "    <tr>\n",
       "      <th>75%</th>\n",
       "      <td>9771.000000</td>\n",
       "      <td>0.000000</td>\n",
       "      <td>19.500000</td>\n",
       "      <td>68.000000</td>\n",
       "      <td>0.000000</td>\n",
       "      <td>3.500000</td>\n",
       "      <td>21.500000</td>\n",
       "      <td>11.800000</td>\n",
       "      <td>18.100000</td>\n",
       "      <td>24.900000</td>\n",
       "      <td>3.125000</td>\n",
       "      <td>9.725000</td>\n",
       "      <td>0.000000</td>\n",
       "      <td>0.000000</td>\n",
       "      <td>2013.000000</td>\n",
       "      <td>23.000000</td>\n",
       "    </tr>\n",
       "    <tr>\n",
       "      <th>max</th>\n",
       "      <td>34878.000000</td>\n",
       "      <td>1.000000</td>\n",
       "      <td>32.700000</td>\n",
       "      <td>101.000000</td>\n",
       "      <td>36.000000</td>\n",
       "      <td>14.600000</td>\n",
       "      <td>34.900000</td>\n",
       "      <td>21.500000</td>\n",
       "      <td>32.700000</td>\n",
       "      <td>113.700000</td>\n",
       "      <td>70.200000</td>\n",
       "      <td>31.100000</td>\n",
       "      <td>6.000000</td>\n",
       "      <td>1.000000</td>\n",
       "      <td>2015.000000</td>\n",
       "      <td>31.000000</td>\n",
       "    </tr>\n",
       "  </tbody>\n",
       "</table>\n",
       "</div>"
      ],
      "text/plain": [
       "         Passengers     Revision  Temperature_Midday  Sunshine_Percentage  \\\n",
       "count   3652.000000  3652.000000         3652.000000          3652.000000   \n",
       "mean    6387.802300     0.009584           12.849425            37.032161   \n",
       "std     6033.488385     0.097440            8.509759            34.982702   \n",
       "min        0.000000     0.000000          -11.200000             0.000000   \n",
       "25%     1547.000000     0.000000            6.000000             1.750000   \n",
       "50%     4029.000000     0.000000           13.300000            28.000000   \n",
       "75%     9771.000000     0.000000           19.500000            68.000000   \n",
       "max    34878.000000     1.000000           32.700000           101.000000   \n",
       "\n",
       "        Snow_5Days  Temperature_Deviation  Temperature_Max  Temperature_Min  \\\n",
       "count  3652.000000            3652.000000      3652.000000      3652.000000   \n",
       "mean      0.788468               1.153313        14.617716         6.212568   \n",
       "std       3.107446               3.352714         8.801185         6.729164   \n",
       "min       0.000000             -12.000000        -9.300000       -16.100000   \n",
       "25%       0.000000              -1.100000         7.500000         0.600000   \n",
       "50%       0.000000               1.300000        15.100000         6.400000   \n",
       "75%       0.000000               3.500000        21.500000        11.800000   \n",
       "max      36.000000              14.600000        34.900000        21.500000   \n",
       "\n",
       "       Temperature_Evening  Precipiation_5Days  Precipiation         Wind  \\\n",
       "count          3652.000000         3652.000000   3652.000000  3652.000000   \n",
       "mean             11.556039           16.773439      3.347513     8.016350   \n",
       "std               8.341950           19.071723      7.159809     4.647082   \n",
       "min             -10.700000            0.000000      0.000000     2.200000   \n",
       "25%               4.600000            1.700000      0.000000     4.900000   \n",
       "50%              11.900000           10.500000      0.000000     6.400000   \n",
       "75%              18.100000           24.900000      3.125000     9.725000   \n",
       "max              32.700000          113.700000     70.200000    31.100000   \n",
       "\n",
       "           Holiday  Special_Event         Year  Day_in_Month  \n",
       "count  3652.000000    3652.000000  3652.000000   3652.000000  \n",
       "mean      0.042442       0.041073  2010.499726     15.727820  \n",
       "std       0.221064       0.198487     2.872293      8.800529  \n",
       "min       0.000000       0.000000  2006.000000      1.000000  \n",
       "25%       0.000000       0.000000  2008.000000      8.000000  \n",
       "50%       0.000000       0.000000  2010.500000     16.000000  \n",
       "75%       0.000000       0.000000  2013.000000     23.000000  \n",
       "max       6.000000       1.000000  2015.000000     31.000000  "
      ]
     },
     "execution_count": 25,
     "metadata": {},
     "output_type": "execute_result"
    }
   ],
   "source": [
    "# examine the minimum and maximum values\n",
    "df.describe()"
   ]
  },
  {
   "cell_type": "code",
   "execution_count": 26,
   "metadata": {
    "lines_to_next_cell": 2,
    "solution2": "shown",
    "solution2_first": true
   },
   "outputs": [],
   "source": [
    "# fix the errors"
   ]
  },
  {
   "cell_type": "code",
   "execution_count": 27,
   "metadata": {
    "scrolled": true,
    "solution2": "shown"
   },
   "outputs": [
    {
     "data": {
      "text/html": [
       "<div>\n",
       "<style scoped>\n",
       "    .dataframe tbody tr th:only-of-type {\n",
       "        vertical-align: middle;\n",
       "    }\n",
       "\n",
       "    .dataframe tbody tr th {\n",
       "        vertical-align: top;\n",
       "    }\n",
       "\n",
       "    .dataframe thead th {\n",
       "        text-align: right;\n",
       "    }\n",
       "</style>\n",
       "<table border=\"1\" class=\"dataframe\">\n",
       "  <thead>\n",
       "    <tr style=\"text-align: right;\">\n",
       "      <th></th>\n",
       "      <th>Passengers</th>\n",
       "      <th>Revision</th>\n",
       "      <th>Temperature_Midday</th>\n",
       "      <th>Sunshine_Percentage</th>\n",
       "      <th>Snow_5Days</th>\n",
       "      <th>Temperature_Deviation</th>\n",
       "      <th>Temperature_Max</th>\n",
       "      <th>Temperature_Min</th>\n",
       "      <th>Temperature_Evening</th>\n",
       "      <th>Precipiation_5Days</th>\n",
       "      <th>Precipiation</th>\n",
       "      <th>Wind</th>\n",
       "      <th>Holiday</th>\n",
       "      <th>Special_Event</th>\n",
       "      <th>Year</th>\n",
       "      <th>Day_in_Month</th>\n",
       "    </tr>\n",
       "  </thead>\n",
       "  <tbody>\n",
       "    <tr>\n",
       "      <th>count</th>\n",
       "      <td>3652.000000</td>\n",
       "      <td>3652.000000</td>\n",
       "      <td>3652.000000</td>\n",
       "      <td>3652.000000</td>\n",
       "      <td>3652.000000</td>\n",
       "      <td>3652.000000</td>\n",
       "      <td>3652.000000</td>\n",
       "      <td>3652.000000</td>\n",
       "      <td>3652.000000</td>\n",
       "      <td>3652.000000</td>\n",
       "      <td>3652.000000</td>\n",
       "      <td>3652.000000</td>\n",
       "      <td>3652.000000</td>\n",
       "      <td>3652.000000</td>\n",
       "      <td>3652.000000</td>\n",
       "      <td>3652.000000</td>\n",
       "    </tr>\n",
       "    <tr>\n",
       "      <th>mean</th>\n",
       "      <td>6387.802300</td>\n",
       "      <td>0.009584</td>\n",
       "      <td>12.849425</td>\n",
       "      <td>37.032161</td>\n",
       "      <td>0.788468</td>\n",
       "      <td>1.153313</td>\n",
       "      <td>14.617716</td>\n",
       "      <td>6.212568</td>\n",
       "      <td>11.556039</td>\n",
       "      <td>16.773439</td>\n",
       "      <td>3.347513</td>\n",
       "      <td>8.016350</td>\n",
       "      <td>0.042442</td>\n",
       "      <td>0.041073</td>\n",
       "      <td>2010.499726</td>\n",
       "      <td>15.727820</td>\n",
       "    </tr>\n",
       "    <tr>\n",
       "      <th>std</th>\n",
       "      <td>6033.488385</td>\n",
       "      <td>0.097440</td>\n",
       "      <td>8.509759</td>\n",
       "      <td>34.982702</td>\n",
       "      <td>3.107446</td>\n",
       "      <td>3.352714</td>\n",
       "      <td>8.801185</td>\n",
       "      <td>6.729164</td>\n",
       "      <td>8.341950</td>\n",
       "      <td>19.071723</td>\n",
       "      <td>7.159809</td>\n",
       "      <td>4.647082</td>\n",
       "      <td>0.221064</td>\n",
       "      <td>0.198487</td>\n",
       "      <td>2.872293</td>\n",
       "      <td>8.800529</td>\n",
       "    </tr>\n",
       "    <tr>\n",
       "      <th>min</th>\n",
       "      <td>0.000000</td>\n",
       "      <td>0.000000</td>\n",
       "      <td>-11.200000</td>\n",
       "      <td>0.000000</td>\n",
       "      <td>0.000000</td>\n",
       "      <td>-12.000000</td>\n",
       "      <td>-9.300000</td>\n",
       "      <td>-16.100000</td>\n",
       "      <td>-10.700000</td>\n",
       "      <td>0.000000</td>\n",
       "      <td>0.000000</td>\n",
       "      <td>2.200000</td>\n",
       "      <td>0.000000</td>\n",
       "      <td>0.000000</td>\n",
       "      <td>2006.000000</td>\n",
       "      <td>1.000000</td>\n",
       "    </tr>\n",
       "    <tr>\n",
       "      <th>25%</th>\n",
       "      <td>1547.000000</td>\n",
       "      <td>0.000000</td>\n",
       "      <td>6.000000</td>\n",
       "      <td>1.750000</td>\n",
       "      <td>0.000000</td>\n",
       "      <td>-1.100000</td>\n",
       "      <td>7.500000</td>\n",
       "      <td>0.600000</td>\n",
       "      <td>4.600000</td>\n",
       "      <td>1.700000</td>\n",
       "      <td>0.000000</td>\n",
       "      <td>4.900000</td>\n",
       "      <td>0.000000</td>\n",
       "      <td>0.000000</td>\n",
       "      <td>2008.000000</td>\n",
       "      <td>8.000000</td>\n",
       "    </tr>\n",
       "    <tr>\n",
       "      <th>50%</th>\n",
       "      <td>4029.000000</td>\n",
       "      <td>0.000000</td>\n",
       "      <td>13.300000</td>\n",
       "      <td>28.000000</td>\n",
       "      <td>0.000000</td>\n",
       "      <td>1.300000</td>\n",
       "      <td>15.100000</td>\n",
       "      <td>6.400000</td>\n",
       "      <td>11.900000</td>\n",
       "      <td>10.500000</td>\n",
       "      <td>0.000000</td>\n",
       "      <td>6.400000</td>\n",
       "      <td>0.000000</td>\n",
       "      <td>0.000000</td>\n",
       "      <td>2010.500000</td>\n",
       "      <td>16.000000</td>\n",
       "    </tr>\n",
       "    <tr>\n",
       "      <th>75%</th>\n",
       "      <td>9771.000000</td>\n",
       "      <td>0.000000</td>\n",
       "      <td>19.500000</td>\n",
       "      <td>68.000000</td>\n",
       "      <td>0.000000</td>\n",
       "      <td>3.500000</td>\n",
       "      <td>21.500000</td>\n",
       "      <td>11.800000</td>\n",
       "      <td>18.100000</td>\n",
       "      <td>24.900000</td>\n",
       "      <td>3.125000</td>\n",
       "      <td>9.725000</td>\n",
       "      <td>0.000000</td>\n",
       "      <td>0.000000</td>\n",
       "      <td>2013.000000</td>\n",
       "      <td>23.000000</td>\n",
       "    </tr>\n",
       "    <tr>\n",
       "      <th>max</th>\n",
       "      <td>34878.000000</td>\n",
       "      <td>1.000000</td>\n",
       "      <td>32.700000</td>\n",
       "      <td>101.000000</td>\n",
       "      <td>36.000000</td>\n",
       "      <td>14.600000</td>\n",
       "      <td>34.900000</td>\n",
       "      <td>21.500000</td>\n",
       "      <td>32.700000</td>\n",
       "      <td>113.700000</td>\n",
       "      <td>70.200000</td>\n",
       "      <td>31.100000</td>\n",
       "      <td>6.000000</td>\n",
       "      <td>1.000000</td>\n",
       "      <td>2015.000000</td>\n",
       "      <td>31.000000</td>\n",
       "    </tr>\n",
       "  </tbody>\n",
       "</table>\n",
       "</div>"
      ],
      "text/plain": [
       "         Passengers     Revision  Temperature_Midday  Sunshine_Percentage  \\\n",
       "count   3652.000000  3652.000000         3652.000000          3652.000000   \n",
       "mean    6387.802300     0.009584           12.849425            37.032161   \n",
       "std     6033.488385     0.097440            8.509759            34.982702   \n",
       "min        0.000000     0.000000          -11.200000             0.000000   \n",
       "25%     1547.000000     0.000000            6.000000             1.750000   \n",
       "50%     4029.000000     0.000000           13.300000            28.000000   \n",
       "75%     9771.000000     0.000000           19.500000            68.000000   \n",
       "max    34878.000000     1.000000           32.700000           101.000000   \n",
       "\n",
       "        Snow_5Days  Temperature_Deviation  Temperature_Max  Temperature_Min  \\\n",
       "count  3652.000000            3652.000000      3652.000000      3652.000000   \n",
       "mean      0.788468               1.153313        14.617716         6.212568   \n",
       "std       3.107446               3.352714         8.801185         6.729164   \n",
       "min       0.000000             -12.000000        -9.300000       -16.100000   \n",
       "25%       0.000000              -1.100000         7.500000         0.600000   \n",
       "50%       0.000000               1.300000        15.100000         6.400000   \n",
       "75%       0.000000               3.500000        21.500000        11.800000   \n",
       "max      36.000000              14.600000        34.900000        21.500000   \n",
       "\n",
       "       Temperature_Evening  Precipiation_5Days  Precipiation         Wind  \\\n",
       "count          3652.000000         3652.000000   3652.000000  3652.000000   \n",
       "mean             11.556039           16.773439      3.347513     8.016350   \n",
       "std               8.341950           19.071723      7.159809     4.647082   \n",
       "min             -10.700000            0.000000      0.000000     2.200000   \n",
       "25%               4.600000            1.700000      0.000000     4.900000   \n",
       "50%              11.900000           10.500000      0.000000     6.400000   \n",
       "75%              18.100000           24.900000      3.125000     9.725000   \n",
       "max              32.700000          113.700000     70.200000    31.100000   \n",
       "\n",
       "           Holiday  Special_Event         Year  Day_in_Month  \n",
       "count  3652.000000    3652.000000  3652.000000   3652.000000  \n",
       "mean      0.042442       0.041073  2010.499726     15.727820  \n",
       "std       0.221064       0.198487     2.872293      8.800529  \n",
       "min       0.000000       0.000000  2006.000000      1.000000  \n",
       "25%       0.000000       0.000000  2008.000000      8.000000  \n",
       "50%       0.000000       0.000000  2010.500000     16.000000  \n",
       "75%       0.000000       0.000000  2013.000000     23.000000  \n",
       "max       6.000000       1.000000  2015.000000     31.000000  "
      ]
     },
     "execution_count": 27,
     "metadata": {},
     "output_type": "execute_result"
    }
   ],
   "source": [
    "df.describe()"
   ]
  },
  {
   "cell_type": "markdown",
   "metadata": {
    "solution2": "shown"
   },
   "source": [
    "It appears that the maximum value of sunshine is **101%**. You can easily fix this by using the following command:"
   ]
  },
  {
   "cell_type": "code",
   "execution_count": 28,
   "metadata": {
    "run_control": {
     "marked": false
    },
    "solution2": "shown"
   },
   "outputs": [],
   "source": [
    "df[\"Sunshine_Percentage\"].values[df[\"Sunshine_Percentage\"] > 100] = 100"
   ]
  },
  {
   "cell_type": "markdown",
   "metadata": {},
   "source": [
    "### Plot the data\n",
    "To get a better understanding we often plot the data."
   ]
  },
  {
   "cell_type": "markdown",
   "metadata": {},
   "source": [
    "> Plot the number of passengers over time and try to interpret the data."
   ]
  },
  {
   "cell_type": "code",
   "execution_count": 29,
   "metadata": {
    "run_control": {
     "marked": false
    },
    "solution2": "shown",
    "solution2_first": true
   },
   "outputs": [],
   "source": [
    "# Plot the number of passengers over time and try to interpret the data"
   ]
  },
  {
   "cell_type": "code",
   "execution_count": 30,
   "metadata": {
    "run_control": {
     "marked": false
    },
    "solution2": "shown"
   },
   "outputs": [
    {
     "data": {
      "text/plain": [
       "<AxesSubplot:title={'center':'Passengers over time'}>"
      ]
     },
     "execution_count": 30,
     "metadata": {},
     "output_type": "execute_result"
    },
    {
     "data": {
      "image/png": "[encoded data removed]",
      "text/plain": [
       "<Figure size 1080x360 with 1 Axes>"
      ]
     },
     "metadata": {},
     "output_type": "display_data"
    }
   ],
   "source": [
    "fig, ax = plt.subplots(figsize=(15,5))\n",
    "df.Passengers.plot(title=\"Passengers over time\", ax=ax)"
   ]
  },
  {
   "cell_type": "markdown",
   "metadata": {
    "solution2": "shown"
   },
   "source": [
    "Here we see some periodic patterns which may be related to seasonal effects (winter and summer). At this stage, we perform a data analysis for a better understanding of the effects and identify possible outliers."
   ]
  },
  {
   "cell_type": "markdown",
   "metadata": {},
   "source": [
    "### Correlation analysis\n",
    "> Implement a correlation analysis for the given dataset. Comment your findings."
   ]
  },
  {
   "cell_type": "code",
   "execution_count": 31,
   "metadata": {
    "lines_to_next_cell": 2,
    "solution2": "shown",
    "solution2_first": true
   },
   "outputs": [],
   "source": [
    "# Plot correlations"
   ]
  },
  {
   "cell_type": "code",
   "execution_count": 32,
   "metadata": {
    "scrolled": false,
    "solution2": "shown"
   },
   "outputs": [
    {
     "data": {
      "text/plain": [
       "<AxesSubplot:>"
      ]
     },
     "execution_count": 32,
     "metadata": {},
     "output_type": "execute_result"
    },
    {
     "data": {
      "image/png": "[encoded data removed]",
      "text/plain": [
       "<Figure size 864x864 with 2 Axes>"
      ]
     },
     "metadata": {},
     "output_type": "display_data"
    }
   ],
   "source": [
    "plt.subplots(figsize=(12, 12))\n",
    "sns.heatmap(df.corr(), annot=True, cmap='RdYlGn_r', linewidths=0.5, fmt='.2f')"
   ]
  },
  {
   "cell_type": "markdown",
   "metadata": {
    "solution2": "shown"
   },
   "source": [
    "In the correlation matrix above we can see some correlation\n",
    "* The temperature correlates highly with the number of passengers\n",
    "* The percentage of sunshine correlates with the number of passengers"
   ]
  },
  {
   "cell_type": "markdown",
   "metadata": {},
   "source": [
    "### Outliers\n",
    "Let's take a look at outliers. A boxplot is a very useful graphical representation of a five number summary together with potential outliers. Outliers are displayed as small circles above or below the boxplot."
   ]
  },
  {
   "cell_type": "markdown",
   "metadata": {},
   "source": [
    "We create a boxplot for every numerical value."
   ]
  },
  {
   "cell_type": "code",
   "execution_count": 33,
   "metadata": {},
   "outputs": [
    {
     "data": {
      "image/png": "[encoded data removed]",
      "text/plain": [
       "<Figure size 720x1296 with 10 Axes>"
      ]
     },
     "metadata": {},
     "output_type": "display_data"
    }
   ],
   "source": [
    "numerical_cols = ['Passengers', 'Temperature_Midday', 'Snow_5Days', 'Wind', 'Temperature_Deviation',\n",
    "                  'Temperature_Max', 'Temperature_Min', 'Temperature_Evening', 'Precipiation', 'Precipiation_5Days']\n",
    "_ = df.loc[:, numerical_cols].plot(kind='box', subplots=True, layout=(5, 2), figsize=(10, 18), sharex=False)"
   ]
  },
  {
   "cell_type": "markdown",
   "metadata": {},
   "source": [
    "According to the rule that values at least $1.5 \\cdot \\text{IQR}$ above the 3rd quartile or below the 1st quartile are considered as outliers, we have many of those (the circles in the boxplot). However, as we already have checked the validity of the data ranges, we assume that these are in fact valid, but extreme samples."
   ]
  },
  {
   "cell_type": "markdown",
   "metadata": {},
   "source": [
    "## Sanity check\n",
    "It often makes sense to manually check the dataset for logical issues. In our case we could check if there were any passengers when there was a revision or if there was snow at unexpected times."
   ]
  },
  {
   "cell_type": "markdown",
   "metadata": {},
   "source": [
    "### Amount of passengers during revisions\n",
    "During revisions no ships are in use. Therefore, the amount of passengers during this period is expected to be zero. \n",
    "> Check if this is the case and fix the error."
   ]
  },
  {
   "cell_type": "code",
   "execution_count": 34,
   "metadata": {
    "solution2": "shown",
    "solution2_first": true
   },
   "outputs": [],
   "source": [
    "# Get number of passengers during revision"
   ]
  },
  {
   "cell_type": "code",
   "execution_count": 35,
   "metadata": {
    "solution2": "shown"
   },
   "outputs": [
    {
     "data": {
      "text/html": [
       "<div>\n",
       "<style scoped>\n",
       "    .dataframe tbody tr th:only-of-type {\n",
       "        vertical-align: middle;\n",
       "    }\n",
       "\n",
       "    .dataframe tbody tr th {\n",
       "        vertical-align: top;\n",
       "    }\n",
       "\n",
       "    .dataframe thead th {\n",
       "        text-align: right;\n",
       "    }\n",
       "</style>\n",
       "<table border=\"1\" class=\"dataframe\">\n",
       "  <thead>\n",
       "    <tr style=\"text-align: right;\">\n",
       "      <th></th>\n",
       "      <th>Passengers</th>\n",
       "      <th>Revision</th>\n",
       "      <th>Temperature_Midday</th>\n",
       "      <th>Sunshine_Percentage</th>\n",
       "      <th>Snow_5Days</th>\n",
       "      <th>Temperature_Deviation</th>\n",
       "      <th>Temperature_Max</th>\n",
       "      <th>Temperature_Min</th>\n",
       "      <th>Temperature_Evening</th>\n",
       "      <th>Precipiation_5Days</th>\n",
       "      <th>Precipiation</th>\n",
       "      <th>Wind</th>\n",
       "      <th>Holiday</th>\n",
       "      <th>Special_Event</th>\n",
       "      <th>Year</th>\n",
       "      <th>Day_in_Month</th>\n",
       "      <th>Day</th>\n",
       "      <th>Month</th>\n",
       "      <th>Date</th>\n",
       "    </tr>\n",
       "  </thead>\n",
       "  <tbody>\n",
       "    <tr>\n",
       "      <th>2915</th>\n",
       "      <td>24</td>\n",
       "      <td>1</td>\n",
       "      <td>8.3</td>\n",
       "      <td>0.0</td>\n",
       "      <td>0.0</td>\n",
       "      <td>5.9</td>\n",
       "      <td>17.0</td>\n",
       "      <td>4.8</td>\n",
       "      <td>5.5</td>\n",
       "      <td>5.6</td>\n",
       "      <td>3.5</td>\n",
       "      <td>24.9</td>\n",
       "      <td>1</td>\n",
       "      <td>1</td>\n",
       "      <td>2013</td>\n",
       "      <td>25</td>\n",
       "      <td>Wednesday</td>\n",
       "      <td>December</td>\n",
       "      <td>2013-12-25</td>\n",
       "    </tr>\n",
       "    <tr>\n",
       "      <th>2917</th>\n",
       "      <td>54</td>\n",
       "      <td>1</td>\n",
       "      <td>4.4</td>\n",
       "      <td>96.0</td>\n",
       "      <td>0.0</td>\n",
       "      <td>0.5</td>\n",
       "      <td>5.5</td>\n",
       "      <td>-1.3</td>\n",
       "      <td>1.2</td>\n",
       "      <td>25.4</td>\n",
       "      <td>0.0</td>\n",
       "      <td>4.7</td>\n",
       "      <td>0</td>\n",
       "      <td>0</td>\n",
       "      <td>2013</td>\n",
       "      <td>27</td>\n",
       "      <td>Friday</td>\n",
       "      <td>December</td>\n",
       "      <td>2013-12-27</td>\n",
       "    </tr>\n",
       "  </tbody>\n",
       "</table>\n",
       "</div>"
      ],
      "text/plain": [
       "      Passengers  Revision  Temperature_Midday  Sunshine_Percentage  \\\n",
       "2915          24         1                 8.3                  0.0   \n",
       "2917          54         1                 4.4                 96.0   \n",
       "\n",
       "      Snow_5Days  Temperature_Deviation  Temperature_Max  Temperature_Min  \\\n",
       "2915         0.0                    5.9             17.0              4.8   \n",
       "2917         0.0                    0.5              5.5             -1.3   \n",
       "\n",
       "      Temperature_Evening  Precipiation_5Days  Precipiation  Wind  Holiday  \\\n",
       "2915                  5.5                 5.6           3.5  24.9        1   \n",
       "2917                  1.2                25.4           0.0   4.7        0   \n",
       "\n",
       "      Special_Event  Year  Day_in_Month        Day     Month       Date  \n",
       "2915              1  2013            25  Wednesday  December 2013-12-25  \n",
       "2917              0  2013            27     Friday  December 2013-12-27  "
      ]
     },
     "execution_count": 35,
     "metadata": {},
     "output_type": "execute_result"
    }
   ],
   "source": [
    "df[(df.Revision == 1) & (df.Passengers > 0)].head()"
   ]
  },
  {
   "cell_type": "code",
   "execution_count": 36,
   "metadata": {
    "code_folding": [],
    "solution2": "shown",
    "solution2_first": true
   },
   "outputs": [],
   "source": [
    "# Fix the error"
   ]
  },
  {
   "cell_type": "code",
   "execution_count": 37,
   "metadata": {
    "solution2": "shown"
   },
   "outputs": [],
   "source": [
    "df.Passengers.values[df.Revision==1] = 0"
   ]
  },
  {
   "cell_type": "markdown",
   "metadata": {},
   "source": [
    "### Compare min/max temperature"
   ]
  },
  {
   "cell_type": "markdown",
   "metadata": {},
   "source": [
    "For each day, there is a minumum and maximum temperature recorded. \n",
    "> Check if the minimum temperature is smaller than the maximum temperature."
   ]
  },
  {
   "cell_type": "code",
   "execution_count": 38,
   "metadata": {
    "lines_to_next_cell": 2,
    "solution2": "shown",
    "solution2_first": true
   },
   "outputs": [],
   "source": [
    "# Compare min/max temperature"
   ]
  },
  {
   "cell_type": "code",
   "execution_count": 39,
   "metadata": {
    "solution2": "shown"
   },
   "outputs": [
    {
     "data": {
      "text/plain": [
       "True"
      ]
     },
     "execution_count": 39,
     "metadata": {},
     "output_type": "execute_result"
    }
   ],
   "source": [
    "(df[\"Temperature_Min\"] < df[\"Temperature_Max\"]).all()"
   ]
  },
  {
   "cell_type": "markdown",
   "metadata": {},
   "source": [
    "### Take a closer look to the snow distribution over the months"
   ]
  },
  {
   "cell_type": "markdown",
   "metadata": {},
   "source": [
    "Lets convert our dataset into a matrix where we can see the average amount of snow for each month per year."
   ]
  },
  {
   "cell_type": "code",
   "execution_count": 40,
   "metadata": {},
   "outputs": [
    {
     "data": {
      "text/html": [
       "<div>\n",
       "<style scoped>\n",
       "    .dataframe tbody tr th:only-of-type {\n",
       "        vertical-align: middle;\n",
       "    }\n",
       "\n",
       "    .dataframe tbody tr th {\n",
       "        vertical-align: top;\n",
       "    }\n",
       "\n",
       "    .dataframe thead tr th {\n",
       "        text-align: left;\n",
       "    }\n",
       "\n",
       "    .dataframe thead tr:last-of-type th {\n",
       "        text-align: right;\n",
       "    }\n",
       "</style>\n",
       "<table border=\"1\" class=\"dataframe\">\n",
       "  <thead>\n",
       "    <tr>\n",
       "      <th></th>\n",
       "      <th></th>\n",
       "      <th colspan=\"10\" halign=\"left\">Snow_5Days</th>\n",
       "    </tr>\n",
       "    <tr>\n",
       "      <th></th>\n",
       "      <th>Year</th>\n",
       "      <th>2006</th>\n",
       "      <th>2007</th>\n",
       "      <th>2008</th>\n",
       "      <th>2009</th>\n",
       "      <th>2010</th>\n",
       "      <th>2011</th>\n",
       "      <th>2012</th>\n",
       "      <th>2013</th>\n",
       "      <th>2014</th>\n",
       "      <th>2015</th>\n",
       "    </tr>\n",
       "    <tr>\n",
       "      <th>Date</th>\n",
       "      <th>Month</th>\n",
       "      <th></th>\n",
       "      <th></th>\n",
       "      <th></th>\n",
       "      <th></th>\n",
       "      <th></th>\n",
       "      <th></th>\n",
       "      <th></th>\n",
       "      <th></th>\n",
       "      <th></th>\n",
       "      <th></th>\n",
       "    </tr>\n",
       "  </thead>\n",
       "  <tbody>\n",
       "    <tr>\n",
       "      <th>1</th>\n",
       "      <th>January</th>\n",
       "      <td>1.451613</td>\n",
       "      <td>2.258065</td>\n",
       "      <td>0.788468</td>\n",
       "      <td>1.960918</td>\n",
       "      <td>6.354839</td>\n",
       "      <td>1.774194</td>\n",
       "      <td>0.451613</td>\n",
       "      <td>1.290323</td>\n",
       "      <td>0.000000</td>\n",
       "      <td>3.354839</td>\n",
       "    </tr>\n",
       "    <tr>\n",
       "      <th>2</th>\n",
       "      <th>February</th>\n",
       "      <td>1.285714</td>\n",
       "      <td>0.000000</td>\n",
       "      <td>0.788468</td>\n",
       "      <td>6.250000</td>\n",
       "      <td>4.928571</td>\n",
       "      <td>0.000000</td>\n",
       "      <td>1.241379</td>\n",
       "      <td>5.714286</td>\n",
       "      <td>0.000000</td>\n",
       "      <td>0.000000</td>\n",
       "    </tr>\n",
       "    <tr>\n",
       "      <th>3</th>\n",
       "      <th>March</th>\n",
       "      <td>6.741935</td>\n",
       "      <td>1.960918</td>\n",
       "      <td>0.788468</td>\n",
       "      <td>0.000000</td>\n",
       "      <td>0.806452</td>\n",
       "      <td>0.000000</td>\n",
       "      <td>0.000000</td>\n",
       "      <td>1.290323</td>\n",
       "      <td>0.000000</td>\n",
       "      <td>0.000000</td>\n",
       "    </tr>\n",
       "    <tr>\n",
       "      <th>4</th>\n",
       "      <th>April</th>\n",
       "      <td>0.333333</td>\n",
       "      <td>0.788468</td>\n",
       "      <td>0.788468</td>\n",
       "      <td>0.000000</td>\n",
       "      <td>0.000000</td>\n",
       "      <td>0.000000</td>\n",
       "      <td>0.000000</td>\n",
       "      <td>0.333333</td>\n",
       "      <td>0.000000</td>\n",
       "      <td>0.000000</td>\n",
       "    </tr>\n",
       "    <tr>\n",
       "      <th>5</th>\n",
       "      <th>May</th>\n",
       "      <td>0.000000</td>\n",
       "      <td>0.788468</td>\n",
       "      <td>0.788468</td>\n",
       "      <td>0.000000</td>\n",
       "      <td>0.000000</td>\n",
       "      <td>0.000000</td>\n",
       "      <td>0.000000</td>\n",
       "      <td>0.000000</td>\n",
       "      <td>0.000000</td>\n",
       "      <td>0.000000</td>\n",
       "    </tr>\n",
       "    <tr>\n",
       "      <th>6</th>\n",
       "      <th>June</th>\n",
       "      <td>0.000000</td>\n",
       "      <td>0.788468</td>\n",
       "      <td>0.788468</td>\n",
       "      <td>0.000000</td>\n",
       "      <td>0.000000</td>\n",
       "      <td>0.000000</td>\n",
       "      <td>0.000000</td>\n",
       "      <td>0.000000</td>\n",
       "      <td>0.000000</td>\n",
       "      <td>0.000000</td>\n",
       "    </tr>\n",
       "    <tr>\n",
       "      <th>7</th>\n",
       "      <th>July</th>\n",
       "      <td>0.000000</td>\n",
       "      <td>0.788468</td>\n",
       "      <td>0.788468</td>\n",
       "      <td>0.000000</td>\n",
       "      <td>0.000000</td>\n",
       "      <td>0.000000</td>\n",
       "      <td>0.000000</td>\n",
       "      <td>0.000000</td>\n",
       "      <td>0.000000</td>\n",
       "      <td>0.000000</td>\n",
       "    </tr>\n",
       "    <tr>\n",
       "      <th>8</th>\n",
       "      <th>August</th>\n",
       "      <td>0.000000</td>\n",
       "      <td>0.788468</td>\n",
       "      <td>0.788468</td>\n",
       "      <td>0.000000</td>\n",
       "      <td>0.000000</td>\n",
       "      <td>0.000000</td>\n",
       "      <td>0.000000</td>\n",
       "      <td>0.000000</td>\n",
       "      <td>0.000000</td>\n",
       "      <td>0.000000</td>\n",
       "    </tr>\n",
       "    <tr>\n",
       "      <th>9</th>\n",
       "      <th>September</th>\n",
       "      <td>0.000000</td>\n",
       "      <td>0.788468</td>\n",
       "      <td>0.788468</td>\n",
       "      <td>0.000000</td>\n",
       "      <td>0.000000</td>\n",
       "      <td>0.000000</td>\n",
       "      <td>0.000000</td>\n",
       "      <td>0.000000</td>\n",
       "      <td>0.000000</td>\n",
       "      <td>0.000000</td>\n",
       "    </tr>\n",
       "    <tr>\n",
       "      <th>10</th>\n",
       "      <th>October</th>\n",
       "      <td>0.000000</td>\n",
       "      <td>0.788468</td>\n",
       "      <td>1.237594</td>\n",
       "      <td>0.000000</td>\n",
       "      <td>0.000000</td>\n",
       "      <td>0.000000</td>\n",
       "      <td>0.000000</td>\n",
       "      <td>0.000000</td>\n",
       "      <td>0.000000</td>\n",
       "      <td>0.000000</td>\n",
       "    </tr>\n",
       "    <tr>\n",
       "      <th>11</th>\n",
       "      <th>November</th>\n",
       "      <td>0.000000</td>\n",
       "      <td>0.788468</td>\n",
       "      <td>1.633333</td>\n",
       "      <td>0.266667</td>\n",
       "      <td>0.433333</td>\n",
       "      <td>0.026282</td>\n",
       "      <td>0.152565</td>\n",
       "      <td>0.000000</td>\n",
       "      <td>0.000000</td>\n",
       "      <td>0.000000</td>\n",
       "    </tr>\n",
       "    <tr>\n",
       "      <th>12</th>\n",
       "      <th>December</th>\n",
       "      <td>0.000000</td>\n",
       "      <td>0.788468</td>\n",
       "      <td>5.161290</td>\n",
       "      <td>3.129032</td>\n",
       "      <td>6.516129</td>\n",
       "      <td>1.230770</td>\n",
       "      <td>7.714641</td>\n",
       "      <td>0.000000</td>\n",
       "      <td>3.580645</td>\n",
       "      <td>0.000000</td>\n",
       "    </tr>\n",
       "  </tbody>\n",
       "</table>\n",
       "</div>"
      ],
      "text/plain": [
       "               Snow_5Days                                                    \\\n",
       "Year                 2006      2007      2008      2009      2010      2011   \n",
       "Date Month                                                                    \n",
       "1    January     1.451613  2.258065  0.788468  1.960918  6.354839  1.774194   \n",
       "2    February    1.285714  0.000000  0.788468  6.250000  4.928571  0.000000   \n",
       "3    March       6.741935  1.960918  0.788468  0.000000  0.806452  0.000000   \n",
       "4    April       0.333333  0.788468  0.788468  0.000000  0.000000  0.000000   \n",
       "5    May         0.000000  0.788468  0.788468  0.000000  0.000000  0.000000   \n",
       "6    June        0.000000  0.788468  0.788468  0.000000  0.000000  0.000000   \n",
       "7    July        0.000000  0.788468  0.788468  0.000000  0.000000  0.000000   \n",
       "8    August      0.000000  0.788468  0.788468  0.000000  0.000000  0.000000   \n",
       "9    September   0.000000  0.788468  0.788468  0.000000  0.000000  0.000000   \n",
       "10   October     0.000000  0.788468  1.237594  0.000000  0.000000  0.000000   \n",
       "11   November    0.000000  0.788468  1.633333  0.266667  0.433333  0.026282   \n",
       "12   December    0.000000  0.788468  5.161290  3.129032  6.516129  1.230770   \n",
       "\n",
       "                                                        \n",
       "Year                2012      2013      2014      2015  \n",
       "Date Month                                              \n",
       "1    January    0.451613  1.290323  0.000000  3.354839  \n",
       "2    February   1.241379  5.714286  0.000000  0.000000  \n",
       "3    March      0.000000  1.290323  0.000000  0.000000  \n",
       "4    April      0.000000  0.333333  0.000000  0.000000  \n",
       "5    May        0.000000  0.000000  0.000000  0.000000  \n",
       "6    June       0.000000  0.000000  0.000000  0.000000  \n",
       "7    July       0.000000  0.000000  0.000000  0.000000  \n",
       "8    August     0.000000  0.000000  0.000000  0.000000  \n",
       "9    September  0.000000  0.000000  0.000000  0.000000  \n",
       "10   October    0.000000  0.000000  0.000000  0.000000  \n",
       "11   November   0.152565  0.000000  0.000000  0.000000  \n",
       "12   December   7.714641  0.000000  3.580645  0.000000  "
      ]
     },
     "execution_count": 40,
     "metadata": {},
     "output_type": "execute_result"
    }
   ],
   "source": [
    "pd.pivot_table(df, index=[df.Date.dt.month, \"Month\"], columns=[\"Year\"], values=[\"Snow_5Days\"])"
   ]
  },
  {
   "cell_type": "markdown",
   "metadata": {},
   "source": [
    "Take a look at the table above. Comment your findings and try to explain how these anomalies could have occured."
   ]
  },
  {
   "cell_type": "markdown",
   "metadata": {
    "solution2": "shown",
    "solution2_first": true
   },
   "source": [
    "> Findings:"
   ]
  },
  {
   "cell_type": "markdown",
   "metadata": {
    "solution2": "shown"
   },
   "source": [
    "* There was snow during the summer in 2007 and 2008\n",
    "* The amount of snow remained constant from april 2007 till september 2008"
   ]
  },
  {
   "cell_type": "markdown",
   "metadata": {},
   "source": [
    "Now we want to clean these errors. \n",
    "> Set the amount of snow for months june, july, august, september and october to zero."
   ]
  },
  {
   "cell_type": "code",
   "execution_count": 41,
   "metadata": {
    "solution2": "shown",
    "solution2_first": true
   },
   "outputs": [],
   "source": [
    "# Set the amount of snow for months june, july, august, september and october to zero"
   ]
  },
  {
   "cell_type": "code",
   "execution_count": 42,
   "metadata": {
    "solution2": "shown"
   },
   "outputs": [],
   "source": [
    "df.Snow_5Days.values[df.Month.isin([\"June\", \"July\", \"August\", \"September\", \"October\"])] = 0"
   ]
  },
  {
   "cell_type": "markdown",
   "metadata": {},
   "source": [
    "## Automatic Data Quality Assessment\n",
    "[Pandas Profiling](https://github.com/pandas-profiling/pandas-profiling) is pretty neat python package which allows us to automatically generate a profile report for a data frame. Let's try it out on our dataset and check whether it recognizes that there were some missing snow records."
   ]
  },
  {
   "cell_type": "markdown",
   "metadata": {},
   "source": [
    "*Note*: You might run into issues with some browsers. We recommend you to use the Chrome Browser. Alterantively you can save the report as html."
   ]
  },
  {
   "cell_type": "code",
   "execution_count": 43,
   "metadata": {},
   "outputs": [
    {
     "ename": "ImportError",
     "evalue": "cannot import name 'escape' from 'jinja2.utils' (C:\\Users\\Dave\\.virtualenvs\\ADML-1DDpmVWL\\lib\\site-packages\\jinja2\\utils.py)",
     "output_type": "error",
     "traceback": [
      "\u001b[1;31m---------------------------------------------------------------------------\u001b[0m",
      "\u001b[1;31mImportError\u001b[0m                               Traceback (most recent call last)",
      "Input \u001b[1;32mIn [43]\u001b[0m, in \u001b[0;36m<cell line: 1>\u001b[1;34m()\u001b[0m\n\u001b[1;32m----> 1\u001b[0m \u001b[38;5;28;01mimport\u001b[39;00m \u001b[38;5;21;01mpandas_profiling\u001b[39;00m\n\u001b[0;32m      2\u001b[0m df2 \u001b[38;5;241m=\u001b[39m pd\u001b[38;5;241m.\u001b[39mread_csv(\u001b[38;5;124m\"\u001b[39m\u001b[38;5;124msgv.csv\u001b[39m\u001b[38;5;124m\"\u001b[39m, sep\u001b[38;5;241m=\u001b[39m\u001b[38;5;124m\"\u001b[39m\u001b[38;5;124m;\u001b[39m\u001b[38;5;124m\"\u001b[39m)\n\u001b[0;32m      3\u001b[0m profile \u001b[38;5;241m=\u001b[39m df2\u001b[38;5;241m.\u001b[39mprofile_report(html\u001b[38;5;241m=\u001b[39m{\u001b[38;5;124m'\u001b[39m\u001b[38;5;124mstyle\u001b[39m\u001b[38;5;124m'\u001b[39m:{\u001b[38;5;124m'\u001b[39m\u001b[38;5;124mfull_width\u001b[39m\u001b[38;5;124m'\u001b[39m:\u001b[38;5;28;01mTrue\u001b[39;00m}})\n",
      "File \u001b[1;32m~\\.virtualenvs\\ADML-1DDpmVWL\\lib\\site-packages\\pandas_profiling\\__init__.py:7\u001b[0m, in \u001b[0;36m<module>\u001b[1;34m\u001b[0m\n\u001b[0;32m      1\u001b[0m \u001b[38;5;124;03m\"\"\"Main module of pandas-profiling.\u001b[39;00m\n\u001b[0;32m      2\u001b[0m \n\u001b[0;32m      3\u001b[0m \u001b[38;5;124;03m.. include:: ../../README.md\u001b[39;00m\n\u001b[0;32m      4\u001b[0m \u001b[38;5;124;03m\"\"\"\u001b[39;00m\n\u001b[0;32m      6\u001b[0m \u001b[38;5;28;01mfrom\u001b[39;00m \u001b[38;5;21;01mpandas_profiling\u001b[39;00m\u001b[38;5;21;01m.\u001b[39;00m\u001b[38;5;21;01mconfig\u001b[39;00m \u001b[38;5;28;01mimport\u001b[39;00m Config, config\n\u001b[1;32m----> 7\u001b[0m \u001b[38;5;28;01mfrom\u001b[39;00m \u001b[38;5;21;01mpandas_profiling\u001b[39;00m\u001b[38;5;21;01m.\u001b[39;00m\u001b[38;5;21;01mcontroller\u001b[39;00m \u001b[38;5;28;01mimport\u001b[39;00m pandas_decorator\n\u001b[0;32m      8\u001b[0m \u001b[38;5;28;01mfrom\u001b[39;00m \u001b[38;5;21;01mpandas_profiling\u001b[39;00m\u001b[38;5;21;01m.\u001b[39;00m\u001b[38;5;21;01mprofile_report\u001b[39;00m \u001b[38;5;28;01mimport\u001b[39;00m ProfileReport\n\u001b[0;32m      9\u001b[0m \u001b[38;5;28;01mfrom\u001b[39;00m \u001b[38;5;21;01mpandas_profiling\u001b[39;00m\u001b[38;5;21;01m.\u001b[39;00m\u001b[38;5;21;01mversion\u001b[39;00m \u001b[38;5;28;01mimport\u001b[39;00m __version__\n",
      "File \u001b[1;32m~\\.virtualenvs\\ADML-1DDpmVWL\\lib\\site-packages\\pandas_profiling\\controller\\pandas_decorator.py:4\u001b[0m, in \u001b[0;36m<module>\u001b[1;34m\u001b[0m\n\u001b[0;32m      1\u001b[0m \u001b[38;5;124;03m\"\"\"This file add the decorator on the DataFrame object.\"\"\"\u001b[39;00m\n\u001b[0;32m      2\u001b[0m \u001b[38;5;28;01mfrom\u001b[39;00m \u001b[38;5;21;01mpandas\u001b[39;00m \u001b[38;5;28;01mimport\u001b[39;00m DataFrame\n\u001b[1;32m----> 4\u001b[0m \u001b[38;5;28;01mfrom\u001b[39;00m \u001b[38;5;21;01mpandas_profiling\u001b[39;00m\u001b[38;5;21;01m.\u001b[39;00m\u001b[38;5;21;01m__init__\u001b[39;00m \u001b[38;5;28;01mimport\u001b[39;00m ProfileReport\n\u001b[0;32m      7\u001b[0m \u001b[38;5;28;01mdef\u001b[39;00m \u001b[38;5;21mprofile_report\u001b[39m(df, \u001b[38;5;241m*\u001b[39m\u001b[38;5;241m*\u001b[39mkwargs) \u001b[38;5;241m-\u001b[39m\u001b[38;5;241m>\u001b[39m ProfileReport:\n\u001b[0;32m      8\u001b[0m     \u001b[38;5;124;03m\"\"\"Profile a DataFrame.\u001b[39;00m\n\u001b[0;32m      9\u001b[0m \n\u001b[0;32m     10\u001b[0m \u001b[38;5;124;03m    Args:\u001b[39;00m\n\u001b[1;32m   (...)\u001b[0m\n\u001b[0;32m     15\u001b[0m \u001b[38;5;124;03m        A ProfileReport of the DataFrame.\u001b[39;00m\n\u001b[0;32m     16\u001b[0m \u001b[38;5;124;03m    \"\"\"\u001b[39;00m\n",
      "File \u001b[1;32m~\\.virtualenvs\\ADML-1DDpmVWL\\lib\\site-packages\\pandas_profiling\\__init__.py:8\u001b[0m, in \u001b[0;36m<module>\u001b[1;34m\u001b[0m\n\u001b[0;32m      6\u001b[0m \u001b[38;5;28;01mfrom\u001b[39;00m \u001b[38;5;21;01mpandas_profiling\u001b[39;00m\u001b[38;5;21;01m.\u001b[39;00m\u001b[38;5;21;01mconfig\u001b[39;00m \u001b[38;5;28;01mimport\u001b[39;00m Config, config\n\u001b[0;32m      7\u001b[0m \u001b[38;5;28;01mfrom\u001b[39;00m \u001b[38;5;21;01mpandas_profiling\u001b[39;00m\u001b[38;5;21;01m.\u001b[39;00m\u001b[38;5;21;01mcontroller\u001b[39;00m \u001b[38;5;28;01mimport\u001b[39;00m pandas_decorator\n\u001b[1;32m----> 8\u001b[0m \u001b[38;5;28;01mfrom\u001b[39;00m \u001b[38;5;21;01mpandas_profiling\u001b[39;00m\u001b[38;5;21;01m.\u001b[39;00m\u001b[38;5;21;01mprofile_report\u001b[39;00m \u001b[38;5;28;01mimport\u001b[39;00m ProfileReport\n\u001b[0;32m      9\u001b[0m \u001b[38;5;28;01mfrom\u001b[39;00m \u001b[38;5;21;01mpandas_profiling\u001b[39;00m\u001b[38;5;21;01m.\u001b[39;00m\u001b[38;5;21;01mversion\u001b[39;00m \u001b[38;5;28;01mimport\u001b[39;00m __version__\n\u001b[0;32m     11\u001b[0m clear_config \u001b[38;5;241m=\u001b[39m ProfileReport\u001b[38;5;241m.\u001b[39mclear_config\n",
      "File \u001b[1;32m~\\.virtualenvs\\ADML-1DDpmVWL\\lib\\site-packages\\pandas_profiling\\profile_report.py:13\u001b[0m, in \u001b[0;36m<module>\u001b[1;34m\u001b[0m\n\u001b[0;32m     11\u001b[0m \u001b[38;5;28;01mfrom\u001b[39;00m \u001b[38;5;21;01mpandas_profiling\u001b[39;00m\u001b[38;5;21;01m.\u001b[39;00m\u001b[38;5;21;01mmodel\u001b[39;00m\u001b[38;5;21;01m.\u001b[39;00m\u001b[38;5;21;01mdescribe\u001b[39;00m \u001b[38;5;28;01mimport\u001b[39;00m describe \u001b[38;5;28;01mas\u001b[39;00m describe_df\n\u001b[0;32m     12\u001b[0m \u001b[38;5;28;01mfrom\u001b[39;00m \u001b[38;5;21;01mpandas_profiling\u001b[39;00m\u001b[38;5;21;01m.\u001b[39;00m\u001b[38;5;21;01mmodel\u001b[39;00m\u001b[38;5;21;01m.\u001b[39;00m\u001b[38;5;21;01mmessages\u001b[39;00m \u001b[38;5;28;01mimport\u001b[39;00m MessageType\n\u001b[1;32m---> 13\u001b[0m \u001b[38;5;28;01mfrom\u001b[39;00m \u001b[38;5;21;01mpandas_profiling\u001b[39;00m\u001b[38;5;21;01m.\u001b[39;00m\u001b[38;5;21;01mreport\u001b[39;00m \u001b[38;5;28;01mimport\u001b[39;00m get_report_structure\n\u001b[0;32m     14\u001b[0m \u001b[38;5;28;01mfrom\u001b[39;00m \u001b[38;5;21;01mpandas_profiling\u001b[39;00m\u001b[38;5;21;01m.\u001b[39;00m\u001b[38;5;21;01mreport\u001b[39;00m\u001b[38;5;21;01m.\u001b[39;00m\u001b[38;5;21;01mpresentation\u001b[39;00m\u001b[38;5;21;01m.\u001b[39;00m\u001b[38;5;21;01mflavours\u001b[39;00m\u001b[38;5;21;01m.\u001b[39;00m\u001b[38;5;21;01mhtml\u001b[39;00m\u001b[38;5;21;01m.\u001b[39;00m\u001b[38;5;21;01mtemplates\u001b[39;00m \u001b[38;5;28;01mimport\u001b[39;00m (\n\u001b[0;32m     15\u001b[0m     create_html_assets,\n\u001b[0;32m     16\u001b[0m )\n\u001b[0;32m     17\u001b[0m \u001b[38;5;28;01mfrom\u001b[39;00m \u001b[38;5;21;01mpandas_profiling\u001b[39;00m\u001b[38;5;21;01m.\u001b[39;00m\u001b[38;5;21;01mserialize_report\u001b[39;00m \u001b[38;5;28;01mimport\u001b[39;00m SerializeReport\n",
      "File \u001b[1;32m~\\.virtualenvs\\ADML-1DDpmVWL\\lib\\site-packages\\pandas_profiling\\report\\__init__.py:2\u001b[0m, in \u001b[0;36m<module>\u001b[1;34m\u001b[0m\n\u001b[0;32m      1\u001b[0m \u001b[38;5;124;03m\"\"\"All functionality concerned with presentation to the user.\"\"\"\u001b[39;00m\n\u001b[1;32m----> 2\u001b[0m \u001b[38;5;28;01mfrom\u001b[39;00m \u001b[38;5;21;01mpandas_profiling\u001b[39;00m\u001b[38;5;21;01m.\u001b[39;00m\u001b[38;5;21;01mreport\u001b[39;00m\u001b[38;5;21;01m.\u001b[39;00m\u001b[38;5;21;01mstructure\u001b[39;00m\u001b[38;5;21;01m.\u001b[39;00m\u001b[38;5;21;01mreport\u001b[39;00m \u001b[38;5;28;01mimport\u001b[39;00m get_report_structure\n",
      "File \u001b[1;32m~\\.virtualenvs\\ADML-1DDpmVWL\\lib\\site-packages\\pandas_profiling\\report\\structure\\report.py:37\u001b[0m, in \u001b[0;36m<module>\u001b[1;34m\u001b[0m\n\u001b[0;32m     35\u001b[0m \u001b[38;5;28;01mfrom\u001b[39;00m \u001b[38;5;21;01mpandas_profiling\u001b[39;00m\u001b[38;5;21;01m.\u001b[39;00m\u001b[38;5;21;01mreport\u001b[39;00m\u001b[38;5;21;01m.\u001b[39;00m\u001b[38;5;21;01mstructure\u001b[39;00m\u001b[38;5;21;01m.\u001b[39;00m\u001b[38;5;21;01mcorrelations\u001b[39;00m \u001b[38;5;28;01mimport\u001b[39;00m get_correlation_items\n\u001b[0;32m     36\u001b[0m \u001b[38;5;28;01mfrom\u001b[39;00m \u001b[38;5;21;01mpandas_profiling\u001b[39;00m\u001b[38;5;21;01m.\u001b[39;00m\u001b[38;5;21;01mreport\u001b[39;00m\u001b[38;5;21;01m.\u001b[39;00m\u001b[38;5;21;01mstructure\u001b[39;00m\u001b[38;5;21;01m.\u001b[39;00m\u001b[38;5;21;01moverview\u001b[39;00m \u001b[38;5;28;01mimport\u001b[39;00m get_dataset_items\n\u001b[1;32m---> 37\u001b[0m \u001b[38;5;28;01mfrom\u001b[39;00m \u001b[38;5;21;01mpandas_profiling\u001b[39;00m\u001b[38;5;21;01m.\u001b[39;00m\u001b[38;5;21;01mreport\u001b[39;00m\u001b[38;5;21;01m.\u001b[39;00m\u001b[38;5;21;01mstructure\u001b[39;00m\u001b[38;5;21;01m.\u001b[39;00m\u001b[38;5;21;01mvariables\u001b[39;00m \u001b[38;5;28;01mimport\u001b[39;00m (\n\u001b[0;32m     38\u001b[0m     render_boolean,\n\u001b[0;32m     39\u001b[0m     render_categorical,\n\u001b[0;32m     40\u001b[0m     render_complex,\n\u001b[0;32m     41\u001b[0m     render_date,\n\u001b[0;32m     42\u001b[0m     render_generic,\n\u001b[0;32m     43\u001b[0m     render_image,\n\u001b[0;32m     44\u001b[0m     render_path,\n\u001b[0;32m     45\u001b[0m     render_real,\n\u001b[0;32m     46\u001b[0m     render_url,\n\u001b[0;32m     47\u001b[0m )\n\u001b[0;32m     48\u001b[0m \u001b[38;5;28;01mfrom\u001b[39;00m \u001b[38;5;21;01mpandas_profiling\u001b[39;00m\u001b[38;5;21;01m.\u001b[39;00m\u001b[38;5;21;01mreport\u001b[39;00m\u001b[38;5;21;01m.\u001b[39;00m\u001b[38;5;21;01mstructure\u001b[39;00m\u001b[38;5;21;01m.\u001b[39;00m\u001b[38;5;21;01mvariables\u001b[39;00m\u001b[38;5;21;01m.\u001b[39;00m\u001b[38;5;21;01mrender_file\u001b[39;00m \u001b[38;5;28;01mimport\u001b[39;00m render_file\n\u001b[0;32m     51\u001b[0m \u001b[38;5;28;01mdef\u001b[39;00m \u001b[38;5;21mget_missing_items\u001b[39m(summary) \u001b[38;5;241m-\u001b[39m\u001b[38;5;241m>\u001b[39m \u001b[38;5;28mlist\u001b[39m:\n",
      "File \u001b[1;32m~\\.virtualenvs\\ADML-1DDpmVWL\\lib\\site-packages\\pandas_profiling\\report\\structure\\variables\\__init__.py:2\u001b[0m, in \u001b[0;36m<module>\u001b[1;34m\u001b[0m\n\u001b[0;32m      1\u001b[0m \u001b[38;5;28;01mfrom\u001b[39;00m \u001b[38;5;21;01mpandas_profiling\u001b[39;00m\u001b[38;5;21;01m.\u001b[39;00m\u001b[38;5;21;01mreport\u001b[39;00m\u001b[38;5;21;01m.\u001b[39;00m\u001b[38;5;21;01mstructure\u001b[39;00m\u001b[38;5;21;01m.\u001b[39;00m\u001b[38;5;21;01mvariables\u001b[39;00m\u001b[38;5;21;01m.\u001b[39;00m\u001b[38;5;21;01mrender_boolean\u001b[39;00m \u001b[38;5;28;01mimport\u001b[39;00m render_boolean\n\u001b[1;32m----> 2\u001b[0m \u001b[38;5;28;01mfrom\u001b[39;00m \u001b[38;5;21;01mpandas_profiling\u001b[39;00m\u001b[38;5;21;01m.\u001b[39;00m\u001b[38;5;21;01mreport\u001b[39;00m\u001b[38;5;21;01m.\u001b[39;00m\u001b[38;5;21;01mstructure\u001b[39;00m\u001b[38;5;21;01m.\u001b[39;00m\u001b[38;5;21;01mvariables\u001b[39;00m\u001b[38;5;21;01m.\u001b[39;00m\u001b[38;5;21;01mrender_categorical\u001b[39;00m \u001b[38;5;28;01mimport\u001b[39;00m (\n\u001b[0;32m      3\u001b[0m     render_categorical,\n\u001b[0;32m      4\u001b[0m )\n\u001b[0;32m      5\u001b[0m \u001b[38;5;28;01mfrom\u001b[39;00m \u001b[38;5;21;01mpandas_profiling\u001b[39;00m\u001b[38;5;21;01m.\u001b[39;00m\u001b[38;5;21;01mreport\u001b[39;00m\u001b[38;5;21;01m.\u001b[39;00m\u001b[38;5;21;01mstructure\u001b[39;00m\u001b[38;5;21;01m.\u001b[39;00m\u001b[38;5;21;01mvariables\u001b[39;00m\u001b[38;5;21;01m.\u001b[39;00m\u001b[38;5;21;01mrender_common\u001b[39;00m \u001b[38;5;28;01mimport\u001b[39;00m render_common\n\u001b[0;32m      6\u001b[0m \u001b[38;5;28;01mfrom\u001b[39;00m \u001b[38;5;21;01mpandas_profiling\u001b[39;00m\u001b[38;5;21;01m.\u001b[39;00m\u001b[38;5;21;01mreport\u001b[39;00m\u001b[38;5;21;01m.\u001b[39;00m\u001b[38;5;21;01mstructure\u001b[39;00m\u001b[38;5;21;01m.\u001b[39;00m\u001b[38;5;21;01mvariables\u001b[39;00m\u001b[38;5;21;01m.\u001b[39;00m\u001b[38;5;21;01mrender_complex\u001b[39;00m \u001b[38;5;28;01mimport\u001b[39;00m render_complex\n",
      "File \u001b[1;32m~\\.virtualenvs\\ADML-1DDpmVWL\\lib\\site-packages\\pandas_profiling\\report\\structure\\variables\\render_categorical.py:2\u001b[0m, in \u001b[0;36m<module>\u001b[1;34m\u001b[0m\n\u001b[0;32m      1\u001b[0m \u001b[38;5;28;01mfrom\u001b[39;00m \u001b[38;5;21;01mpandas_profiling\u001b[39;00m\u001b[38;5;21;01m.\u001b[39;00m\u001b[38;5;21;01mconfig\u001b[39;00m \u001b[38;5;28;01mimport\u001b[39;00m config\n\u001b[1;32m----> 2\u001b[0m \u001b[38;5;28;01mfrom\u001b[39;00m \u001b[38;5;21;01mpandas_profiling\u001b[39;00m\u001b[38;5;21;01m.\u001b[39;00m\u001b[38;5;21;01mreport\u001b[39;00m\u001b[38;5;21;01m.\u001b[39;00m\u001b[38;5;21;01mformatters\u001b[39;00m \u001b[38;5;28;01mimport\u001b[39;00m help\n\u001b[0;32m      3\u001b[0m \u001b[38;5;28;01mfrom\u001b[39;00m \u001b[38;5;21;01mpandas_profiling\u001b[39;00m\u001b[38;5;21;01m.\u001b[39;00m\u001b[38;5;21;01mreport\u001b[39;00m\u001b[38;5;21;01m.\u001b[39;00m\u001b[38;5;21;01mpresentation\u001b[39;00m\u001b[38;5;21;01m.\u001b[39;00m\u001b[38;5;21;01mcore\u001b[39;00m \u001b[38;5;28;01mimport\u001b[39;00m (\n\u001b[0;32m      4\u001b[0m     Container,\n\u001b[0;32m      5\u001b[0m     FrequencyTable,\n\u001b[1;32m   (...)\u001b[0m\n\u001b[0;32m      9\u001b[0m     VariableInfo,\n\u001b[0;32m     10\u001b[0m )\n\u001b[0;32m     11\u001b[0m \u001b[38;5;28;01mfrom\u001b[39;00m \u001b[38;5;21;01mpandas_profiling\u001b[39;00m\u001b[38;5;21;01m.\u001b[39;00m\u001b[38;5;21;01mreport\u001b[39;00m\u001b[38;5;21;01m.\u001b[39;00m\u001b[38;5;21;01mpresentation\u001b[39;00m\u001b[38;5;21;01m.\u001b[39;00m\u001b[38;5;21;01mfrequency_table_utils\u001b[39;00m \u001b[38;5;28;01mimport\u001b[39;00m freq_table\n",
      "File \u001b[1;32m~\\.virtualenvs\\ADML-1DDpmVWL\\lib\\site-packages\\pandas_profiling\\report\\formatters.py:5\u001b[0m, in \u001b[0;36m<module>\u001b[1;34m\u001b[0m\n\u001b[0;32m      2\u001b[0m \u001b[38;5;28;01mfrom\u001b[39;00m \u001b[38;5;21;01mtyping\u001b[39;00m \u001b[38;5;28;01mimport\u001b[39;00m Callable, Dict\n\u001b[0;32m      4\u001b[0m \u001b[38;5;28;01mimport\u001b[39;00m \u001b[38;5;21;01mnumpy\u001b[39;00m \u001b[38;5;28;01mas\u001b[39;00m \u001b[38;5;21;01mnp\u001b[39;00m\n\u001b[1;32m----> 5\u001b[0m \u001b[38;5;28;01mfrom\u001b[39;00m \u001b[38;5;21;01mjinja2\u001b[39;00m\u001b[38;5;21;01m.\u001b[39;00m\u001b[38;5;21;01mutils\u001b[39;00m \u001b[38;5;28;01mimport\u001b[39;00m escape\n\u001b[0;32m      8\u001b[0m \u001b[38;5;28;01mdef\u001b[39;00m \u001b[38;5;21mfmt_color\u001b[39m(text: \u001b[38;5;28mstr\u001b[39m, color: \u001b[38;5;28mstr\u001b[39m) \u001b[38;5;241m-\u001b[39m\u001b[38;5;241m>\u001b[39m \u001b[38;5;28mstr\u001b[39m:\n\u001b[0;32m      9\u001b[0m     \u001b[38;5;124;03m\"\"\"Format a string in a certain color (`<span>`).\u001b[39;00m\n\u001b[0;32m     10\u001b[0m \n\u001b[0;32m     11\u001b[0m \u001b[38;5;124;03m    Args:\u001b[39;00m\n\u001b[1;32m   (...)\u001b[0m\n\u001b[0;32m     16\u001b[0m \u001b[38;5;124;03m        A `<span>` that contains the colored text.\u001b[39;00m\n\u001b[0;32m     17\u001b[0m \u001b[38;5;124;03m    \"\"\"\u001b[39;00m\n",
      "\u001b[1;31mImportError\u001b[0m: cannot import name 'escape' from 'jinja2.utils' (C:\\Users\\Dave\\.virtualenvs\\ADML-1DDpmVWL\\lib\\site-packages\\jinja2\\utils.py)"
     ]
    }
   ],
   "source": [
    "import pandas_profiling\n",
    "df2 = pd.read_csv(\"sgv.csv\", sep=\";\")\n",
    "profile = df2.profile_report(html={'style':{'full_width':True}})\n",
    "# Save report\n",
    "# profile.to_file(output_file=\"sgv-profile.html\")\n",
    "profile"
   ]
  },
  {
   "cell_type": "markdown",
   "metadata": {},
   "source": [
    "## Assignment\n",
    "Now it's your turn. Open the ILIAS quiz **Data Quality Assessment** and answer the questions."
   ]
  },
  {
   "cell_type": "markdown",
   "metadata": {},
   "source": [
    "> Use these cells to answer the questions"
   ]
  },
  {
   "cell_type": "code",
   "execution_count": null,
   "metadata": {},
   "outputs": [],
   "source": [
    "#df.Passengers.values[df.Month.isin([\"June\", \"July\", \"August\", \"September\", \"October\"])] = 0\n",
    "#print(df.Passengers.values[df.Year.isin([\"2006\"])])\n",
    "\n",
    "#df.Passengers.values[df.Year==2006, df.Month=='January']\n",
    "\n",
    "#newDF['Passengers']\n",
    "newDF = df[(df.Year == 2006) & (df.Month == 'January')]\n",
    "newDF['Passengers'].sum()"
   ]
  },
  {
   "cell_type": "code",
   "execution_count": null,
   "metadata": {},
   "outputs": [],
   "source": [
    "from numpy import dot\n",
    "from numpy.linalg import norm\n",
    "a = [3, 14, 18, 23]\n",
    "b = [12, 16, 21, 29]\n",
    "cos_sim = dot(a, b)/(norm(a)*norm(b))\n",
    "print(cos_sim)"
   ]
  },
  {
   "cell_type": "code",
   "execution_count": null,
   "metadata": {},
   "outputs": [],
   "source": []
  },
  {
   "cell_type": "code",
   "execution_count": null,
   "metadata": {},
   "outputs": [],
   "source": []
  },
  {
   "cell_type": "code",
   "execution_count": null,
   "metadata": {},
   "outputs": [],
   "source": []
  }
 ],
 "metadata": {
  "jupytext": {
   "text_representation": {
    "extension": ".py",
    "format_name": "percent",
    "format_version": "1.2",
    "jupytext_version": "0.8.6"
   }
  },
  "kernelspec": {
   "display_name": "Python 3 (ipykernel)",
   "language": "python",
   "name": "python3"
  },
  "language_info": {
   "codemirror_mode": {
    "name": "ipython",
    "version": 3
   },
   "file_extension": ".py",
   "mimetype": "text/x-python",
   "name": "python",
   "nbconvert_exporter": "python",
   "pygments_lexer": "ipython3",
   "version": "3.9.13"
  }
 },
 "nbformat": 4,
 "nbformat_minor": 2
}
