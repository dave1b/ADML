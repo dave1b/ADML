{
 "cells": [
  {
   "cell_type": "markdown",
   "metadata": {},
   "source": [
    "# Gradient Descent\n",
    "This notebook demonstrates the gradient descent approach to determine the best fitting parameters by linear regression. \n",
    "\n"
   ]
  },
  {
   "cell_type": "code",
   "execution_count": 1,
   "metadata": {},
   "outputs": [],
   "source": [
    "import numpy as np\n",
    "import pandas as pd\n",
    "from matplotlib import pyplot as plt\n",
    "import seaborn as sns\n",
    "import sklearn\n",
    "import sklearn.decomposition\n",
    "import math\n",
    "from sklearn import preprocessing\n",
    "\n",
    "import matplotlib\n",
    "import matplotlib.mlab as mlab\n",
    "from sklearn.model_selection import train_test_split\n",
    "from sklearn.preprocessing import StandardScaler\n",
    "from sklearn.metrics import r2_score\n",
    "from collections import defaultdict\n",
    "\n",
    "from tqdm.notebook import tqdm\n",
    "from ipywidgets import interact\n",
    "%matplotlib inline"
   ]
  },
  {
   "cell_type": "markdown",
   "metadata": {},
   "source": [
    "## Part 1 - Toy Example\n",
    "Firstly, we demonstrate gradient descent on a simple linear regression problem with one dependent and one independent variable."
   ]
  },
  {
   "cell_type": "code",
   "execution_count": 2,
   "metadata": {},
   "outputs": [],
   "source": [
    "X = np.array([1,1,2,3,4,5,6,7,8,9,10,10])\n",
    "y = np.array([1,2,3,1,4,5,6,4,7,10,15,9])"
   ]
  },
  {
   "cell_type": "markdown",
   "metadata": {},
   "source": [
    "x and y values are plotted in a diagram."
   ]
  },
  {
   "cell_type": "code",
   "execution_count": 3,
   "metadata": {},
   "outputs": [
    {
     "data": {
      "image/png": "[encoded data removed]",
      "text/plain": [
       "<Figure size 432x288 with 1 Axes>"
      ]
     },
     "metadata": {
      "needs_background": "light"
     },
     "output_type": "display_data"
    }
   ],
   "source": [
    "plt.plot(X, y, 'bo')\n",
    "plt.show()"
   ]
  },
  {
   "cell_type": "markdown",
   "metadata": {},
   "source": [
    "We then try to fit the points by a straight line."
   ]
  },
  {
   "cell_type": "code",
   "execution_count": 4,
   "metadata": {},
   "outputs": [],
   "source": [
    "theta0 = -0.5\n",
    "theta1 = 1"
   ]
  },
  {
   "cell_type": "code",
   "execution_count": 5,
   "metadata": {},
   "outputs": [],
   "source": [
    "def predict(X, theta0, theta1):\n",
    "    y_pred = theta0 + theta1 * X\n",
    "    return y_pred\n",
    "\n",
    "y_pred = predict(X, theta0, theta1)"
   ]
  },
  {
   "cell_type": "code",
   "execution_count": 6,
   "metadata": {},
   "outputs": [
    {
     "name": "stderr",
     "output_type": "stream",
     "text": [
      "C:\\Users\\Dave\\.virtualenvs\\ADML-1DDpmVWL\\lib\\site-packages\\seaborn\\_decorators.py:36: FutureWarning: Pass the following variables as keyword args: x, y. From version 0.12, the only valid positional argument will be `data`, and passing other arguments without an explicit keyword will result in an error or misinterpretation.\n",
      "  warnings.warn(\n"
     ]
    },
    {
     "data": {
      "image/png": "[encoded data removed]",
      "text/plain": [
       "<Figure size 432x288 with 1 Axes>"
      ]
     },
     "metadata": {
      "needs_background": "light"
     },
     "output_type": "display_data"
    }
   ],
   "source": [
    "def plot_regression_line(X, theta0, theta1, ax=None):\n",
    "    if ax is None:\n",
    "        fig, ax = plt.subplots()\n",
    "    x = np.arange(X.min()-1, X.max()+1, 1).reshape(-1,1)\n",
    "    y_pred = predict(x, theta0, theta1)\n",
    "    ax.plot(x, y_pred, color=\"r\")\n",
    "    \n",
    "ax = sns.scatterplot(X, y)\n",
    "plot_regression_line(X, theta0, theta1, ax)\n",
    "plt.show()"
   ]
  },
  {
   "cell_type": "markdown",
   "metadata": {},
   "source": [
    "This does not look so bad. Let's implement a gradient descent algorithm to do this automatically."
   ]
  },
  {
   "cell_type": "markdown",
   "metadata": {},
   "source": [
    "### Cost function\n",
    "We define a cost function that determines the mean squared error of the predicted and the actual y coordinates. To get rid of the factor 2 in the gradient\n",
    "formula, we divide the sum by 2."
   ]
  },
  {
   "cell_type": "markdown",
   "metadata": {},
   "source": [
    "> Implement the MSE cost function"
   ]
  },
  {
   "cell_type": "code",
   "execution_count": 17,
   "metadata": {
    "solution2": "hidden",
    "solution2_first": true
   },
   "outputs": [],
   "source": [
    "def cost(y, y_pred):\n",
    "    cost = np.sum((y - y_pred) ** 2)/(2*len(y))\n",
    "    return cost"
   ]
  },
  {
   "cell_type": "code",
   "execution_count": 15,
   "metadata": {
    "solution2": "hidden"
   },
   "outputs": [],
   "source": [
    "def cost(y, y_pred):\n",
    "    cost = np.sum((y_pred - y) ** 2) / (2 * len(y))\n",
    "    return cost"
   ]
  },
  {
   "cell_type": "code",
   "execution_count": 18,
   "metadata": {},
   "outputs": [
    {
     "data": {
      "text/plain": [
       "1.9583333333333333"
      ]
     },
     "execution_count": 18,
     "metadata": {},
     "output_type": "execute_result"
    }
   ],
   "source": [
    "cost(y, y_pred)"
   ]
  },
  {
   "cell_type": "markdown",
   "metadata": {},
   "source": [
    "### Calculate gradient\n",
    "\n",
    "Next, let us determine the gradient of y in respect to the parameters."
   ]
  },
  {
   "cell_type": "markdown",
   "metadata": {},
   "source": [
    "> Implement the `gradient` function"
   ]
  },
  {
   "cell_type": "code",
   "execution_count": 21,
   "metadata": {
    "solution2": "hidden",
    "solution2_first": true
   },
   "outputs": [],
   "source": [
    "#def gradient(X, y, theta0, theta1):\n",
    "#    Q = ((-2*X).dot(y)+(2*(X.T)).dot(X).dot([theta0, theta1]))\n",
    "#    grad_theta0 = Q[0]\n",
    "#    grad_theta1 = +[1]\n",
    "#    return grad_theta0, grad_theta1"
   ]
  },
  {
   "cell_type": "code",
   "execution_count": 23,
   "metadata": {
    "solution2": "hidden"
   },
   "outputs": [],
   "source": [
    "def gradient(X, y, theta0, theta1):\n",
    "    y_pred = predict(X, theta0, theta1)\n",
    "    diff = y_pred - y\n",
    "    \n",
    "    n = len(X)\n",
    "    grad_theta0 = np.sum(diff) / n\n",
    "    grad_theta1 = np.dot(diff, X.T) / n\n",
    "    \n",
    "    return grad_theta0, grad_theta1"
   ]
  },
  {
   "cell_type": "code",
   "execution_count": 24,
   "metadata": {},
   "outputs": [
    {
     "data": {
      "text/plain": [
       "(-0.5833333333333334, -4.166666666666667)"
      ]
     },
     "execution_count": 24,
     "metadata": {},
     "output_type": "execute_result"
    }
   ],
   "source": [
    "gradient(X, y, theta0, theta1)"
   ]
  },
  {
   "cell_type": "markdown",
   "metadata": {},
   "source": [
    "### Batch Gradient descent\n"
   ]
  },
  {
   "cell_type": "markdown",
   "metadata": {},
   "source": [
    "> Now complete the `fit` function by iteratively updating our model parameters.\n",
    "\n",
    "To visualize how the parameters and cost functions change with each epoch, we store them in a dictionary."
   ]
  },
  {
   "cell_type": "code",
   "execution_count": null,
   "metadata": {
    "solution2": "hidden",
    "solution2_first": true
   },
   "outputs": [],
   "source": [
    "def fit(X, y, alpha, num_epochs, display_every=10):\n",
    "    theta0 = 0.0\n",
    "    theta1 = np.random.randn()\n",
    "    \n",
    "    hist = defaultdict(list)\n",
    "    for epoch in tqdm(range(1, num_epochs + 1)):\n",
    "        # START YOUR CODE\n",
    "        \n",
    "        \n",
    "        \n",
    "        \n",
    "        \n",
    "        \n",
    "        # END YOUR CODE\n",
    "        y_pred = predict(X, theta0, theta1)\n",
    "        curr_cost = cost(y, y_pred)\n",
    "        \n",
    "        hist[\"cost\"].append(curr_cost)\n",
    "        hist[\"theta0\"].append(theta0)\n",
    "        hist[\"theta1\"].append(theta1)\n",
    "\n",
    "        if epoch % display_every == 0:\n",
    "            print(\"Epoch {} -  cost: {}\".format(epoch, curr_cost))\n",
    "        \n",
    "    return theta0, theta1, hist"
   ]
  },
  {
   "cell_type": "code",
   "execution_count": 25,
   "metadata": {
    "scrolled": true,
    "solution2": "hidden"
   },
   "outputs": [],
   "source": [
    "def fit(X, y, alpha, num_epochs, display_every=10):\n",
    "    theta0 = 0.0\n",
    "    theta1 = np.random.randn()\n",
    "    \n",
    "    hist = defaultdict(list)\n",
    "    for epoch in tqdm(range(1, num_epochs + 1)):\n",
    "        grad_theta0, grad_theta1 = gradient(X, y, theta0, theta1)\n",
    "        theta0 = theta0 - alpha * grad_theta0\n",
    "        theta1 = theta1 - alpha * grad_theta1\n",
    "        \n",
    "        y_pred = predict(X, theta0, theta1)\n",
    "        curr_cost = cost(y, y_pred)\n",
    "        \n",
    "        hist[\"cost\"].append(curr_cost)\n",
    "        hist[\"theta0\"].append(theta0)\n",
    "        hist[\"theta1\"].append(theta1)\n",
    "\n",
    "        if epoch % display_every == 0:\n",
    "            print(\"Epoch {} -  cost: {}\".format(epoch, curr_cost))\n",
    "        \n",
    "    return theta0, theta1, hist"
   ]
  },
  {
   "cell_type": "code",
   "execution_count": 26,
   "metadata": {},
   "outputs": [
    {
     "data": {
      "application/vnd.jupyter.widget-view+json": {
       "model_id": "e44935c57c7648db8c3135db083df99f",
       "version_major": 2,
       "version_minor": 0
      },
      "text/plain": [
       "HBox(children=(HTML(value=''), FloatProgress(value=0.0, max=20.0), HTML(value='')))"
      ]
     },
     "metadata": {},
     "output_type": "display_data"
    },
    {
     "name": "stdout",
     "output_type": "stream",
     "text": [
      "Epoch 2 -  cost: 3.1580094301817216\n",
      "Epoch 4 -  cost: 1.942829990981549\n",
      "Epoch 6 -  cost: 1.7977710098871489\n",
      "Epoch 8 -  cost: 1.7801883165261911\n",
      "Epoch 10 -  cost: 1.7777936611785705\n",
      "Epoch 12 -  cost: 1.7772111846668872\n",
      "Epoch 14 -  cost: 1.7768475188812023\n",
      "Epoch 16 -  cost: 1.7765128319152195\n",
      "Epoch 18 -  cost: 1.7761844820480377\n",
      "Epoch 20 -  cost: 1.7758597436184829\n",
      "\n"
     ]
    }
   ],
   "source": [
    "alpha = 0.01\n",
    "num_epochs = 20\n",
    "\n",
    "theta0, theta1, hist = fit(X, y, alpha, num_epochs, display_every=2)"
   ]
  },
  {
   "cell_type": "markdown",
   "metadata": {},
   "source": [
    "### Visualize learning \n",
    "We can now visualize the learning process by plotting the validation curve. The validation curve shows how the cost decreases by increasing number of epochs."
   ]
  },
  {
   "cell_type": "code",
   "execution_count": 27,
   "metadata": {},
   "outputs": [
    {
     "data": {
      "image/png": "[encoded data removed]",
      "text/plain": [
       "<Figure size 432x288 with 1 Axes>"
      ]
     },
     "metadata": {
      "needs_background": "light"
     },
     "output_type": "display_data"
    }
   ],
   "source": [
    "def plot_validation_curve(data, ax=None, ylim=None):\n",
    "    if ax is None:\n",
    "        fig, ax = plt.subplots()\n",
    "        ax.set_title(\"Validation Curve\")\n",
    "        ax.set_ylabel(\"Cost\")\n",
    "    if ylim is not None:\n",
    "        ax.set_ylim(ylim)\n",
    "    ax.set_xlabel(\"Epochs\")\n",
    "    ax.plot(data)\n",
    "    \n",
    "plot_validation_curve(hist[\"cost\"])"
   ]
  },
  {
   "cell_type": "markdown",
   "metadata": {},
   "source": [
    "Using our history, we can now visualize how the parameters change by each epoch."
   ]
  },
  {
   "cell_type": "code",
   "execution_count": 28,
   "metadata": {},
   "outputs": [
    {
     "data": {
      "application/vnd.jupyter.widget-view+json": {
       "model_id": "104a543b7ecc40f38b4a5caa66f71a0e",
       "version_major": 2,
       "version_minor": 0
      },
      "text/plain": [
       "interactive(children=(IntSlider(value=1, description='epoch', max=20, min=1), Output()), _dom_classes=('widget…"
      ]
     },
     "metadata": {},
     "output_type": "display_data"
    }
   ],
   "source": [
    "@interact(epoch=(1, len(hist[\"theta0\"])))\n",
    "def visualize_learning(epoch=1):\n",
    "    ax = sns.scatterplot(X, y)\n",
    "    plot_regression_line(X, hist[\"theta0\"][epoch-1], hist[\"theta1\"][epoch-1], ax)\n",
    "    plt.show()"
   ]
  },
  {
   "cell_type": "markdown",
   "metadata": {},
   "source": [
    "### Contour plot\n",
    "We can visualize how our model parameters $\\Theta$ change after each epoch by displaying a contour plot."
   ]
  },
  {
   "cell_type": "code",
   "execution_count": 29,
   "metadata": {},
   "outputs": [],
   "source": [
    "def parallel_cost(Theta0, Theta1, X, y):\n",
    "    m = Theta0.shape[0]\n",
    "    n = Theta0.shape[1]\n",
    "    tot = np.zeros((m,n))\n",
    "    for i in range(1,len(X)):\n",
    "        tot += (Theta0 + Theta1 * X[i] - y[i]) ** 2;\n",
    "    return tot/(2*len(X))"
   ]
  },
  {
   "cell_type": "code",
   "execution_count": 31,
   "metadata": {
    "scrolled": false
   },
   "outputs": [],
   "source": [
    "matplotlib.rcParams['xtick.direction'] = 'out'\n",
    "matplotlib.rcParams['ytick.direction'] = 'out'\n",
    "\n",
    "def contour_plot_zoomed(X, y, ax=None):\n",
    "    if ax is None:\n",
    "        fig, ax = plt.subplots(figsize=(12,8))\n",
    "    delta = 0.025\n",
    "    t0 = np.arange(-0.5, 0.5, delta)\n",
    "    t1 = np.arange(0.5, 1.5, delta)\n",
    "    T0, T1 = np.meshgrid(t0, t1)\n",
    "    Z = parallel_cost(T0, T1, X, y)\n",
    "    CS = ax.contour(T0, T1, Z, levels = [0.25,0.5,1,2,3])\n",
    "    ax.clabel(CS, inline=1, fontsize=10)\n",
    "    ax.set_title('Contour plot')\n",
    "    ax.set_xlabel(r'$\\theta_0$')\n",
    "    ax.set_ylabel(r'$\\theta_1$')\n",
    "    return ax"
   ]
  },
  {
   "cell_type": "code",
   "execution_count": 32,
   "metadata": {},
   "outputs": [
    {
     "data": {
      "application/vnd.jupyter.widget-view+json": {
       "model_id": "93ad0982cb4846c19f8ba6d05a0d087f",
       "version_major": 2,
       "version_minor": 0
      },
      "text/plain": [
       "interactive(children=(IntSlider(value=1, description='epoch', max=20, min=1), Output()), _dom_classes=('widget…"
      ]
     },
     "metadata": {},
     "output_type": "display_data"
    }
   ],
   "source": [
    "@interact(epoch=(1, len(hist[\"theta0\"])))\n",
    "def visualize_contour_plot(epoch=1):\n",
    "    ax = contour_plot_zoomed(X, y)\n",
    "    for i in range(epoch):\n",
    "        theta0 = hist[\"theta0\"][i]\n",
    "        theta1 = hist[\"theta1\"][i]\n",
    "        ax.plot(theta0, theta1, \"ro\", linewidth=9)\n",
    "        if i == 0: \n",
    "            continue\n",
    "            \n",
    "        theta0_prev = hist[\"theta0\"][i-1]\n",
    "        theta1_prev = hist[\"theta1\"][i-1]\n",
    "        \n",
    "        ax.annotate('', xy=[theta0, theta1], xytext=[theta0_prev, theta1_prev],\n",
    "                   arrowprops={'arrowstyle': '->', 'color': 'r', 'lw': 1},\n",
    "                   va='center', ha='center')\n",
    "    plt.show()"
   ]
  },
  {
   "cell_type": "markdown",
   "metadata": {},
   "source": [
    "### Normalise data\n",
    "Let's run the experiment above again but this time first normalise the data and see what happens.\n",
    "We use the `StandardScaler` which implements z-normalisation."
   ]
  },
  {
   "cell_type": "code",
   "execution_count": 33,
   "metadata": {},
   "outputs": [
    {
     "data": {
      "text/plain": [
       "array([-1.40556386, -1.40556386, -1.09321633, -0.78086881, -0.46852129,\n",
       "       -0.15617376,  0.15617376,  0.46852129,  0.78086881,  1.09321633,\n",
       "        1.40556386,  1.40556386])"
      ]
     },
     "execution_count": 33,
     "metadata": {},
     "output_type": "execute_result"
    }
   ],
   "source": [
    "scaler = StandardScaler()\n",
    "X_scaled = scaler.fit_transform(X.reshape(-1, 1)).reshape(-1)\n",
    "X_scaled"
   ]
  },
  {
   "cell_type": "markdown",
   "metadata": {},
   "source": [
    "#### Apply gradient descent algorithm on normalised data."
   ]
  },
  {
   "cell_type": "code",
   "execution_count": 34,
   "metadata": {},
   "outputs": [
    {
     "data": {
      "application/vnd.jupyter.widget-view+json": {
       "model_id": "af9ee1b4bdfc4cfe8b14c4697bd12227",
       "version_major": 2,
       "version_minor": 0
      },
      "text/plain": [
       "HBox(children=(HTML(value=''), FloatProgress(value=0.0, max=20.0), HTML(value='')))"
      ]
     },
     "metadata": {},
     "output_type": "display_data"
    },
    {
     "name": "stdout",
     "output_type": "stream",
     "text": [
      "Epoch 2 -  cost: 20.78484605952842\n",
      "Epoch 4 -  cost: 20.034536885162876\n",
      "Epoch 6 -  cost: 19.313792886000936\n",
      "Epoch 8 -  cost: 18.621449076174535\n",
      "Epoch 10 -  cost: 17.956386374907094\n",
      "Epoch 12 -  cost: 17.317529797669767\n",
      "Epoch 14 -  cost: 16.703846718613335\n",
      "Epoch 16 -  cost: 16.114345201467216\n",
      "Epoch 18 -  cost: 15.548072396207706\n",
      "Epoch 20 -  cost: 15.004112998903906\n",
      "\n"
     ]
    },
    {
     "data": {
      "image/png": "[encoded data removed]",
      "text/plain": [
       "<Figure size 432x288 with 1 Axes>"
      ]
     },
     "metadata": {
      "needs_background": "light"
     },
     "output_type": "display_data"
    }
   ],
   "source": [
    "alpha = 0.01\n",
    "num_epochs = 20\n",
    "\n",
    "theta0, theta1, hist_scaled = fit(X_scaled, y, alpha, num_epochs, display_every=2)\n",
    "plot_validation_curve(hist_scaled[\"cost\"])"
   ]
  },
  {
   "cell_type": "markdown",
   "metadata": {},
   "source": [
    "It seems like it did not converge yet. Let's increase the learning rate $\\alpha$ and the number of epochs and run it again."
   ]
  },
  {
   "cell_type": "code",
   "execution_count": 35,
   "metadata": {},
   "outputs": [
    {
     "data": {
      "application/vnd.jupyter.widget-view+json": {
       "model_id": "4a0d6c8b761645ed9110e56b5293a517",
       "version_major": 2,
       "version_minor": 0
      },
      "text/plain": [
       "HBox(children=(HTML(value=''), FloatProgress(value=0.0, max=50.0), HTML(value='')))"
      ]
     },
     "metadata": {},
     "output_type": "display_data"
    },
    {
     "name": "stdout",
     "output_type": "stream",
     "text": [
      "Epoch 5 -  cost: 8.589414546571284\n",
      "Epoch 10 -  cost: 4.130453966292318\n",
      "Epoch 15 -  cost: 2.5757105466932577\n",
      "Epoch 20 -  cost: 2.0336050363917186\n",
      "Epoch 25 -  cost: 1.8445845326901633\n",
      "Epoch 30 -  cost: 1.7786771583125889\n",
      "Epoch 35 -  cost: 1.7556966778235295\n",
      "Epoch 40 -  cost: 1.7476838797338559\n",
      "Epoch 45 -  cost: 1.744889989795113\n",
      "Epoch 50 -  cost: 1.74391582060946\n",
      "\n"
     ]
    },
    {
     "data": {
      "image/png": "[encoded data removed]",
      "text/plain": [
       "<Figure size 432x288 with 1 Axes>"
      ]
     },
     "metadata": {
      "needs_background": "light"
     },
     "output_type": "display_data"
    }
   ],
   "source": [
    "alpha = 0.1\n",
    "num_epochs = 50\n",
    "\n",
    "theta0, theta1, hist_scaled = fit(X_scaled, y, alpha, num_epochs, display_every=5)\n",
    "plot_validation_curve(hist_scaled[\"cost\"])"
   ]
  },
  {
   "cell_type": "markdown",
   "metadata": {},
   "source": [
    "That looks much better now. Okay, let's plot the contours."
   ]
  },
  {
   "cell_type": "code",
   "execution_count": 36,
   "metadata": {},
   "outputs": [],
   "source": [
    "def contour_plot(X, y, ax=None):\n",
    "    if ax is None:\n",
    "        fig, ax = plt.subplots(figsize=(12,8))\n",
    "    delta = 0.025\n",
    "    t0 = np.arange(0, 9, delta)\n",
    "    t1 = np.arange(0, 9, delta)\n",
    "    T0, T1 = np.meshgrid(t0, t1)\n",
    "    Z = parallel_cost(T0, T1, X, y)\n",
    "    CS = ax.contour(T0, T1, Z, levels = [1,2,3,4,5,6])\n",
    "    ax.clabel(CS, inline=1, fontsize=10)\n",
    "    ax.set_title('Contour plot')\n",
    "    ax.set_xlabel(r'$\\theta_0$')\n",
    "    ax.set_ylabel(r'$\\theta_1$')\n",
    "    return ax"
   ]
  },
  {
   "cell_type": "code",
   "execution_count": 37,
   "metadata": {
    "code_folding": [],
    "scrolled": false
   },
   "outputs": [
    {
     "data": {
      "application/vnd.jupyter.widget-view+json": {
       "model_id": "7028efe2a20c4431a34e2188b9605bb5",
       "version_major": 2,
       "version_minor": 0
      },
      "text/plain": [
       "interactive(children=(IntSlider(value=1, description='epoch', max=50, min=1), Output()), _dom_classes=('widget…"
      ]
     },
     "metadata": {},
     "output_type": "display_data"
    }
   ],
   "source": [
    "@interact(epoch=(1, len(hist_scaled[\"theta0\"])))\n",
    "def visualize_contour_plot(epoch=1):\n",
    "    ax = contour_plot(X_scaled, y)\n",
    "    for i in range(epoch):\n",
    "        theta0 = hist_scaled[\"theta0\"][i]\n",
    "        theta1 = hist_scaled[\"theta1\"][i]\n",
    "        ax.plot(theta0, theta1, \"ro\", linewidth=9)\n",
    "        if i == 0: \n",
    "            continue\n",
    "            \n",
    "        theta0_prev = hist_scaled[\"theta0\"][i-1]\n",
    "        theta1_prev = hist_scaled[\"theta1\"][i-1]\n",
    "        \n",
    "        ax.annotate('', xy=[theta0, theta1], xytext=[theta0_prev, theta1_prev],\n",
    "                   arrowprops={'arrowstyle': '->', 'color': 'r', 'lw': 1},\n",
    "                   va='center', ha='center')\n",
    "    plt.show()"
   ]
  },
  {
   "cell_type": "markdown",
   "metadata": {},
   "source": [
    "The contours are not as narrow as before. \n",
    "\n",
    "<span style=\"color:red\">\n",
    "    Make sure that you never forget to scale your data before applying the gradient descent algorithm!</span>"
   ]
  },
  {
   "cell_type": "markdown",
   "metadata": {},
   "source": [
    "## Part 2 - House prices data set\n",
    "Now that we have tested our functions with our toy datset, let's move to a the house price dataset."
   ]
  },
  {
   "cell_type": "code",
   "execution_count": 38,
   "metadata": {
    "scrolled": true
   },
   "outputs": [
    {
     "data": {
      "text/html": [
       "<div>\n",
       "<style scoped>\n",
       "    .dataframe tbody tr th:only-of-type {\n",
       "        vertical-align: middle;\n",
       "    }\n",
       "\n",
       "    .dataframe tbody tr th {\n",
       "        vertical-align: top;\n",
       "    }\n",
       "\n",
       "    .dataframe thead th {\n",
       "        text-align: right;\n",
       "    }\n",
       "</style>\n",
       "<table border=\"1\" class=\"dataframe\">\n",
       "  <thead>\n",
       "    <tr style=\"text-align: right;\">\n",
       "      <th></th>\n",
       "      <th>Size</th>\n",
       "      <th>Bedrooms</th>\n",
       "      <th>Price</th>\n",
       "    </tr>\n",
       "  </thead>\n",
       "  <tbody>\n",
       "    <tr>\n",
       "      <th>0</th>\n",
       "      <td>2104</td>\n",
       "      <td>3</td>\n",
       "      <td>399900</td>\n",
       "    </tr>\n",
       "    <tr>\n",
       "      <th>1</th>\n",
       "      <td>1600</td>\n",
       "      <td>3</td>\n",
       "      <td>329900</td>\n",
       "    </tr>\n",
       "    <tr>\n",
       "      <th>2</th>\n",
       "      <td>2400</td>\n",
       "      <td>3</td>\n",
       "      <td>369000</td>\n",
       "    </tr>\n",
       "    <tr>\n",
       "      <th>3</th>\n",
       "      <td>1416</td>\n",
       "      <td>2</td>\n",
       "      <td>232000</td>\n",
       "    </tr>\n",
       "    <tr>\n",
       "      <th>4</th>\n",
       "      <td>3000</td>\n",
       "      <td>4</td>\n",
       "      <td>539900</td>\n",
       "    </tr>\n",
       "  </tbody>\n",
       "</table>\n",
       "</div>"
      ],
      "text/plain": [
       "   Size  Bedrooms   Price\n",
       "0  2104         3  399900\n",
       "1  1600         3  329900\n",
       "2  2400         3  369000\n",
       "3  1416         2  232000\n",
       "4  3000         4  539900"
      ]
     },
     "execution_count": 38,
     "metadata": {},
     "output_type": "execute_result"
    }
   ],
   "source": [
    "df_house = pd.read_csv('house_prices.csv')\n",
    "df_house.head()"
   ]
  },
  {
   "cell_type": "markdown",
   "metadata": {},
   "source": [
    "We want to predict the price of a house based on its size."
   ]
  },
  {
   "cell_type": "markdown",
   "metadata": {},
   "source": [
    "Let's split the feature from the target variable."
   ]
  },
  {
   "cell_type": "code",
   "execution_count": 39,
   "metadata": {},
   "outputs": [],
   "source": [
    "X_house = df_house[[\"Size\"]].values\n",
    "y_house = df_house.Price.values"
   ]
  },
  {
   "cell_type": "markdown",
   "metadata": {},
   "source": [
    "Next, we further split the data into a training and test set."
   ]
  },
  {
   "cell_type": "code",
   "execution_count": 40,
   "metadata": {},
   "outputs": [],
   "source": [
    "split = train_test_split(X_house, y_house, test_size=0.2, random_state=42)\n",
    "(X_train_house, X_test_house, y_train_house, y_test_house) = split\n",
    "X_train_house = X_train_house.reshape(-1)\n",
    "X_test_house = X_test_house.reshape(-1)"
   ]
  },
  {
   "cell_type": "markdown",
   "metadata": {},
   "source": [
    "Here we visualize our training data in a scatter plot."
   ]
  },
  {
   "cell_type": "code",
   "execution_count": 41,
   "metadata": {},
   "outputs": [
    {
     "name": "stderr",
     "output_type": "stream",
     "text": [
      "C:\\Users\\Dave\\.virtualenvs\\ADML-1DDpmVWL\\lib\\site-packages\\seaborn\\_decorators.py:36: FutureWarning: Pass the following variables as keyword args: x, y. From version 0.12, the only valid positional argument will be `data`, and passing other arguments without an explicit keyword will result in an error or misinterpretation.\n",
      "  warnings.warn(\n"
     ]
    },
    {
     "data": {
      "text/plain": [
       "<AxesSubplot:>"
      ]
     },
     "execution_count": 41,
     "metadata": {},
     "output_type": "execute_result"
    },
    {
     "data": {
      "image/png": "[encoded data removed]",
      "text/plain": [
       "<Figure size 432x288 with 1 Axes>"
      ]
     },
     "metadata": {
      "needs_background": "light"
     },
     "output_type": "display_data"
    }
   ],
   "source": [
    "sns.scatterplot(X_train_house.reshape(-1), y_train_house)"
   ]
  },
  {
   "cell_type": "markdown",
   "metadata": {},
   "source": [
    "#### Apply Batch Gradient Descent\n",
    "Let's use our implemented `fit` method to apply batch gradient descent to the house price dataset and see what happens."
   ]
  },
  {
   "cell_type": "code",
   "execution_count": 42,
   "metadata": {},
   "outputs": [
    {
     "data": {
      "application/vnd.jupyter.widget-view+json": {
       "model_id": "c7401390311c4a258a3b0e60984a9d29",
       "version_major": 2,
       "version_minor": 0
      },
      "text/plain": [
       "HBox(children=(HTML(value=''), FloatProgress(value=0.0, max=300.0), HTML(value='')))"
      ]
     },
     "metadata": {},
     "output_type": "display_data"
    },
    {
     "name": "stdout",
     "output_type": "stream",
     "text": [
      "Epoch 20 -  cost: 3.1974129473531992e+196\n",
      "Epoch 40 -  cost: inf\n",
      "Epoch 60 -  cost: inf\n",
      "Epoch 80 -  cost: nan\n",
      "Epoch 100 -  cost: nan\n",
      "Epoch 120 -  cost: nan\n",
      "Epoch 140 -  cost: nan\n",
      "Epoch 160 -  cost: nan\n",
      "Epoch 180 -  cost: nan\n",
      "Epoch 200 -  cost: nan\n",
      "Epoch 220 -  cost: nan\n",
      "Epoch 240 -  cost: nan\n",
      "Epoch 260 -  cost: nan\n",
      "Epoch 280 -  cost: nan\n",
      "Epoch 300 -  cost: nan\n",
      "\n"
     ]
    },
    {
     "name": "stderr",
     "output_type": "stream",
     "text": [
      "C:\\Users\\Dave\\AppData\\Local\\Temp\\ipykernel_24016\\2446940372.py:2: RuntimeWarning: overflow encountered in square\n",
      "  cost = np.sum((y - y_pred) ** 2)/(2*len(y))\n",
      "C:\\Users\\Dave\\.virtualenvs\\ADML-1DDpmVWL\\lib\\site-packages\\numpy\\core\\fromnumeric.py:86: RuntimeWarning: overflow encountered in reduce\n",
      "  return ufunc.reduce(obj, axis, dtype, out, **passkwargs)\n",
      "C:\\Users\\Dave\\AppData\\Local\\Temp\\ipykernel_24016\\2173058858.py:8: RuntimeWarning: invalid value encountered in double_scalars\n",
      "  theta0 = theta0 - alpha * grad_theta0\n",
      "C:\\Users\\Dave\\AppData\\Local\\Temp\\ipykernel_24016\\2173058858.py:9: RuntimeWarning: invalid value encountered in double_scalars\n",
      "  theta1 = theta1 - alpha * grad_theta1\n"
     ]
    },
    {
     "data": {
      "image/png": "[encoded data removed]",
      "text/plain": [
       "<Figure size 432x288 with 1 Axes>"
      ]
     },
     "metadata": {
      "needs_background": "light"
     },
     "output_type": "display_data"
    }
   ],
   "source": [
    "alpha = 0.01\n",
    "num_epochs = 300\n",
    "\n",
    "theta0, theta1, hist_house = fit(X_train_house, y_train_house, alpha, num_epochs, display_every=20)\n",
    "plot_validation_curve(hist_house[\"cost\"])"
   ]
  },
  {
   "cell_type": "markdown",
   "metadata": {},
   "source": [
    "It seems like our gradient descent algorithm does not converge! \n",
    "\n",
    "> Why did that happen?"
   ]
  },
  {
   "cell_type": "markdown",
   "metadata": {},
   "source": [
    "### Scaling the data\n",
    "Let's try it again but this time we will scale the data accordingly."
   ]
  },
  {
   "cell_type": "code",
   "execution_count": 43,
   "metadata": {},
   "outputs": [],
   "source": [
    "X_house_scaled = df_house[[\"Size\"]].values\n",
    "y_house_scaled = df_house.Price.values\n",
    "\n",
    "split = train_test_split(X_house_scaled, y_house_scaled, test_size=0.2, random_state=42)\n",
    "(X_train_house_scaled, X_test_house_scaled, y_train_house_scaled, y_test_house_scaled) = split"
   ]
  },
  {
   "cell_type": "markdown",
   "metadata": {},
   "source": [
    "> z-normalise the training and test data by using the [StandardScaler](https://scikit-learn.org/stable/modules/generated/sklearn.preprocessing.StandardScaler.html)"
   ]
  },
  {
   "cell_type": "code",
   "execution_count": null,
   "metadata": {
    "solution2": "hidden",
    "solution2_first": true
   },
   "outputs": [],
   "source": [
    "# z-normalise the training and test data."
   ]
  },
  {
   "cell_type": "code",
   "execution_count": 44,
   "metadata": {
    "solution2": "hidden"
   },
   "outputs": [],
   "source": [
    "scaler = StandardScaler()\n",
    "X_train_house_scaled = scaler.fit_transform(X_train_house_scaled).reshape(-1)\n",
    "X_test_house_scaled = scaler.transform(X_test_house_scaled)"
   ]
  },
  {
   "cell_type": "markdown",
   "metadata": {},
   "source": [
    "Now we apply the gradient descent algorithm again."
   ]
  },
  {
   "cell_type": "code",
   "execution_count": 45,
   "metadata": {
    "scrolled": false
   },
   "outputs": [
    {
     "data": {
      "application/vnd.jupyter.widget-view+json": {
       "model_id": "55905188e47c4935a0d81d7a294bd932",
       "version_major": 2,
       "version_minor": 0
      },
      "text/plain": [
       "HBox(children=(HTML(value=''), FloatProgress(value=0.0, max=300.0), HTML(value='')))"
      ]
     },
     "metadata": {},
     "output_type": "display_data"
    },
    {
     "name": "stdout",
     "output_type": "stream",
     "text": [
      "Epoch 20 -  cost: 39881961387.91138\n",
      "Epoch 40 -  cost: 27198682427.694122\n",
      "Epoch 60 -  cost: 18713926997.247757\n",
      "Epoch 80 -  cost: 13037865235.908405\n",
      "Epoch 100 -  cost: 9240740217.675098\n",
      "Epoch 120 -  cost: 6700570816.7186365\n",
      "Epoch 140 -  cost: 5001269225.495903\n",
      "Epoch 160 -  cost: 3864484451.675379\n",
      "Epoch 180 -  cost: 3104007542.4174266\n",
      "Epoch 200 -  cost: 2595269967.0794935\n",
      "Epoch 220 -  cost: 2254938896.655201\n",
      "Epoch 240 -  cost: 2027267021.977561\n",
      "Epoch 260 -  cost: 1874960967.5976052\n",
      "Epoch 280 -  cost: 1773072518.5582361\n",
      "Epoch 300 -  cost: 1704912023.626433\n",
      "\n"
     ]
    },
    {
     "data": {
      "image/png": "[encoded data removed]",
      "text/plain": [
       "<Figure size 432x288 with 1 Axes>"
      ]
     },
     "metadata": {
      "needs_background": "light"
     },
     "output_type": "display_data"
    }
   ],
   "source": [
    "alpha = 0.01\n",
    "num_epochs = 300\n",
    "\n",
    "theta0, theta1, hist_house_scaled = fit(X_train_house_scaled, y_train_house_scaled, alpha, \n",
    "                                        num_epochs, display_every=20)\n",
    "plot_validation_curve(hist_house_scaled[\"cost\"])"
   ]
  },
  {
   "cell_type": "markdown",
   "metadata": {},
   "source": [
    "Our validation curve looks much better now. We see that the cost converges after a few epochs."
   ]
  },
  {
   "cell_type": "markdown",
   "metadata": {},
   "source": [
    "Again we can visualize how our regression line looks after each epoch."
   ]
  },
  {
   "cell_type": "code",
   "execution_count": 46,
   "metadata": {},
   "outputs": [
    {
     "data": {
      "application/vnd.jupyter.widget-view+json": {
       "model_id": "c9bcdd26c96047cfbfb3529b293cc997",
       "version_major": 2,
       "version_minor": 0
      },
      "text/plain": [
       "interactive(children=(IntSlider(value=1, description='epoch', max=300, min=1), Output()), _dom_classes=('widge…"
      ]
     },
     "metadata": {},
     "output_type": "display_data"
    }
   ],
   "source": [
    "@interact(epoch=(1, len(hist_house_scaled[\"theta0\"])))\n",
    "def visualize_learning(epoch=1):\n",
    "    ax = sns.scatterplot(X_train_house_scaled, y_train_house_scaled)\n",
    "    plot_regression_line(X_train_house_scaled, \n",
    "                         hist_house_scaled[\"theta0\"][epoch-1], \n",
    "                         hist_house_scaled[\"theta1\"][epoch-1], ax)\n",
    "    plt.show()"
   ]
  },
  {
   "cell_type": "markdown",
   "metadata": {},
   "source": [
    "### Calculate metrics on the test set\n",
    "> Now calculate the $R^2$ score on the test set by using the previously implemented `predict` function."
   ]
  },
  {
   "cell_type": "code",
   "execution_count": null,
   "metadata": {
    "solution2": "hidden",
    "solution2_first": true
   },
   "outputs": [],
   "source": []
  },
  {
   "cell_type": "code",
   "execution_count": 47,
   "metadata": {
    "solution2": "hidden"
   },
   "outputs": [
    {
     "name": "stdout",
     "output_type": "stream",
     "text": [
      "R2: 0.4065091584271787\n"
     ]
    }
   ],
   "source": [
    "y_pred_house_scaled = predict(X_test_house_scaled, theta0, theta1)\n",
    "r2 = r2_score(y_test_house_scaled, y_pred_house_scaled)\n",
    "print(\"R2:\", r2)"
   ]
  },
  {
   "cell_type": "markdown",
   "metadata": {},
   "source": [
    "## Part 3 -  Autoscout data set\n",
    "We extend our code for multiple linear regression. We will use the autoscout dataset from the previous exercises. First we apply the data cleaning and then z-Normalise our data."
   ]
  },
  {
   "cell_type": "code",
   "execution_count": 48,
   "metadata": {},
   "outputs": [],
   "source": [
    "df_autoscout = pd.read_csv('cars.csv')\n",
    "df_autoscout.drop(['Name', 'Registration'], axis='columns', inplace=True)\n",
    "df_autoscout.drop([17010, 7734, 47002, 44369, 24720, 50574, 36542, 42611,\n",
    "         22513, 12773, 21501, 2424, 52910, 29735, 43004, 47125], axis='rows', inplace=True)\n",
    "df_autoscout.drop(df_autoscout.index[df_autoscout.EngineSize > 7500], axis='rows', inplace=True)\n",
    "df_autoscout.drop_duplicates(inplace=True)\n",
    "df_autoscout.head()\n",
    "\n",
    "numerical_cols = ['Price', 'Mileage', 'Horsepower', 'EngineSize']\n",
    "\n",
    "df_autoscout = pd.get_dummies(df_autoscout)\n",
    "\n",
    "train_autoscout, test_autoscout = train_test_split(df_autoscout, test_size=0.4, random_state=42)\n",
    "\n",
    "q3 = train_autoscout.loc[:, numerical_cols].describe().loc['75%']\n",
    "iqr = q3 - df_autoscout.loc[:, numerical_cols].describe().loc['25%']\n",
    "upper_boundary = q3 + 1.5*iqr\n",
    "upper_boundary\n",
    "\n",
    "# And here the outliers are removed\n",
    "train_autoscout = train_autoscout[(train_autoscout.Price <= upper_boundary.Price) &\n",
    "        (train_autoscout.Mileage <= upper_boundary.Mileage) &\n",
    "        (train_autoscout.Horsepower <= upper_boundary.Horsepower) &\n",
    "        (train_autoscout.EngineSize <= upper_boundary.EngineSize)]\n",
    "\n",
    "test_autoscout = test_autoscout[(test_autoscout.Price <= upper_boundary.Price) &\n",
    "        (test_autoscout.Mileage <= upper_boundary.Mileage) &\n",
    "        (test_autoscout.Horsepower <= upper_boundary.Horsepower) &\n",
    "        (test_autoscout.EngineSize <= upper_boundary.EngineSize)]\n",
    "\n",
    "X_train_autoscout = train_autoscout.drop(columns=[\"Price\"]).values\n",
    "X_test_autoscout = test_autoscout.drop(columns=[\"Price\"]).values\n",
    "\n",
    "y_train_autoscout = train_autoscout.Price.values\n",
    "y_test_autoscout = test_autoscout.Price.values\n",
    "\n",
    "# z-Normalise the data\n",
    "scaler = StandardScaler()\n",
    "X_train_autoscout = scaler.fit_transform(X_train_autoscout)\n",
    "X_test_autoscout = scaler.transform(X_test_autoscout)"
   ]
  },
  {
   "cell_type": "markdown",
   "metadata": {},
   "source": [
    "We modify our predict function that instead of providing $\\theta_0$ and $\\theta_1$ we now provide the bias ($\\theta_0$) and the other parameters $\\Theta$ as an array. \n",
    "> Implement the `predict` function"
   ]
  },
  {
   "cell_type": "code",
   "execution_count": null,
   "metadata": {
    "solution2": "hidden",
    "solution2_first": true
   },
   "outputs": [],
   "source": [
    "def predict(X, bias, thetas):\n",
    "    # START YOUR CODE\n",
    "    \n",
    "    # END YOUR CODE\n",
    "    return y_pred"
   ]
  },
  {
   "cell_type": "code",
   "execution_count": 49,
   "metadata": {
    "solution2": "hidden"
   },
   "outputs": [],
   "source": [
    "def predict(X, bias, thetas):\n",
    "    y_pred = bias + np.dot(X, thetas)\n",
    "    return y_pred"
   ]
  },
  {
   "cell_type": "markdown",
   "metadata": {},
   "source": [
    "> Implement the `gradient` function"
   ]
  },
  {
   "cell_type": "code",
   "execution_count": null,
   "metadata": {
    "solution2": "hidden",
    "solution2_first": true
   },
   "outputs": [],
   "source": [
    "def gradient(X, y, bias, thetas):\n",
    "    # START YOUR CODE\n",
    "    \n",
    "    \n",
    "    \n",
    "    # END YOUR CODE\n",
    "    return grad_bias, grad_thetas"
   ]
  },
  {
   "cell_type": "code",
   "execution_count": 50,
   "metadata": {
    "solution2": "hidden"
   },
   "outputs": [],
   "source": [
    "def gradient(X, y, bias, thetas):\n",
    "    y_pred = predict(X, bias, thetas)\n",
    "    diff = y_pred - y\n",
    "    \n",
    "    n = len(X)\n",
    "    grad_bias = np.sum(diff) / n\n",
    "    grad_thetas = np.dot(diff, X) / n\n",
    "    \n",
    "    return grad_bias, grad_thetas"
   ]
  },
  {
   "cell_type": "markdown",
   "metadata": {},
   "source": [
    "We extend our `fit` function by tracking not only the cost but also the $R^2$ score."
   ]
  },
  {
   "cell_type": "code",
   "execution_count": 51,
   "metadata": {},
   "outputs": [],
   "source": [
    "def fit(X_train, y_train, alpha, num_epochs, display_every=50):\n",
    "    bias = 0.0\n",
    "    thetas = np.random.randn(*(1, X_train.shape[1])).reshape(-1)\n",
    "    \n",
    "    hist = defaultdict(list)\n",
    "    for epoch in tqdm(range(1, num_epochs+1)):\n",
    "        grad_bias, grad_thetas = gradient(X_train, y_train, bias, thetas)\n",
    "        bias = bias - alpha * grad_bias\n",
    "        thetas = thetas - alpha * grad_thetas\n",
    "        \n",
    "        y_pred_train = predict(X_train, bias, thetas)\n",
    "        train_cost = cost(y_train, y_pred_train)\n",
    "        train_r2 = r2_score(y_train, y_pred_train)\n",
    "        \n",
    "        hist[\"train_cost\"].append(train_cost)\n",
    "        hist[\"train_r2\"].append(train_r2)\n",
    "        \n",
    "        if epoch % display_every == 0:\n",
    "            print(\"Epoch {0} - cost: {1:.2} - r2: {2:.4}\"\n",
    "                  .format(epoch, train_cost, train_r2))\n",
    "        \n",
    "    return bias, thetas, hist"
   ]
  },
  {
   "cell_type": "code",
   "execution_count": 53,
   "metadata": {
    "scrolled": false
   },
   "outputs": [
    {
     "data": {
      "application/vnd.jupyter.widget-view+json": {
       "model_id": "fe79fbba12444ce2a88806a962ebd780",
       "version_major": 2,
       "version_minor": 0
      },
      "text/plain": [
       "HBox(children=(HTML(value=''), FloatProgress(value=0.0, max=1000.0), HTML(value='')))"
      ]
     },
     "metadata": {},
     "output_type": "display_data"
    },
    {
     "name": "stdout",
     "output_type": "stream",
     "text": [
      "Epoch 50 - cost: 1.4e+08 - r2: -0.1979\n",
      "Epoch 100 - cost: 7e+07 - r2: 0.4164\n",
      "Epoch 150 - cost: 4.5e+07 - r2: 0.6264\n",
      "Epoch 200 - cost: 3.6e+07 - r2: 0.7027\n",
      "Epoch 250 - cost: 3.2e+07 - r2: 0.7313\n",
      "Epoch 300 - cost: 3.1e+07 - r2: 0.7423\n",
      "Epoch 350 - cost: 3e+07 - r2: 0.7468\n",
      "Epoch 400 - cost: 3e+07 - r2: 0.7487\n",
      "Epoch 450 - cost: 3e+07 - r2: 0.7496\n",
      "Epoch 500 - cost: 3e+07 - r2: 0.7501\n",
      "Epoch 550 - cost: 3e+07 - r2: 0.7504\n",
      "Epoch 600 - cost: 3e+07 - r2: 0.7506\n",
      "Epoch 650 - cost: 3e+07 - r2: 0.7508\n",
      "Epoch 700 - cost: 3e+07 - r2: 0.7509\n",
      "Epoch 750 - cost: 3e+07 - r2: 0.751\n",
      "Epoch 800 - cost: 3e+07 - r2: 0.7511\n",
      "Epoch 850 - cost: 3e+07 - r2: 0.7511\n",
      "Epoch 900 - cost: 3e+07 - r2: 0.7512\n",
      "Epoch 950 - cost: 3e+07 - r2: 0.7512\n",
      "Epoch 1000 - cost: 3e+07 - r2: 0.7512\n",
      "\n"
     ]
    }
   ],
   "source": [
    "alpha = 0.01\n",
    "num_epochs = 1000\n",
    "bias, thetas, hist_autoscout = fit(X_train_autoscout, y_train_autoscout, alpha, num_epochs)"
   ]
  },
  {
   "cell_type": "code",
   "execution_count": 54,
   "metadata": {},
   "outputs": [
    {
     "data": {
      "image/png": "[encoded data removed]",
      "text/plain": [
       "<Figure size 1152x360 with 2 Axes>"
      ]
     },
     "metadata": {
      "needs_background": "light"
     },
     "output_type": "display_data"
    }
   ],
   "source": [
    "def plot_validation_curves(hist, ylim=None):\n",
    "    fig, ax = plt.subplots(ncols=2, figsize=(16,5))\n",
    "\n",
    "    ax[0].set_title(\"Train Cost\")\n",
    "    ax[0].set_ylabel(\"Cost\")\n",
    "    plot_validation_curve(hist[\"train_cost\"], ax[0], ylim)\n",
    "\n",
    "    ax[1].set_title(\"Train R2\")\n",
    "    ax[1].set_ylabel(\"R2\")\n",
    "    ax[1].set_ylim(-1, 1)\n",
    "    plot_validation_curve(hist[\"train_r2\"], ax[1])\n",
    "\n",
    "    plt.tight_layout()\n",
    "\n",
    "plot_validation_curves(hist_autoscout)"
   ]
  },
  {
   "cell_type": "markdown",
   "metadata": {},
   "source": [
    "### Calculate metrics on test set\n",
    "Now we calculate the $R^2$ score on the test set."
   ]
  },
  {
   "cell_type": "code",
   "execution_count": 55,
   "metadata": {},
   "outputs": [
    {
     "name": "stdout",
     "output_type": "stream",
     "text": [
      "R2: 0.7477929333136561\n"
     ]
    }
   ],
   "source": [
    "y_pred_autoscout = predict(X_test_autoscout, bias, thetas)\n",
    "r2 = r2_score(y_test_autoscout, y_pred_autoscout)\n",
    "print(\"R2:\", r2)"
   ]
  },
  {
   "cell_type": "markdown",
   "metadata": {},
   "source": [
    "Compared to the previous exercise where we calculated the estimates for the $\\Theta$ numerically using the normal equation we got almost the same result with the gradient descent algorithm."
   ]
  },
  {
   "cell_type": "markdown",
   "metadata": {},
   "source": [
    "### Minibatch Gradient Descent"
   ]
  },
  {
   "cell_type": "markdown",
   "metadata": {},
   "source": [
    "> Now  modify our `fit` function to use mini batch gradient descent. So instead of calculating the gradient on the whole dataset on each step, only use a subset of the data."
   ]
  },
  {
   "cell_type": "code",
   "execution_count": 56,
   "metadata": {
    "solution2": "hidden",
    "solution2_first": true
   },
   "outputs": [],
   "source": [
    "def fit(X_train, y_train, alpha, num_epochs, batch_size, display_every=50):\n",
    "    bias = 0.0\n",
    "    thetas = np.random.randn(*(1, X_train.shape[1])).reshape(-1)\n",
    "    hist = defaultdict(list)\n",
    "    \n",
    "    indices_train = np.arange(len(X_train))\n",
    "    \n",
    "    num_samples = len(X_train)\n",
    "    steps = int(num_samples/batch_size)\n",
    "    \n",
    "    for epoch in tqdm(range(1, num_epochs + 1)):\n",
    "        # randomize inputs\n",
    "        np.random.shuffle(indices_train)\n",
    "        \n",
    "        X_train_epoch = X_train[indices_train]\n",
    "        y_train_epoch = y_train[indices_train]\n",
    "        \n",
    "        for step in range(steps):\n",
    "            start = step * batch_size\n",
    "            end = step * batch_size + batch_size\n",
    "            \n",
    "            X_train_mini = X_train_epoch[start:end]\n",
    "            y_train_mini = y_train_epoch[start:end]\n",
    "        \n",
    "            # START YOUR CODE\n",
    "            # Apply gradient descent\n",
    "            \n",
    "            \n",
    "            \n",
    "            # END YOUR CODE\n",
    "\n",
    "        y_pred_train = predict(X_train, bias, thetas)\n",
    "        \n",
    "        train_cost = cost(y_train, y_pred_train)\n",
    "        train_r2 = r2_score(y_train, y_pred_train)\n",
    "\n",
    "        hist[\"train_cost\"].append(train_cost)\n",
    "        hist[\"train_r2\"].append(train_r2)\n",
    "        \n",
    "        if epoch % display_every == 0 or epoch == num_epochs:\n",
    "            print(\"Epoch {0} - train_cost: {1:.2} - train_r2: {2:.4}\".format(epoch, train_cost, train_r2))\n",
    "        \n",
    "    return bias, thetas, hist"
   ]
  },
  {
   "cell_type": "code",
   "execution_count": 57,
   "metadata": {
    "code_folding": [],
    "solution2": "hidden"
   },
   "outputs": [],
   "source": [
    "def fit(X_train, y_train, alpha, num_epochs, batch_size, display_every=50):\n",
    "    bias = 0.0\n",
    "    thetas = np.random.randn(*(1, X_train.shape[1])).reshape(-1)\n",
    "    hist = defaultdict(list)\n",
    "    \n",
    "    indices_train = np.arange(len(X_train))   \n",
    "    \n",
    "    num_samples = len(X_train)\n",
    "    steps = int(num_samples/batch_size)\n",
    "    \n",
    "    for epoch in tqdm(range(1, num_epochs + 1)):\n",
    "        # randomize inputs\n",
    "        np.random.shuffle(indices_train)\n",
    "        \n",
    "        X_train_epoch = X_train[indices_train]\n",
    "        y_train_epoch = y_train[indices_train]\n",
    "        \n",
    "        for step in range(steps):\n",
    "            start = step * batch_size\n",
    "            end = step * batch_size + batch_size\n",
    "            \n",
    "            X_train_mini = X_train_epoch[start:end]\n",
    "            y_train_mini = y_train_epoch[start:end]\n",
    "        \n",
    "            grad_bias, grad_thetas = gradient(X_train_mini, y_train_mini, bias, thetas)\n",
    "            bias = bias - alpha * grad_bias\n",
    "            thetas = thetas - alpha * grad_thetas\n",
    "\n",
    "        y_pred_train = predict(X_train, bias, thetas)\n",
    "        \n",
    "        train_cost = cost(y_train, y_pred_train)\n",
    "        train_r2 = r2_score(y_train, y_pred_train)\n",
    "\n",
    "        hist[\"train_cost\"].append(train_cost)\n",
    "        hist[\"train_r2\"].append(train_r2)\n",
    "        \n",
    "        if epoch % display_every == 0 or epoch == num_epochs:\n",
    "            print(\"Epoch {0} - train_cost: {1:.2} - train_r2: {2:.4}\".format(epoch, train_cost, train_r2))\n",
    "        \n",
    "    return bias, thetas, hist"
   ]
  },
  {
   "cell_type": "markdown",
   "metadata": {},
   "source": [
    "Wo have now introduced an additional hyperparameter `batch_size`. \n",
    "* If we set `batch_size` equal to 1, we use Stochastic Gradient Desccent: We update our model parameters $\\Theta$ for each training example. \n",
    "* If we set `batch_size` equal to to the number of training samples we have again Batch Gradient Descent: We use all training samples to update the model parameters $\\Theta$."
   ]
  },
  {
   "cell_type": "markdown",
   "metadata": {},
   "source": [
    "#### Batch Gradient Descent\n",
    "We run batch gradient descent and see what happens"
   ]
  },
  {
   "cell_type": "code",
   "execution_count": 58,
   "metadata": {},
   "outputs": [
    {
     "data": {
      "application/vnd.jupyter.widget-view+json": {
       "model_id": "c0364286b4074b5492c2beb2918786c8",
       "version_major": 2,
       "version_minor": 0
      },
      "text/plain": [
       "HBox(children=(HTML(value=''), FloatProgress(value=0.0, max=50.0), HTML(value='')))"
      ]
     },
     "metadata": {},
     "output_type": "display_data"
    },
    {
     "name": "stdout",
     "output_type": "stream",
     "text": [
      "Epoch 50 - train_cost: 1.4e+08 - train_r2: -0.1979\n",
      "\n"
     ]
    },
    {
     "data": {
      "image/png": "[encoded data removed]",
      "text/plain": [
       "<Figure size 1152x360 with 2 Axes>"
      ]
     },
     "metadata": {
      "needs_background": "light"
     },
     "output_type": "display_data"
    }
   ],
   "source": [
    "alpha = 1e-2\n",
    "num_epochs = 50\n",
    "batch_size = len(X_train_autoscout)\n",
    "\n",
    "bias, thetas, hist_autoscout_batch = fit(X_train_autoscout, y_train_autoscout, alpha, num_epochs, batch_size)\n",
    "plot_validation_curves(hist_autoscout_batch)"
   ]
  },
  {
   "cell_type": "markdown",
   "metadata": {},
   "source": [
    "We can notice the following:\n",
    "* The training did not converge after those 50 epochs. We would need more epochs.\n",
    "* The training cost is strictly decreasing as we take all training samples per step"
   ]
  },
  {
   "cell_type": "markdown",
   "metadata": {},
   "source": [
    "#### Minibatch Gradient Descnet\n",
    "Let's compare it to minibatch gradient descent with a `batch_size` of 100."
   ]
  },
  {
   "cell_type": "code",
   "execution_count": 59,
   "metadata": {},
   "outputs": [
    {
     "data": {
      "application/vnd.jupyter.widget-view+json": {
       "model_id": "7a2288f4c32f4d04a0b6dcb5300646f3",
       "version_major": 2,
       "version_minor": 0
      },
      "text/plain": [
       "HBox(children=(HTML(value=''), FloatProgress(value=0.0, max=50.0), HTML(value='')))"
      ]
     },
     "metadata": {},
     "output_type": "display_data"
    },
    {
     "name": "stdout",
     "output_type": "stream",
     "text": [
      "Epoch 50 - train_cost: 3e+07 - train_r2: 0.7512\n",
      "\n"
     ]
    },
    {
     "data": {
      "image/png": "[encoded data removed]",
      "text/plain": [
       "<Figure size 1152x360 with 2 Axes>"
      ]
     },
     "metadata": {
      "needs_background": "light"
     },
     "output_type": "display_data"
    }
   ],
   "source": [
    "alpha = 1e-2\n",
    "num_epochs = 50\n",
    "batch_size = 100\n",
    "\n",
    "bias, thetas, hist_autoscout_minibatch = fit(X_train_autoscout, y_train_autoscout, alpha, num_epochs, batch_size)\n",
    "plot_validation_curves(hist_autoscout_minibatch)"
   ]
  },
  {
   "cell_type": "markdown",
   "metadata": {},
   "source": [
    "* As we are taking only a subset of our data when applying gradient descent, the training cost are not stricly decreasing anymore. \n",
    "* We do not need as many epochs as before as we are doing much more updates now."
   ]
  },
  {
   "cell_type": "markdown",
   "metadata": {},
   "source": [
    "### Calculate the performance on the test set"
   ]
  },
  {
   "cell_type": "code",
   "execution_count": 60,
   "metadata": {},
   "outputs": [
    {
     "name": "stdout",
     "output_type": "stream",
     "text": [
      "R2: 0.7478359419006266\n"
     ]
    }
   ],
   "source": [
    "y_pred_autoscout = predict(X_test_autoscout, bias, thetas)\n",
    "r2 = r2_score(y_test_autoscout, y_pred_autoscout)\n",
    "print(\"R2:\", r2)"
   ]
  },
  {
   "cell_type": "markdown",
   "metadata": {},
   "source": [
    "### Answer the ILIAS Quiz"
   ]
  },
  {
   "cell_type": "markdown",
   "metadata": {},
   "source": [
    "> Now that you have implemented the gradient descent algorithm from scratch, you're ready to answer the ILIAS Quiz **Gradient Descent**."
   ]
  }
 ],
 "metadata": {
  "kernelspec": {
   "display_name": "Python 3",
   "language": "python",
   "name": "python3"
  },
  "language_info": {
   "codemirror_mode": {
    "name": "ipython",
    "version": 3
   },
   "file_extension": ".py",
   "mimetype": "text/x-python",
   "name": "python",
   "nbconvert_exporter": "python",
   "pygments_lexer": "ipython3",
   "version": "3.9.10"
  }
 },
 "nbformat": 4,
 "nbformat_minor": 2
}
