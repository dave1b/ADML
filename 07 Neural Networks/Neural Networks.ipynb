{
 "cells": [
  {
   "cell_type": "markdown",
   "metadata": {},
   "source": [
    "# Artificial Neural Networks\n",
    "In this exercise, several parts of the code are missing, which should be completed by you. "
   ]
  },
  {
   "cell_type": "code",
   "execution_count": 1,
   "metadata": {},
   "outputs": [],
   "source": [
    "import numpy as np\n",
    "import pandas as pd\n",
    "from matplotlib import pyplot as plt\n",
    "\n",
    "import sklearn\n",
    "from sklearn.linear_model import Perceptron\n",
    "from sklearn.neural_network import MLPClassifier\n",
    "from sklearn.metrics import accuracy_score, f1_score\n",
    "from sklearn.model_selection import train_test_split\n",
    "from tqdm.notebook import tqdm\n",
    "import seaborn as sns\n",
    "from sklearn.metrics import accuracy_score\n",
    "sns.set()\n",
    "\n",
    "%matplotlib inline"
   ]
  },
  {
   "cell_type": "markdown",
   "metadata": {},
   "source": [
    "## MLP for Skin disease dataset using `scikit-learn`"
   ]
  },
  {
   "cell_type": "markdown",
   "metadata": {},
   "source": [
    "Now let us apply a neural network on the skin disesase data. To reduce the training time we reduce the amount of data in our dataset."
   ]
  },
  {
   "cell_type": "code",
   "execution_count": 2,
   "metadata": {},
   "outputs": [
    {
     "data": {
      "text/html": [
       "<div>\n",
       "<style scoped>\n",
       "    .dataframe tbody tr th:only-of-type {\n",
       "        vertical-align: middle;\n",
       "    }\n",
       "\n",
       "    .dataframe tbody tr th {\n",
       "        vertical-align: top;\n",
       "    }\n",
       "\n",
       "    .dataframe thead th {\n",
       "        text-align: right;\n",
       "    }\n",
       "</style>\n",
       "<table border=\"1\" class=\"dataframe\">\n",
       "  <thead>\n",
       "    <tr style=\"text-align: right;\">\n",
       "      <th></th>\n",
       "      <th>class</th>\n",
       "      <th>t0</th>\n",
       "      <th>t1</th>\n",
       "      <th>t2</th>\n",
       "      <th>t3</th>\n",
       "      <th>t4</th>\n",
       "      <th>t5</th>\n",
       "      <th>t6</th>\n",
       "      <th>t7</th>\n",
       "      <th>t8</th>\n",
       "      <th>t9</th>\n",
       "      <th>t10</th>\n",
       "      <th>t11</th>\n",
       "      <th>t12</th>\n",
       "      <th>t13</th>\n",
       "    </tr>\n",
       "  </thead>\n",
       "  <tbody>\n",
       "    <tr>\n",
       "      <th>321097</th>\n",
       "      <td>1</td>\n",
       "      <td>0.0</td>\n",
       "      <td>1.0</td>\n",
       "      <td>146.803696</td>\n",
       "      <td>146.523499</td>\n",
       "      <td>148.061279</td>\n",
       "      <td>2.687050</td>\n",
       "      <td>2.307853</td>\n",
       "      <td>11.867569</td>\n",
       "      <td>2.337752</td>\n",
       "      <td>1.718121</td>\n",
       "      <td>-7.890529</td>\n",
       "      <td>3.511095</td>\n",
       "      <td>2.936168</td>\n",
       "      <td>14.708332</td>\n",
       "    </tr>\n",
       "    <tr>\n",
       "      <th>369319</th>\n",
       "      <td>0</td>\n",
       "      <td>0.0</td>\n",
       "      <td>1.0</td>\n",
       "      <td>147.726944</td>\n",
       "      <td>142.700180</td>\n",
       "      <td>135.994049</td>\n",
       "      <td>1.718374</td>\n",
       "      <td>1.884356</td>\n",
       "      <td>9.526067</td>\n",
       "      <td>1.167531</td>\n",
       "      <td>-1.294433</td>\n",
       "      <td>9.130569</td>\n",
       "      <td>2.348968</td>\n",
       "      <td>2.505262</td>\n",
       "      <td>12.324208</td>\n",
       "    </tr>\n",
       "    <tr>\n",
       "      <th>257867</th>\n",
       "      <td>1</td>\n",
       "      <td>0.0</td>\n",
       "      <td>1.0</td>\n",
       "      <td>146.221893</td>\n",
       "      <td>144.206421</td>\n",
       "      <td>132.246872</td>\n",
       "      <td>1.454083</td>\n",
       "      <td>2.776567</td>\n",
       "      <td>7.053739</td>\n",
       "      <td>0.315222</td>\n",
       "      <td>-2.041615</td>\n",
       "      <td>5.701283</td>\n",
       "      <td>1.778443</td>\n",
       "      <td>3.617439</td>\n",
       "      <td>9.583660</td>\n",
       "    </tr>\n",
       "    <tr>\n",
       "      <th>6870</th>\n",
       "      <td>0</td>\n",
       "      <td>0.0</td>\n",
       "      <td>1.0</td>\n",
       "      <td>148.394958</td>\n",
       "      <td>137.128250</td>\n",
       "      <td>108.684502</td>\n",
       "      <td>1.080449</td>\n",
       "      <td>0.934561</td>\n",
       "      <td>12.131411</td>\n",
       "      <td>-1.053084</td>\n",
       "      <td>-0.607379</td>\n",
       "      <td>-5.108250</td>\n",
       "      <td>1.576523</td>\n",
       "      <td>1.206285</td>\n",
       "      <td>14.707682</td>\n",
       "    </tr>\n",
       "    <tr>\n",
       "      <th>477050</th>\n",
       "      <td>0</td>\n",
       "      <td>0.0</td>\n",
       "      <td>1.0</td>\n",
       "      <td>147.810623</td>\n",
       "      <td>142.992310</td>\n",
       "      <td>125.166321</td>\n",
       "      <td>1.168441</td>\n",
       "      <td>1.926482</td>\n",
       "      <td>15.939886</td>\n",
       "      <td>-0.953198</td>\n",
       "      <td>-0.629208</td>\n",
       "      <td>-12.651587</td>\n",
       "      <td>1.599050</td>\n",
       "      <td>2.570897</td>\n",
       "      <td>19.383097</td>\n",
       "    </tr>\n",
       "  </tbody>\n",
       "</table>\n",
       "</div>"
      ],
      "text/plain": [
       "        class   t0   t1          t2          t3          t4        t5  \\\n",
       "321097      1  0.0  1.0  146.803696  146.523499  148.061279  2.687050   \n",
       "369319      0  0.0  1.0  147.726944  142.700180  135.994049  1.718374   \n",
       "257867      1  0.0  1.0  146.221893  144.206421  132.246872  1.454083   \n",
       "6870        0  0.0  1.0  148.394958  137.128250  108.684502  1.080449   \n",
       "477050      0  0.0  1.0  147.810623  142.992310  125.166321  1.168441   \n",
       "\n",
       "              t6         t7        t8        t9        t10       t11  \\\n",
       "321097  2.307853  11.867569  2.337752  1.718121  -7.890529  3.511095   \n",
       "369319  1.884356   9.526067  1.167531 -1.294433   9.130569  2.348968   \n",
       "257867  2.776567   7.053739  0.315222 -2.041615   5.701283  1.778443   \n",
       "6870    0.934561  12.131411 -1.053084 -0.607379  -5.108250  1.576523   \n",
       "477050  1.926482  15.939886 -0.953198 -0.629208 -12.651587  1.599050   \n",
       "\n",
       "             t12        t13  \n",
       "321097  2.936168  14.708332  \n",
       "369319  2.505262  12.324208  \n",
       "257867  3.617439   9.583660  \n",
       "6870    1.206285  14.707682  \n",
       "477050  2.570897  19.383097  "
      ]
     },
     "execution_count": 2,
     "metadata": {},
     "output_type": "execute_result"
    }
   ],
   "source": [
    "df = pd.read_csv(\"skin_disease.csv\")\n",
    "df = df.sample(frac=1)\n",
    "df = df.iloc[0:100000]\n",
    "df.head()"
   ]
  },
  {
   "cell_type": "code",
   "execution_count": 3,
   "metadata": {},
   "outputs": [],
   "source": [
    "X = df.drop(columns=[\"class\"])\n",
    "y = df[\"class\"]"
   ]
  },
  {
   "cell_type": "markdown",
   "metadata": {},
   "source": [
    "> Split the data into a train and test set. Use 40% of the data for the test set."
   ]
  },
  {
   "cell_type": "code",
   "execution_count": 4,
   "metadata": {
    "solution2": "hidden",
    "solution2_first": true
   },
   "outputs": [],
   "source": [
    "X_train, X_test, y_train, y_test = train_test_split(X, y, test_size=0.4,random_state=42)"
   ]
  },
  {
   "cell_type": "code",
   "execution_count": null,
   "metadata": {
    "solution2": "hidden"
   },
   "outputs": [],
   "source": [
    "X_train, X_test, y_train, y_test = train_test_split(X, y, test_size=0.4, random_state=42)"
   ]
  },
  {
   "cell_type": "markdown",
   "metadata": {},
   "source": [
    "We define our Multi Layer Perceptron with 2 hidden layers. This time we use the [MLPClassifier](https://scikit-learn.org/stable/modules/generated/sklearn.neural_network.MLPClassifier.html) implementation from Scikit-Learn."
   ]
  },
  {
   "cell_type": "code",
   "execution_count": 5,
   "metadata": {},
   "outputs": [],
   "source": [
    "mlp = MLPClassifier(hidden_layer_sizes=(30,4),\n",
    "                    activation='relu',  # activation function\n",
    "                    solver='adam',  # optimizer\n",
    "                    batch_size=1024)  # size of minibatches"
   ]
  },
  {
   "cell_type": "markdown",
   "metadata": {},
   "source": [
    "> Train the neural network on `X_train`, `y_train` and plot the loss by accessing the attribute `loss_curve_`."
   ]
  },
  {
   "cell_type": "code",
   "execution_count": 6,
   "metadata": {},
   "outputs": [],
   "source": [
    "def plot_costs(costs):\n",
    "    fig, ax = plt.subplots()\n",
    "    ax.plot(costs)\n",
    "    ax.set_title(\"Loss curve\")\n",
    "    plt.show()"
   ]
  },
  {
   "cell_type": "code",
   "execution_count": null,
   "metadata": {
    "solution2": "hidden",
    "solution2_first": true
   },
   "outputs": [],
   "source": []
  },
  {
   "cell_type": "code",
   "execution_count": 7,
   "metadata": {
    "solution2": "hidden"
   },
   "outputs": [
    {
     "data": {
      "image/png": "[encoded data removed]",
      "text/plain": [
       "<Figure size 432x288 with 1 Axes>"
      ]
     },
     "metadata": {
      "needs_background": "light"
     },
     "output_type": "display_data"
    }
   ],
   "source": [
    "mlp.fit(X_train, y_train)\n",
    "plot_costs(mlp.loss_curve_)"
   ]
  },
  {
   "cell_type": "markdown",
   "metadata": {},
   "source": [
    "> Implement your own predict function. For that we'll need an activation function for the hidden layers, in our case `relu` and for the output layer `sigmoid`."
   ]
  },
  {
   "cell_type": "code",
   "execution_count": 17,
   "metadata": {
    "solution2": "hidden",
    "solution2_first": true
   },
   "outputs": [],
   "source": [
    "def relu(x):\n",
    "    ### START YOUR CODE ###\n",
    "    return np.max(0,x)\n",
    "    ### END YOUR CODE ###\n",
    "    "
   ]
  },
  {
   "cell_type": "code",
   "execution_count": 19,
   "metadata": {
    "solution2": "hidden"
   },
   "outputs": [],
   "source": [
    "def relu(x):\n",
    "    return np.maximum(0, x)"
   ]
  },
  {
   "cell_type": "code",
   "execution_count": 21,
   "metadata": {
    "solution2": "hidden",
    "solution2_first": true
   },
   "outputs": [],
   "source": [
    "def sigmoid(x):\n",
    "    ### START YOUR CODE ###\n",
    "    sig = 1 / ( 1+ np.exp(-x))\n",
    "    ### END YOUR CODE ###\n",
    "    return sig"
   ]
  },
  {
   "cell_type": "code",
   "execution_count": null,
   "metadata": {
    "solution2": "hidden"
   },
   "outputs": [],
   "source": [
    "def sigmoid(x):\n",
    "    return 1/(1+np.exp(-x))"
   ]
  },
  {
   "cell_type": "code",
   "execution_count": null,
   "metadata": {
    "solution2": "hidden",
    "solution2_first": true
   },
   "outputs": [],
   "source": [
    "def predict(mlp, X):\n",
    "    ### START YOUR CODE ###\n",
    "    \n",
    "    # define the first activations, e.g. inputs\n",
    "    \n",
    "    # forward propagate through layers\n",
    "            \n",
    "    # last layer output activation `sigmoid`\n",
    "    \n",
    "    # transform to 1-D and threshold\n",
    "    \n",
    "    ### END YOUR CODE ###\n",
    "    \n",
    "    pass"
   ]
  },
  {
   "cell_type": "code",
   "execution_count": 13,
   "metadata": {
    "solution2": "hidden"
   },
   "outputs": [],
   "source": [
    "def predict(mlp, X):\n",
    "    # define the first activations, e.g. inputs\n",
    "    A = X\n",
    "    \n",
    "    # forward propagate through layers\n",
    "    for i, (W, B) in enumerate(zip(mlp.coefs_, mlp.intercepts_)):\n",
    "        z = A.dot(W) + B\n",
    "        # if hidden layer, apply `relu`\n",
    "        if i != mlp.n_layers_ - 2:\n",
    "            A = relu(z)\n",
    "            \n",
    "    # last layer output activation `sigmoid`\n",
    "    out = sigmoid(z)  \n",
    "    # transform to 1-D and threshold\n",
    "    out = np.squeeze(out)\n",
    "    out = np.array(out > 0.5, dtype=int)\n",
    "    \n",
    "    return out"
   ]
  },
  {
   "cell_type": "markdown",
   "metadata": {},
   "source": [
    "> Test your implementation with the scikit-learn predict function."
   ]
  },
  {
   "cell_type": "code",
   "execution_count": 22,
   "metadata": {
    "solution2": "hidden",
    "solution2_first": true
   },
   "outputs": [
    {
     "name": "stdout",
     "output_type": "stream",
     "text": [
      "Are the outputs the same: True\n"
     ]
    }
   ],
   "source": [
    "y_pred_scikit = mlp.predict(X_test)\n",
    "y_pred_own = predict(mlp,X_test)\n",
    "\n",
    "print('Are the outputs the same: %s' % (y_pred_scikit == y_pred_own).all())"
   ]
  },
  {
   "cell_type": "code",
   "execution_count": 23,
   "metadata": {
    "solution2": "hidden"
   },
   "outputs": [
    {
     "name": "stdout",
     "output_type": "stream",
     "text": [
      "Are the outputs the same: True\n"
     ]
    }
   ],
   "source": [
    "y_pred_scikit = mlp.predict(X_test)\n",
    "y_pred_own = predict(mlp, X_test.values)\n",
    "\n",
    "print('Are the outputs the same: %s' % (y_pred_scikit == y_pred_own).all())"
   ]
  },
  {
   "cell_type": "markdown",
   "metadata": {},
   "source": [
    "> Predict the values on the test set and calculate the accuracy and the f1-score."
   ]
  },
  {
   "cell_type": "code",
   "execution_count": null,
   "metadata": {
    "solution2": "hidden",
    "solution2_first": true
   },
   "outputs": [],
   "source": []
  },
  {
   "cell_type": "code",
   "execution_count": 31,
   "metadata": {
    "solution2": "hidden"
   },
   "outputs": [
    {
     "name": "stdout",
     "output_type": "stream",
     "text": [
      "Accuracy: 0.9059\n",
      "F1: 0.0000\n"
     ]
    }
   ],
   "source": [
    "y_pred = predict(mlp, X_test.values)\n",
    "\n",
    "accuracy = accuracy_score(y_test, y_pred)\n",
    "f1 = f1_score(y_test, y_pred)\n",
    "\n",
    "print(\"Accuracy: %.4f\" % accuracy)\n",
    "print(\"F1: %.4f\" % f1)"
   ]
  },
  {
   "cell_type": "markdown",
   "metadata": {},
   "source": [
    "## MLP for Skin disease dataset using `TensorFlow`\n",
    "In practice, the MLP from `scikit-learn` is never used because of the lack of customisation and the absence of GPU training. `TensorFlow` is a library specialised in deep learning and therefore also has implementations for advanced techniques. Thus the section below is a quick introduction to how the same network can be implemented using `TensorFlow`. The networks' results do not need to be the same, since as mentioned above, the `scikit-learn` implementation can not be as customised as the `TensorFlow` one. \n",
    "\n",
    "If `TensorFlow` is not already installed on the environment, it can be done using the \"magic\" cell from below. If it is already installed, make sure to use version `2.3.1`. Higher versions should also work but weren't tested."
   ]
  },
  {
   "cell_type": "code",
   "execution_count": null,
   "metadata": {
    "scrolled": true
   },
   "outputs": [],
   "source": [
    "!pip install tensorflow==2.3.1"
   ]
  },
  {
   "cell_type": "code",
   "execution_count": 26,
   "metadata": {},
   "outputs": [
    {
     "data": {
      "text/plain": [
       "'2.8.0'"
      ]
     },
     "execution_count": 26,
     "metadata": {},
     "output_type": "execute_result"
    }
   ],
   "source": [
    "import tensorflow as tf\n",
    "\n",
    "#assert tf.__version__ == '2.3.1'\n",
    "tf.__version__"
   ]
  },
  {
   "cell_type": "markdown",
   "metadata": {},
   "source": [
    "A model in `TensorFlow` can be implemented using the `Sequential API`, which enables for easy extensibility by calling `.add()`. To implement the same MLP as above, we can sequentially add `Dense` layers to the model. Here the customization possibilities compared to `scikit-learn` is evident. For example, the activation function can be set for each layer separately, which was impossible before."
   ]
  },
  {
   "cell_type": "code",
   "execution_count": 27,
   "metadata": {},
   "outputs": [
    {
     "name": "stdout",
     "output_type": "stream",
     "text": [
      "Model: \"sequential\"\n",
      "_________________________________________________________________\n",
      " Layer (type)                Output Shape              Param #   \n",
      "=================================================================\n",
      " dense (Dense)               (None, 30)                450       \n",
      "                                                                 \n",
      " dense_1 (Dense)             (None, 15)                465       \n",
      "                                                                 \n",
      " dense_2 (Dense)             (None, 1)                 16        \n",
      "                                                                 \n",
      "=================================================================\n",
      "Total params: 931\n",
      "Trainable params: 931\n",
      "Non-trainable params: 0\n",
      "_________________________________________________________________\n"
     ]
    }
   ],
   "source": [
    "dataset_dim = X_train.shape[1]\n",
    "\n",
    "model = tf.keras.models.Sequential()\n",
    "model.add(tf.keras.layers.Dense(30, input_shape=(dataset_dim, ), activation='relu'))\n",
    "model.add(tf.keras.layers.Dense(15, activation='relu'))\n",
    "model.add(tf.keras.layers.Dense(1, activation='sigmoid'))\n",
    "model.summary()"
   ]
  },
  {
   "cell_type": "markdown",
   "metadata": {},
   "source": [
    "After defining the model, it needs to be compiled using an optimizer and loss function. In our case, we'll use adam as optimizer and binary cross-entropy as loss. Now the model can be trained by specifying the number of epochs and the batch size. "
   ]
  },
  {
   "cell_type": "code",
   "execution_count": 28,
   "metadata": {},
   "outputs": [
    {
     "name": "stdout",
     "output_type": "stream",
     "text": [
      "Epoch 1/150\n",
      "59/59 [==============================] - 1s 1ms/step - loss: 0.2897 - accuracy: 0.8982\n",
      "Epoch 2/150\n",
      "59/59 [==============================] - 0s 1ms/step - loss: 0.2318 - accuracy: 0.9125\n",
      "Epoch 3/150\n",
      "59/59 [==============================] - 0s 1ms/step - loss: 0.2167 - accuracy: 0.9153\n",
      "Epoch 4/150\n",
      "59/59 [==============================] - 0s 1ms/step - loss: 0.2058 - accuracy: 0.9189\n",
      "Epoch 5/150\n",
      "59/59 [==============================] - 0s 1ms/step - loss: 0.1968 - accuracy: 0.9226\n",
      "Epoch 6/150\n",
      "59/59 [==============================] - 0s 1ms/step - loss: 0.1906 - accuracy: 0.9246\n",
      "Epoch 7/150\n",
      "59/59 [==============================] - 0s 1ms/step - loss: 0.1835 - accuracy: 0.9272\n",
      "Epoch 8/150\n",
      "59/59 [==============================] - 0s 1ms/step - loss: 0.1787 - accuracy: 0.9293\n",
      "Epoch 9/150\n",
      "59/59 [==============================] - 0s 1ms/step - loss: 0.1763 - accuracy: 0.9306\n",
      "Epoch 10/150\n",
      "59/59 [==============================] - 0s 1ms/step - loss: 0.1718 - accuracy: 0.9313\n",
      "Epoch 11/150\n",
      "59/59 [==============================] - 0s 1ms/step - loss: 0.1689 - accuracy: 0.9331\n",
      "Epoch 12/150\n",
      "59/59 [==============================] - 0s 1ms/step - loss: 0.1647 - accuracy: 0.9347\n",
      "Epoch 13/150\n",
      "59/59 [==============================] - 0s 1ms/step - loss: 0.1624 - accuracy: 0.9355\n",
      "Epoch 14/150\n",
      "59/59 [==============================] - 0s 1ms/step - loss: 0.1606 - accuracy: 0.9363\n",
      "Epoch 15/150\n",
      "59/59 [==============================] - 0s 1ms/step - loss: 0.1629 - accuracy: 0.9346\n",
      "Epoch 16/150\n",
      "59/59 [==============================] - 0s 931us/step - loss: 0.1578 - accuracy: 0.9373\n",
      "Epoch 17/150\n",
      "59/59 [==============================] - 0s 914us/step - loss: 0.1576 - accuracy: 0.9372\n",
      "Epoch 18/150\n",
      "59/59 [==============================] - 0s 931us/step - loss: 0.1556 - accuracy: 0.9383\n",
      "Epoch 19/150\n",
      "59/59 [==============================] - 0s 914us/step - loss: 0.1541 - accuracy: 0.9384\n",
      "Epoch 20/150\n",
      "59/59 [==============================] - 0s 931us/step - loss: 0.1532 - accuracy: 0.9392\n",
      "Epoch 21/150\n",
      "59/59 [==============================] - 0s 948us/step - loss: 0.1536 - accuracy: 0.9390\n",
      "Epoch 22/150\n",
      "59/59 [==============================] - 0s 931us/step - loss: 0.1528 - accuracy: 0.9392\n",
      "Epoch 23/150\n",
      "59/59 [==============================] - 0s 1ms/step - loss: 0.1541 - accuracy: 0.9389\n",
      "Epoch 24/150\n",
      "59/59 [==============================] - 0s 983us/step - loss: 0.1527 - accuracy: 0.9391\n",
      "Epoch 25/150\n",
      "59/59 [==============================] - 0s 931us/step - loss: 0.1506 - accuracy: 0.9405\n",
      "Epoch 26/150\n",
      "59/59 [==============================] - 0s 914us/step - loss: 0.1506 - accuracy: 0.9404\n",
      "Epoch 27/150\n",
      "59/59 [==============================] - 0s 914us/step - loss: 0.1493 - accuracy: 0.9413\n",
      "Epoch 28/150\n",
      "59/59 [==============================] - 0s 931us/step - loss: 0.1501 - accuracy: 0.9402\n",
      "Epoch 29/150\n",
      "59/59 [==============================] - 0s 1000us/step - loss: 0.1514 - accuracy: 0.9399\n",
      "Epoch 30/150\n",
      "59/59 [==============================] - 0s 1ms/step - loss: 0.1496 - accuracy: 0.9412\n",
      "Epoch 31/150\n",
      "59/59 [==============================] - 0s 1000us/step - loss: 0.1478 - accuracy: 0.9419\n",
      "Epoch 32/150\n",
      "59/59 [==============================] - 0s 931us/step - loss: 0.1505 - accuracy: 0.9405\n",
      "Epoch 33/150\n",
      "59/59 [==============================] - 0s 931us/step - loss: 0.1490 - accuracy: 0.9408\n",
      "Epoch 34/150\n",
      "59/59 [==============================] - 0s 897us/step - loss: 0.1469 - accuracy: 0.9419\n",
      "Epoch 35/150\n",
      "59/59 [==============================] - 0s 931us/step - loss: 0.1473 - accuracy: 0.9420\n",
      "Epoch 36/150\n",
      "59/59 [==============================] - 0s 931us/step - loss: 0.1459 - accuracy: 0.9424\n",
      "Epoch 37/150\n",
      "59/59 [==============================] - 0s 965us/step - loss: 0.1483 - accuracy: 0.9412\n",
      "Epoch 38/150\n",
      "59/59 [==============================] - 0s 948us/step - loss: 0.1457 - accuracy: 0.9420\n",
      "Epoch 39/150\n",
      "59/59 [==============================] - 0s 965us/step - loss: 0.1448 - accuracy: 0.9424\n",
      "Epoch 40/150\n",
      "59/59 [==============================] - 0s 1ms/step - loss: 0.1442 - accuracy: 0.9428\n",
      "Epoch 41/150\n",
      "59/59 [==============================] - 0s 1ms/step - loss: 0.1458 - accuracy: 0.9423\n",
      "Epoch 42/150\n",
      "59/59 [==============================] - 0s 1ms/step - loss: 0.1438 - accuracy: 0.9430\n",
      "Epoch 43/150\n",
      "59/59 [==============================] - 0s 1000us/step - loss: 0.1435 - accuracy: 0.9433\n",
      "Epoch 44/150\n",
      "59/59 [==============================] - 0s 983us/step - loss: 0.1431 - accuracy: 0.9437\n",
      "Epoch 45/150\n",
      "59/59 [==============================] - 0s 931us/step - loss: 0.1430 - accuracy: 0.9431\n",
      "Epoch 46/150\n",
      "59/59 [==============================] - 0s 931us/step - loss: 0.1433 - accuracy: 0.9439\n",
      "Epoch 47/150\n",
      "59/59 [==============================] - 0s 914us/step - loss: 0.1430 - accuracy: 0.9439\n",
      "Epoch 48/150\n",
      "59/59 [==============================] - 0s 914us/step - loss: 0.1423 - accuracy: 0.9439\n",
      "Epoch 49/150\n",
      "59/59 [==============================] - 0s 931us/step - loss: 0.1406 - accuracy: 0.9451\n",
      "Epoch 50/150\n",
      "59/59 [==============================] - 0s 966us/step - loss: 0.1414 - accuracy: 0.9441\n",
      "Epoch 51/150\n",
      "59/59 [==============================] - 0s 966us/step - loss: 0.1426 - accuracy: 0.9443\n",
      "Epoch 52/150\n",
      "59/59 [==============================] - 0s 914us/step - loss: 0.1434 - accuracy: 0.9434\n",
      "Epoch 53/150\n",
      "59/59 [==============================] - 0s 966us/step - loss: 0.1428 - accuracy: 0.9434\n",
      "Epoch 54/150\n",
      "59/59 [==============================] - 0s 897us/step - loss: 0.1431 - accuracy: 0.9438\n",
      "Epoch 55/150\n",
      "59/59 [==============================] - 0s 965us/step - loss: 0.1399 - accuracy: 0.9453\n",
      "Epoch 56/150\n",
      "59/59 [==============================] - 0s 931us/step - loss: 0.1403 - accuracy: 0.9449\n",
      "Epoch 57/150\n",
      "59/59 [==============================] - 0s 948us/step - loss: 0.1401 - accuracy: 0.9451\n",
      "Epoch 58/150\n",
      "59/59 [==============================] - 0s 966us/step - loss: 0.1411 - accuracy: 0.9438\n",
      "Epoch 59/150\n",
      "59/59 [==============================] - 0s 914us/step - loss: 0.1406 - accuracy: 0.9448\n",
      "Epoch 60/150\n",
      "59/59 [==============================] - 0s 914us/step - loss: 0.1394 - accuracy: 0.9457\n",
      "Epoch 61/150\n",
      "59/59 [==============================] - 0s 914us/step - loss: 0.1390 - accuracy: 0.9452\n",
      "Epoch 62/150\n",
      "59/59 [==============================] - 0s 931us/step - loss: 0.1396 - accuracy: 0.9449\n",
      "Epoch 63/150\n",
      "59/59 [==============================] - 0s 966us/step - loss: 0.1392 - accuracy: 0.9451\n",
      "Epoch 64/150\n",
      "59/59 [==============================] - 0s 897us/step - loss: 0.1407 - accuracy: 0.9444\n",
      "Epoch 65/150\n",
      "59/59 [==============================] - 0s 897us/step - loss: 0.1381 - accuracy: 0.9457\n",
      "Epoch 66/150\n",
      "59/59 [==============================] - 0s 914us/step - loss: 0.1380 - accuracy: 0.9457\n",
      "Epoch 67/150\n",
      "59/59 [==============================] - 0s 931us/step - loss: 0.1366 - accuracy: 0.9461\n",
      "Epoch 68/150\n",
      "59/59 [==============================] - 0s 931us/step - loss: 0.1380 - accuracy: 0.9457\n",
      "Epoch 69/150\n",
      "59/59 [==============================] - 0s 914us/step - loss: 0.1397 - accuracy: 0.9446\n",
      "Epoch 70/150\n",
      "59/59 [==============================] - 0s 879us/step - loss: 0.1386 - accuracy: 0.9451\n",
      "Epoch 71/150\n",
      "59/59 [==============================] - 0s 914us/step - loss: 0.1373 - accuracy: 0.9463\n",
      "Epoch 72/150\n",
      "59/59 [==============================] - 0s 914us/step - loss: 0.1371 - accuracy: 0.9457\n",
      "Epoch 73/150\n",
      "59/59 [==============================] - 0s 965us/step - loss: 0.1364 - accuracy: 0.9461\n",
      "Epoch 74/150\n",
      "59/59 [==============================] - 0s 948us/step - loss: 0.1369 - accuracy: 0.9460\n",
      "Epoch 75/150\n",
      "59/59 [==============================] - 0s 914us/step - loss: 0.1369 - accuracy: 0.9450\n",
      "Epoch 76/150\n",
      "59/59 [==============================] - 0s 966us/step - loss: 0.1353 - accuracy: 0.9465\n",
      "Epoch 77/150\n",
      "59/59 [==============================] - 0s 948us/step - loss: 0.1362 - accuracy: 0.9462\n",
      "Epoch 78/150\n",
      "59/59 [==============================] - 0s 1ms/step - loss: 0.1360 - accuracy: 0.9466\n",
      "Epoch 79/150\n",
      "59/59 [==============================] - 0s 1ms/step - loss: 0.1357 - accuracy: 0.9463\n",
      "Epoch 80/150\n",
      "59/59 [==============================] - 0s 1ms/step - loss: 0.1357 - accuracy: 0.9461\n",
      "Epoch 81/150\n",
      "59/59 [==============================] - 0s 966us/step - loss: 0.1347 - accuracy: 0.9462\n",
      "Epoch 82/150\n",
      "59/59 [==============================] - 0s 1000us/step - loss: 0.1364 - accuracy: 0.9454\n",
      "Epoch 83/150\n",
      "59/59 [==============================] - 0s 1ms/step - loss: 0.1368 - accuracy: 0.9457\n",
      "Epoch 84/150\n",
      "59/59 [==============================] - 0s 1ms/step - loss: 0.1341 - accuracy: 0.9466\n",
      "Epoch 85/150\n",
      "59/59 [==============================] - 0s 1ms/step - loss: 0.1353 - accuracy: 0.9461\n",
      "Epoch 86/150\n",
      "59/59 [==============================] - 0s 1ms/step - loss: 0.1351 - accuracy: 0.9470\n",
      "Epoch 87/150\n",
      "59/59 [==============================] - 0s 966us/step - loss: 0.1377 - accuracy: 0.9445\n",
      "Epoch 88/150\n",
      "59/59 [==============================] - 0s 914us/step - loss: 0.1352 - accuracy: 0.9457\n",
      "Epoch 89/150\n",
      "59/59 [==============================] - 0s 897us/step - loss: 0.1328 - accuracy: 0.9469\n",
      "Epoch 90/150\n",
      "59/59 [==============================] - 0s 897us/step - loss: 0.1340 - accuracy: 0.9459\n",
      "Epoch 91/150\n",
      "59/59 [==============================] - 0s 914us/step - loss: 0.1342 - accuracy: 0.9464\n",
      "Epoch 92/150\n",
      "59/59 [==============================] - 0s 914us/step - loss: 0.1322 - accuracy: 0.9474\n",
      "Epoch 93/150\n",
      "59/59 [==============================] - 0s 914us/step - loss: 0.1326 - accuracy: 0.9468\n",
      "Epoch 94/150\n",
      "59/59 [==============================] - 0s 845us/step - loss: 0.1320 - accuracy: 0.9468\n",
      "Epoch 95/150\n",
      "59/59 [==============================] - 0s 983us/step - loss: 0.1345 - accuracy: 0.9451\n",
      "Epoch 96/150\n",
      "59/59 [==============================] - 0s 983us/step - loss: 0.1318 - accuracy: 0.9480\n",
      "Epoch 97/150\n",
      "59/59 [==============================] - 0s 948us/step - loss: 0.1316 - accuracy: 0.9473\n",
      "Epoch 98/150\n",
      "59/59 [==============================] - 0s 914us/step - loss: 0.1327 - accuracy: 0.9462\n",
      "Epoch 99/150\n",
      "59/59 [==============================] - 0s 931us/step - loss: 0.1329 - accuracy: 0.9466\n",
      "Epoch 100/150\n",
      "59/59 [==============================] - 0s 931us/step - loss: 0.1336 - accuracy: 0.9461\n",
      "Epoch 101/150\n",
      "59/59 [==============================] - 0s 931us/step - loss: 0.1324 - accuracy: 0.9461\n",
      "Epoch 102/150\n",
      "59/59 [==============================] - 0s 931us/step - loss: 0.1319 - accuracy: 0.9466\n",
      "Epoch 103/150\n",
      "59/59 [==============================] - 0s 1ms/step - loss: 0.1310 - accuracy: 0.9477\n",
      "Epoch 104/150\n",
      "59/59 [==============================] - 0s 1ms/step - loss: 0.1329 - accuracy: 0.9464\n",
      "Epoch 105/150\n",
      "59/59 [==============================] - 0s 1ms/step - loss: 0.1321 - accuracy: 0.9465\n",
      "Epoch 106/150\n",
      "59/59 [==============================] - 0s 1ms/step - loss: 0.1317 - accuracy: 0.9466\n",
      "Epoch 107/150\n",
      "59/59 [==============================] - 0s 960us/step - loss: 0.1315 - accuracy: 0.9468\n",
      "Epoch 108/150\n",
      "59/59 [==============================] - 0s 954us/step - loss: 0.1341 - accuracy: 0.9458\n",
      "Epoch 109/150\n",
      "59/59 [==============================] - 0s 930us/step - loss: 0.1315 - accuracy: 0.9466\n",
      "Epoch 110/150\n",
      "59/59 [==============================] - 0s 931us/step - loss: 0.1309 - accuracy: 0.9474\n",
      "Epoch 111/150\n",
      "59/59 [==============================] - 0s 931us/step - loss: 0.1314 - accuracy: 0.9467\n",
      "Epoch 112/150\n",
      "59/59 [==============================] - 0s 947us/step - loss: 0.1296 - accuracy: 0.9475\n",
      "Epoch 113/150\n",
      "59/59 [==============================] - 0s 914us/step - loss: 0.1320 - accuracy: 0.9459\n",
      "Epoch 114/150\n",
      "59/59 [==============================] - 0s 965us/step - loss: 0.1290 - accuracy: 0.9482\n",
      "Epoch 115/150\n",
      "59/59 [==============================] - 0s 1ms/step - loss: 0.1298 - accuracy: 0.9477\n",
      "Epoch 116/150\n",
      "59/59 [==============================] - 0s 1ms/step - loss: 0.1300 - accuracy: 0.9472\n",
      "Epoch 117/150\n",
      "59/59 [==============================] - 0s 1ms/step - loss: 0.1287 - accuracy: 0.9477\n",
      "Epoch 118/150\n",
      "59/59 [==============================] - 0s 948us/step - loss: 0.1296 - accuracy: 0.9465\n",
      "Epoch 119/150\n",
      "59/59 [==============================] - 0s 966us/step - loss: 0.1310 - accuracy: 0.9465\n",
      "Epoch 120/150\n",
      "59/59 [==============================] - 0s 931us/step - loss: 0.1300 - accuracy: 0.9470\n",
      "Epoch 121/150\n",
      "59/59 [==============================] - 0s 931us/step - loss: 0.1283 - accuracy: 0.9485\n",
      "Epoch 122/150\n",
      "59/59 [==============================] - 0s 915us/step - loss: 0.1299 - accuracy: 0.9475\n",
      "Epoch 123/150\n",
      "59/59 [==============================] - 0s 897us/step - loss: 0.1311 - accuracy: 0.9469\n",
      "Epoch 124/150\n",
      "59/59 [==============================] - 0s 948us/step - loss: 0.1302 - accuracy: 0.9470\n",
      "Epoch 125/150\n",
      "59/59 [==============================] - 0s 897us/step - loss: 0.1286 - accuracy: 0.9479\n",
      "Epoch 126/150\n",
      "59/59 [==============================] - 0s 900us/step - loss: 0.1288 - accuracy: 0.9474\n",
      "Epoch 127/150\n",
      "59/59 [==============================] - 0s 948us/step - loss: 0.1299 - accuracy: 0.9468\n",
      "Epoch 128/150\n",
      "59/59 [==============================] - 0s 897us/step - loss: 0.1295 - accuracy: 0.9472\n",
      "Epoch 129/150\n",
      "59/59 [==============================] - 0s 897us/step - loss: 0.1270 - accuracy: 0.9484\n",
      "Epoch 130/150\n",
      "59/59 [==============================] - 0s 914us/step - loss: 0.1279 - accuracy: 0.9475\n",
      "Epoch 131/150\n",
      "59/59 [==============================] - 0s 911us/step - loss: 0.1277 - accuracy: 0.9483\n",
      "Epoch 132/150\n",
      "59/59 [==============================] - 0s 931us/step - loss: 0.1274 - accuracy: 0.9485\n",
      "Epoch 133/150\n",
      "59/59 [==============================] - 0s 884us/step - loss: 0.1295 - accuracy: 0.9474\n",
      "Epoch 134/150\n",
      "59/59 [==============================] - 0s 910us/step - loss: 0.1282 - accuracy: 0.9480\n",
      "Epoch 135/150\n",
      "59/59 [==============================] - 0s 1ms/step - loss: 0.1283 - accuracy: 0.9471\n",
      "Epoch 136/150\n",
      "59/59 [==============================] - 0s 1ms/step - loss: 0.1276 - accuracy: 0.9484\n",
      "Epoch 137/150\n",
      "59/59 [==============================] - 0s 931us/step - loss: 0.1266 - accuracy: 0.9488\n",
      "Epoch 138/150\n",
      "59/59 [==============================] - 0s 879us/step - loss: 0.1261 - accuracy: 0.9484\n",
      "Epoch 139/150\n",
      "59/59 [==============================] - 0s 914us/step - loss: 0.1290 - accuracy: 0.9473\n",
      "Epoch 140/150\n",
      "59/59 [==============================] - 0s 897us/step - loss: 0.1274 - accuracy: 0.9480\n",
      "Epoch 141/150\n",
      "59/59 [==============================] - 0s 948us/step - loss: 0.1276 - accuracy: 0.9489\n",
      "Epoch 142/150\n",
      "59/59 [==============================] - 0s 983us/step - loss: 0.1249 - accuracy: 0.9495\n",
      "Epoch 143/150\n",
      "59/59 [==============================] - 0s 914us/step - loss: 0.1262 - accuracy: 0.9484\n",
      "Epoch 144/150\n",
      "59/59 [==============================] - 0s 914us/step - loss: 0.1271 - accuracy: 0.9478\n",
      "Epoch 145/150\n",
      "59/59 [==============================] - 0s 948us/step - loss: 0.1250 - accuracy: 0.9493\n",
      "Epoch 146/150\n",
      "59/59 [==============================] - 0s 862us/step - loss: 0.1277 - accuracy: 0.9480\n",
      "Epoch 147/150\n",
      "59/59 [==============================] - 0s 914us/step - loss: 0.1255 - accuracy: 0.9494\n",
      "Epoch 148/150\n",
      "59/59 [==============================] - 0s 897us/step - loss: 0.1253 - accuracy: 0.9493\n",
      "Epoch 149/150\n",
      "59/59 [==============================] - 0s 948us/step - loss: 0.1251 - accuracy: 0.9494\n",
      "Epoch 150/150\n",
      "59/59 [==============================] - 0s 914us/step - loss: 0.1261 - accuracy: 0.9491\n"
     ]
    }
   ],
   "source": [
    "adam = tf.keras.optimizers.Adam()\n",
    "model.compile(optimizer=adam, loss='binary_crossentropy', metrics=['accuracy'])\n",
    "\n",
    "history = model.fit(X_train, y_train, batch_size=1024, epochs=150) "
   ]
  },
  {
   "cell_type": "markdown",
   "metadata": {},
   "source": [
    "We can also plot the loss curve using the same function as above."
   ]
  },
  {
   "cell_type": "code",
   "execution_count": 29,
   "metadata": {},
   "outputs": [
    {
     "data": {
      "image/png": "[encoded data removed]",
      "text/plain": [
       "<Figure size 432x288 with 1 Axes>"
      ]
     },
     "metadata": {
      "needs_background": "light"
     },
     "output_type": "display_data"
    }
   ],
   "source": [
    "plot_costs(history.history[\"loss\"])"
   ]
  },
  {
   "cell_type": "markdown",
   "metadata": {},
   "source": [
    "The model can also be evaluated on the test set with familiar code."
   ]
  },
  {
   "cell_type": "code",
   "execution_count": 30,
   "metadata": {},
   "outputs": [
    {
     "name": "stdout",
     "output_type": "stream",
     "text": [
      "Accuracy: 0.9501\n",
      "F1: 0.6928\n"
     ]
    }
   ],
   "source": [
    "y_pred = model.predict(X_test)\n",
    "y_pred = np.array(y_pred > 0.5, dtype=int).squeeze()\n",
    "\n",
    "accuracy = accuracy_score(y_test, y_pred)\n",
    "f1 = f1_score(y_test, y_pred)\n",
    "\n",
    "print(\"Accuracy: %.4f\" % accuracy)\n",
    "print(\"F1: %.4f\" % f1)"
   ]
  }
 ],
 "metadata": {
  "kernelspec": {
   "display_name": "Python 3",
   "language": "python",
   "name": "python3"
  },
  "language_info": {
   "codemirror_mode": {
    "name": "ipython",
    "version": 3
   },
   "file_extension": ".py",
   "mimetype": "text/x-python",
   "name": "python",
   "nbconvert_exporter": "python",
   "pygments_lexer": "ipython3",
   "version": "3.9.12"
  }
 },
 "nbformat": 4,
 "nbformat_minor": 2
}
